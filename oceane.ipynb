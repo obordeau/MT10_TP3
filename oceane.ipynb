{
 "cells": [
  {
   "cell_type": "code",
   "execution_count": 19,
   "metadata": {},
   "outputs": [
    {
     "data": {
      "text/plain": [
       "x + 1"
      ]
     },
     "execution_count": 19,
     "metadata": {},
     "output_type": "execute_result"
    }
   ],
   "source": [
    "q = pow(2,6)\n",
    "p = 2\n",
    "n = 6\n",
    "Fp = GF(p)\n",
    "Fp.modulus()"
   ]
  },
  {
   "cell_type": "code",
   "execution_count": 71,
   "metadata": {},
   "outputs": [
    {
     "data": {
      "text/plain": [
       "X * (X + 1) * (X^2 + X + 1) * (X^3 + X + 1) * (X^3 + X^2 + 1) * (X^6 + X + 1) * (X^6 + X^3 + 1) * (X^6 + X^4 + X^2 + X + 1) * (X^6 + X^4 + X^3 + X + 1) * (X^6 + X^5 + 1) * (X^6 + X^5 + X^2 + X + 1) * (X^6 + X^5 + X^3 + X^2 + 1) * (X^6 + X^5 + X^4 + X + 1) * (X^6 + X^5 + X^4 + X^2 + 1)"
      ]
     },
     "execution_count": 71,
     "metadata": {},
     "output_type": "execute_result"
    }
   ],
   "source": [
    "F2 = GF(2)\n",
    "R.<X> = F2['X']\n",
    "factor(pow(X,64) - X)"
   ]
  },
  {
   "cell_type": "code",
   "execution_count": 30,
   "metadata": {},
   "outputs": [
    {
     "data": {
      "text/plain": [
       "X^64 + X"
      ]
     },
     "execution_count": 30,
     "metadata": {},
     "output_type": "execute_result"
    }
   ],
   "source": [
    "X * (X + 1) * (X^2 + X + 1) * (X^3 + X + 1) * (X^3 + X^2 + 1) * (X^6 + X + 1) * (X^6 + X^3 + 1) * (X^6 + X^4 + X^2 + X + 1) * (X^6 + X^4 + X^3 + X + 1) * (X^6 + X^5 + 1) * (X^6 + X^5 + X^2 + X + 1) * (X^6 + X^5 + X^3 + X^2 + 1) * (X^6 + X^5 + X^4 + X + 1) * (X^6 + X^5 + X^4 + X^2 + 1)"
   ]
  },
  {
   "cell_type": "code",
   "execution_count": 5,
   "metadata": {},
   "outputs": [],
   "source": [
    "def test1(n):\n",
    "    for i in range(1,n + 1):\n",
    "        if moebius(i) not in [-1, 0, 1]:\n",
    "            return False\n",
    "    return True"
   ]
  },
  {
   "cell_type": "code",
   "execution_count": 6,
   "metadata": {},
   "outputs": [
    {
     "data": {
      "text/plain": [
       "True"
      ]
     },
     "execution_count": 6,
     "metadata": {},
     "output_type": "execute_result"
    }
   ],
   "source": [
    "test1(100)"
   ]
  },
  {
   "cell_type": "code",
   "execution_count": 42,
   "metadata": {},
   "outputs": [],
   "source": [
    "def test2():\n",
    "    for n in range(1,101):\n",
    "        sum = 0\n",
    "        for d in divisors(n):\n",
    "            sum += moebius(d)\n",
    "        if (n == 1 and sum != 1) or (n > 1 and sum != 0):\n",
    "            return False\n",
    "    return True"
   ]
  },
  {
   "cell_type": "code",
   "execution_count": 43,
   "metadata": {},
   "outputs": [
    {
     "data": {
      "text/plain": [
       "True"
      ]
     },
     "execution_count": 43,
     "metadata": {},
     "output_type": "execute_result"
    }
   ],
   "source": [
    "test2()"
   ]
  },
  {
   "cell_type": "code",
   "execution_count": 71,
   "metadata": {},
   "outputs": [],
   "source": [
    "P = X^5 + X^4 + X^3 + X^2 +1"
   ]
  },
  {
   "cell_type": "code",
   "execution_count": 72,
   "metadata": {},
   "outputs": [
    {
     "data": {
      "text/plain": [
       "True"
      ]
     },
     "execution_count": 72,
     "metadata": {},
     "output_type": "execute_result"
    }
   ],
   "source": [
    "P.is_irreducible()"
   ]
  },
  {
   "cell_type": "code",
   "execution_count": 56,
   "metadata": {},
   "outputs": [
    {
     "data": {
      "text/plain": [
       "X + 1"
      ]
     },
     "execution_count": 56,
     "metadata": {},
     "output_type": "execute_result"
    }
   ],
   "source": [
    "factor(P)"
   ]
  },
  {
   "cell_type": "code",
   "execution_count": 142,
   "metadata": {},
   "outputs": [],
   "source": [
    "def polynomes10():\n",
    "    number = 0\n",
    "    poly = []\n",
    "    if X.is_irreducible() : \n",
    "        poly.append(X)\n",
    "        number += 1\n",
    "    for n in range (2,2048):\n",
    "        P = 0\n",
    "        i = 0\n",
    "        for c in (bin(n)[2:]):\n",
    "            k = int(c)\n",
    "            P += (X^i)*k\n",
    "            i += 1\n",
    "        if not(P in poly) :\n",
    "            if P.is_irreducible() :\n",
    "                poly.append(P)\n",
    "                number += 1\n",
    "    print(number)"
   ]
  },
  {
   "cell_type": "code",
   "execution_count": 143,
   "metadata": {},
   "outputs": [
    {
     "name": "stdout",
     "output_type": "stream",
     "text": [
      "226\n"
     ]
    }
   ],
   "source": [
    "polynomes10()"
   ]
  },
  {
   "cell_type": "code",
   "execution_count": 75,
   "metadata": {},
   "outputs": [
    {
     "data": {
      "text/plain": [
       "<generator object PolynomialRing_general._polys_max at 0x7f6a0903f040>"
      ]
     },
     "execution_count": 75,
     "metadata": {},
     "output_type": "execute_result"
    }
   ],
   "source": [
    "R.polynomials(max_degree = 10)"
   ]
  },
  {
   "cell_type": "code",
   "execution_count": 144,
   "metadata": {},
   "outputs": [
    {
     "name": "stdout",
     "output_type": "stream",
     "text": [
      "226\n"
     ]
    }
   ],
   "source": [
    "n = 0\n",
    "for p in R.polynomials(max_degree = 10) : \n",
    "    if p.is_irreducible() : \n",
    "        n += 1\n",
    "print(n)"
   ]
  },
  {
   "cell_type": "code",
   "execution_count": 93,
   "metadata": {},
   "outputs": [],
   "source": [
    "def codeGRS(X, V, A):\n",
    "    code = []\n",
    "    FqX.<X> = GF(256,name='a')['X']\n",
    "    for a, v in zip(A, V):\n",
    "        code.append(v * f(X, a))\n",
    "    return code"
   ]
  },
  {
   "cell_type": "code",
   "execution_count": 94,
   "metadata": {},
   "outputs": [],
   "source": [
    "def f(X, a):\n",
    "    exp = 0\n",
    "    sum = 0\n",
    "    for x in X:\n",
    "        sum += x * pow(a, exp)\n",
    "        exp += 1\n",
    "    return sum"
   ]
  },
  {
   "cell_type": "code",
   "execution_count": 95,
   "metadata": {},
   "outputs": [],
   "source": [
    "def lii(A, i) :\n",
    "    FqX.<X> = GF(256,name='a')['X']\n",
    "    lPolynomial = FqX.one()\n",
    "    for j in range(0, len(A)):\n",
    "        if i != j : \n",
    "            lPolynomial *= (X - A[j])\n",
    "    return lPolynomial"
   ]
  },
  {
   "cell_type": "code",
   "execution_count": 97,
   "metadata": {},
   "outputs": [],
   "source": [
    "def interlagrange (code, V, A):\n",
    "    f = []\n",
    "    FqX.<X> = GF(256,name='a')['X']\n",
    "    polynomial = FqX.zero()\n",
    "    for c, v in zip(code, V):\n",
    "        f.append(c/v)\n",
    "    for i, alpha in enumerate(A):\n",
    "        lPol = lii(A, i)\n",
    "        polynomial += f[i]*pow(lPol(alpha), -1)*lPol\n",
    "    return polynomial"
   ]
  },
  {
   "cell_type": "code",
   "execution_count": 100,
   "metadata": {},
   "outputs": [
    {
     "ename": "ZeroDivisionError",
     "evalue": "division by zero in finite field",
     "output_type": "error",
     "traceback": [
      "\u001b[0;31m---------------------------------------------------------------------------\u001b[0m",
      "\u001b[0;31mZeroDivisionError\u001b[0m                         Traceback (most recent call last)",
      "\u001b[0;32m<ipython-input-100-ff04835b34b9>\u001b[0m in \u001b[0;36m<module>\u001b[0;34m\u001b[0m\n\u001b[0;32m----> 1\u001b[0;31m \u001b[0minterlagrange\u001b[0m\u001b[0;34m(\u001b[0m\u001b[0mencodedMessage\u001b[0m\u001b[0;34m,\u001b[0m \u001b[0mvs\u001b[0m\u001b[0;34m,\u001b[0m \u001b[0malphas\u001b[0m\u001b[0;34m)\u001b[0m\u001b[0;34m\u001b[0m\u001b[0;34m\u001b[0m\u001b[0m\n\u001b[0m",
      "\u001b[0;32m<ipython-input-97-d4e85ee48e06>\u001b[0m in \u001b[0;36minterlagrange\u001b[0;34m(code, V, A)\u001b[0m\n\u001b[1;32m      4\u001b[0m     \u001b[0mpolynomial\u001b[0m \u001b[0;34m=\u001b[0m \u001b[0mFqX\u001b[0m\u001b[0;34m.\u001b[0m\u001b[0mzero\u001b[0m\u001b[0;34m(\u001b[0m\u001b[0;34m)\u001b[0m\u001b[0;34m\u001b[0m\u001b[0;34m\u001b[0m\u001b[0m\n\u001b[1;32m      5\u001b[0m     \u001b[0;32mfor\u001b[0m \u001b[0mc\u001b[0m\u001b[0;34m,\u001b[0m \u001b[0mv\u001b[0m \u001b[0;32min\u001b[0m \u001b[0mzip\u001b[0m\u001b[0;34m(\u001b[0m\u001b[0mcode\u001b[0m\u001b[0;34m,\u001b[0m \u001b[0mV\u001b[0m\u001b[0;34m)\u001b[0m\u001b[0;34m:\u001b[0m\u001b[0;34m\u001b[0m\u001b[0;34m\u001b[0m\u001b[0m\n\u001b[0;32m----> 6\u001b[0;31m         \u001b[0mf\u001b[0m\u001b[0;34m.\u001b[0m\u001b[0mappend\u001b[0m\u001b[0;34m(\u001b[0m\u001b[0mc\u001b[0m\u001b[0;34m/\u001b[0m\u001b[0mv\u001b[0m\u001b[0;34m)\u001b[0m\u001b[0;34m\u001b[0m\u001b[0;34m\u001b[0m\u001b[0m\n\u001b[0m\u001b[1;32m      7\u001b[0m     \u001b[0;32mfor\u001b[0m \u001b[0mi\u001b[0m\u001b[0;34m,\u001b[0m \u001b[0malpha\u001b[0m \u001b[0;32min\u001b[0m \u001b[0menumerate\u001b[0m\u001b[0;34m(\u001b[0m\u001b[0mA\u001b[0m\u001b[0;34m)\u001b[0m\u001b[0;34m:\u001b[0m\u001b[0;34m\u001b[0m\u001b[0;34m\u001b[0m\u001b[0m\n\u001b[1;32m      8\u001b[0m         \u001b[0mlPol\u001b[0m \u001b[0;34m=\u001b[0m \u001b[0mlii\u001b[0m\u001b[0;34m(\u001b[0m\u001b[0mA\u001b[0m\u001b[0;34m,\u001b[0m \u001b[0mi\u001b[0m\u001b[0;34m)\u001b[0m\u001b[0;34m\u001b[0m\u001b[0;34m\u001b[0m\u001b[0m\n",
      "\u001b[0;32m/usr/lib/python3/dist-packages/sage/structure/element.pyx\u001b[0m in \u001b[0;36msage.structure.element.Element.__truediv__ (build/cythonized/sage/structure/element.c:12831)\u001b[0;34m()\u001b[0m\n\u001b[1;32m   1716\u001b[0m             \u001b[0;32mreturn\u001b[0m \u001b[0;34m(\u001b[0m\u001b[0;34m<\u001b[0m\u001b[0mElement\u001b[0m\u001b[0;34m>\u001b[0m\u001b[0mleft\u001b[0m\u001b[0;34m)\u001b[0m\u001b[0;34m.\u001b[0m\u001b[0m_div_\u001b[0m\u001b[0;34m(\u001b[0m\u001b[0mright\u001b[0m\u001b[0;34m)\u001b[0m\u001b[0;34m\u001b[0m\u001b[0;34m\u001b[0m\u001b[0m\n\u001b[1;32m   1717\u001b[0m         \u001b[0;32mif\u001b[0m \u001b[0mBOTH_ARE_ELEMENT\u001b[0m\u001b[0;34m(\u001b[0m\u001b[0mcl\u001b[0m\u001b[0;34m)\u001b[0m\u001b[0;34m:\u001b[0m\u001b[0;34m\u001b[0m\u001b[0;34m\u001b[0m\u001b[0m\n\u001b[0;32m-> 1718\u001b[0;31m             \u001b[0;32mreturn\u001b[0m \u001b[0mcoercion_model\u001b[0m\u001b[0;34m.\u001b[0m\u001b[0mbin_op\u001b[0m\u001b[0;34m(\u001b[0m\u001b[0mleft\u001b[0m\u001b[0;34m,\u001b[0m \u001b[0mright\u001b[0m\u001b[0;34m,\u001b[0m \u001b[0mtruediv\u001b[0m\u001b[0;34m)\u001b[0m\u001b[0;34m\u001b[0m\u001b[0;34m\u001b[0m\u001b[0m\n\u001b[0m\u001b[1;32m   1719\u001b[0m \u001b[0;34m\u001b[0m\u001b[0m\n\u001b[1;32m   1720\u001b[0m         \u001b[0;32mtry\u001b[0m\u001b[0;34m:\u001b[0m\u001b[0;34m\u001b[0m\u001b[0;34m\u001b[0m\u001b[0m\n",
      "\u001b[0;32m/usr/lib/python3/dist-packages/sage/structure/coerce.pyx\u001b[0m in \u001b[0;36msage.structure.coerce.CoercionModel.bin_op (build/cythonized/sage/structure/coerce.c:10140)\u001b[0;34m()\u001b[0m\n\u001b[1;32m   1209\u001b[0m             \u001b[0mself\u001b[0m\u001b[0;34m.\u001b[0m\u001b[0m_record_exception\u001b[0m\u001b[0;34m(\u001b[0m\u001b[0;34m)\u001b[0m\u001b[0;34m\u001b[0m\u001b[0;34m\u001b[0m\u001b[0m\n\u001b[1;32m   1210\u001b[0m         \u001b[0;32melse\u001b[0m\u001b[0;34m:\u001b[0m\u001b[0;34m\u001b[0m\u001b[0;34m\u001b[0m\u001b[0m\n\u001b[0;32m-> 1211\u001b[0;31m             \u001b[0;32mreturn\u001b[0m \u001b[0mPyObject_CallObject\u001b[0m\u001b[0;34m(\u001b[0m\u001b[0mop\u001b[0m\u001b[0;34m,\u001b[0m \u001b[0mxy\u001b[0m\u001b[0;34m)\u001b[0m\u001b[0;34m\u001b[0m\u001b[0;34m\u001b[0m\u001b[0m\n\u001b[0m\u001b[1;32m   1212\u001b[0m \u001b[0;34m\u001b[0m\u001b[0m\n\u001b[1;32m   1213\u001b[0m         \u001b[0;32mif\u001b[0m \u001b[0mop\u001b[0m \u001b[0;32mis\u001b[0m \u001b[0mmul\u001b[0m\u001b[0;34m:\u001b[0m\u001b[0;34m\u001b[0m\u001b[0;34m\u001b[0m\u001b[0m\n",
      "\u001b[0;32m/usr/lib/python3/dist-packages/sage/structure/element.pyx\u001b[0m in \u001b[0;36msage.structure.element.Element.__truediv__ (build/cythonized/sage/structure/element.c:12796)\u001b[0;34m()\u001b[0m\n\u001b[1;32m   1714\u001b[0m         \u001b[0mcdef\u001b[0m \u001b[0mint\u001b[0m \u001b[0mcl\u001b[0m \u001b[0;34m=\u001b[0m \u001b[0mclassify_elements\u001b[0m\u001b[0;34m(\u001b[0m\u001b[0mleft\u001b[0m\u001b[0;34m,\u001b[0m \u001b[0mright\u001b[0m\u001b[0;34m)\u001b[0m\u001b[0;34m\u001b[0m\u001b[0;34m\u001b[0m\u001b[0m\n\u001b[1;32m   1715\u001b[0m         \u001b[0;32mif\u001b[0m \u001b[0mHAVE_SAME_PARENT\u001b[0m\u001b[0;34m(\u001b[0m\u001b[0mcl\u001b[0m\u001b[0;34m)\u001b[0m\u001b[0;34m:\u001b[0m\u001b[0;34m\u001b[0m\u001b[0;34m\u001b[0m\u001b[0m\n\u001b[0;32m-> 1716\u001b[0;31m             \u001b[0;32mreturn\u001b[0m \u001b[0;34m(\u001b[0m\u001b[0;34m<\u001b[0m\u001b[0mElement\u001b[0m\u001b[0;34m>\u001b[0m\u001b[0mleft\u001b[0m\u001b[0;34m)\u001b[0m\u001b[0;34m.\u001b[0m\u001b[0m_div_\u001b[0m\u001b[0;34m(\u001b[0m\u001b[0mright\u001b[0m\u001b[0;34m)\u001b[0m\u001b[0;34m\u001b[0m\u001b[0;34m\u001b[0m\u001b[0m\n\u001b[0m\u001b[1;32m   1717\u001b[0m         \u001b[0;32mif\u001b[0m \u001b[0mBOTH_ARE_ELEMENT\u001b[0m\u001b[0;34m(\u001b[0m\u001b[0mcl\u001b[0m\u001b[0;34m)\u001b[0m\u001b[0;34m:\u001b[0m\u001b[0;34m\u001b[0m\u001b[0;34m\u001b[0m\u001b[0m\n\u001b[1;32m   1718\u001b[0m             \u001b[0;32mreturn\u001b[0m \u001b[0mcoercion_model\u001b[0m\u001b[0;34m.\u001b[0m\u001b[0mbin_op\u001b[0m\u001b[0;34m(\u001b[0m\u001b[0mleft\u001b[0m\u001b[0;34m,\u001b[0m \u001b[0mright\u001b[0m\u001b[0;34m,\u001b[0m \u001b[0mtruediv\u001b[0m\u001b[0;34m)\u001b[0m\u001b[0;34m\u001b[0m\u001b[0;34m\u001b[0m\u001b[0m\n",
      "\u001b[0;32m/usr/lib/python3/dist-packages/sage/rings/finite_rings/element_givaro.pyx\u001b[0m in \u001b[0;36msage.rings.finite_rings.element_givaro.FiniteField_givaroElement._div_ (build/cythonized/sage/rings/finite_rings/element_givaro.cpp:12094)\u001b[0;34m()\u001b[0m\n\u001b[1;32m   1134\u001b[0m         \u001b[0mcdef\u001b[0m \u001b[0mint\u001b[0m \u001b[0mr\u001b[0m\u001b[0;34m\u001b[0m\u001b[0;34m\u001b[0m\u001b[0m\n\u001b[1;32m   1135\u001b[0m         \u001b[0;32mif\u001b[0m \u001b[0;34m(\u001b[0m\u001b[0;34m<\u001b[0m\u001b[0mFiniteField_givaroElement\u001b[0m\u001b[0;34m>\u001b[0m\u001b[0mright\u001b[0m\u001b[0;34m)\u001b[0m\u001b[0;34m.\u001b[0m\u001b[0melement\u001b[0m \u001b[0;34m==\u001b[0m \u001b[0;36m0\u001b[0m\u001b[0;34m:\u001b[0m\u001b[0;34m\u001b[0m\u001b[0;34m\u001b[0m\u001b[0m\n\u001b[0;32m-> 1136\u001b[0;31m             \u001b[0;32mraise\u001b[0m \u001b[0mZeroDivisionError\u001b[0m\u001b[0;34m(\u001b[0m\u001b[0;34m'division by zero in finite field'\u001b[0m\u001b[0;34m)\u001b[0m\u001b[0;34m\u001b[0m\u001b[0;34m\u001b[0m\u001b[0m\n\u001b[0m\u001b[1;32m   1137\u001b[0m         self._cache.objectptr.div(r, self.element,\n\u001b[1;32m   1138\u001b[0m                                               (<FiniteField_givaroElement>right).element)\n",
      "\u001b[0;31mZeroDivisionError\u001b[0m: division by zero in finite field"
     ]
    }
   ],
   "source": [
    "interlagrange(encodedMessage, vs, alphas)"
   ]
  },
  {
   "cell_type": "code",
   "execution_count": 22,
   "metadata": {},
   "outputs": [],
   "source": [
    "message = [2,8,6,4,9,10,7]\n",
    "V = [25, 41, 44, 27, 10, 24, 37, 21, 3, 13]\n",
    "A = [41, 7, 6, 49, 3, 1, 9, 19, 18, 35]"
   ]
  },
  {
   "cell_type": "code",
   "execution_count": 25,
   "metadata": {},
   "outputs": [],
   "source": [
    "encodedMessage = codeGRS(211, message, V, A)"
   ]
  },
  {
   "cell_type": "code",
   "execution_count": 26,
   "metadata": {},
   "outputs": [
    {
     "data": {
      "text/plain": [
       "[157, 96, 201, 79, 206, 49, 187, 143, 107, 133]"
      ]
     },
     "execution_count": 26,
     "metadata": {},
     "output_type": "execute_result"
    }
   ],
   "source": [
    "encodedMessage"
   ]
  },
  {
   "cell_type": "code",
   "execution_count": 11,
   "metadata": {},
   "outputs": [],
   "source": [
    "def codeGRS(X, V, A):\n",
    "    code = []\n",
    "    FqX.<X> = GF(256,name='a')['X']\n",
    "    for a, v in zip(A, V):\n",
    "        code.append(v * f(X, a))\n",
    "    return code"
   ]
  },
  {
   "cell_type": "code",
   "execution_count": 24,
   "metadata": {},
   "outputs": [],
   "source": [
    "def codeGRS(q, message, V, A):\n",
    "\tif len(V) != len(A):\n",
    "\t\tprint(\"Les listes v et alpha doivent avoir la même longueur.\")\n",
    "\t\treturn\n",
    "\tif not Integer(q).is_prime_power():\n",
    "\t\tprint(\"L'ordre d'un corps fini doit être une puissance première.\")\n",
    "\t\treturn\n",
    "\tif not Integer(q).is_prime():\n",
    "\t\tprint(\"L'ordre q du corps fini doit être premier.\")\n",
    "\t\treturn\n",
    "\tcode = []\n",
    "\tFqX.<X> = GF(q)['X']\n",
    "\tf = FqX.zero()\n",
    "\tfor i, x in enumerate(message):\n",
    "\t\tif x < 0 or x >= q:\n",
    "\t\t\tprint(\"Le message donné n'est pas valide.\")\n",
    "\t\t\treturn\n",
    "\t\tf += Integer(message[-(i+1)]) * X^i\n",
    "\tfor i, a in enumerate(A):\n",
    "\t\tcode.append(V[i] * f(a))\n",
    "\treturn code"
   ]
  },
  {
   "cell_type": "code",
   "execution_count": 33,
   "metadata": {},
   "outputs": [
    {
     "data": {
      "text/plain": [
       "[141, 187, 51, 96, 51, 130, 132, 155, 159, 208]"
      ]
     },
     "execution_count": 33,
     "metadata": {},
     "output_type": "execute_result"
    }
   ],
   "source": [
    "decodeGRS(211, encodedMessageWithErrors, V, A)"
   ]
  },
  {
   "cell_type": "code",
   "execution_count": 32,
   "metadata": {},
   "outputs": [],
   "source": [
    "def polynomeLagrange(q, A, i):\n",
    "\tif not Integer(q).is_prime_power():\n",
    "\t\tprint(\"L'ordre d'un corps fini doit être une puissance première.\")\n",
    "\t\treturn\n",
    "\tif not Integer(q).is_prime():\n",
    "\t\tprint(\"L'ordre q du corps fini doit être premier.\")\n",
    "\t\treturn\n",
    "\tFqX.<X> = GF(q)['X'] \n",
    "\tpolynome = FqX.one()\n",
    "\tfor j in range(len(A)):\n",
    "\t\tif j != i:\n",
    "\t\t\tpolynome *= (X - A[j])  \n",
    "\treturn polynome\n",
    "\n",
    "def decodeGRS(q, code, V, A):\n",
    "\tif len(V) != len(A):\n",
    "\t\tprint(\"Les listes v et alpha doivent avoir la même longueur.\")\n",
    "\t\treturn\n",
    "\tif not Integer(q).is_prime_power():\n",
    "\t\tprint(\"L'ordre d'un corps fini doit être une puissance première.\")\n",
    "\t\treturn\n",
    "\tif not Integer(q).is_prime():\n",
    "\t\tprint(\"L'ordre q du corps fini doit être premier.\")\n",
    "\t\treturn\n",
    "\tmessage = []\n",
    "\tFqX.<X>=GF(q)['X']\n",
    "\tpolynome = FqX.zero()\n",
    "\tfor i, a in enumerate(A):\n",
    "\t\tpolynomeLge = polynomeLagrange(q, A, i)\t\t\n",
    "\t\tpolynome += code[i] * pow(V[i] * polynomeLge(a),-1) *  polynomeLge\n",
    "\tmessage = polynome.list()\n",
    "\tmessage.reverse()\n",
    "\treturn message"
   ]
  },
  {
   "cell_type": "code",
   "execution_count": 15,
   "metadata": {},
   "outputs": [],
   "source": [
    "V = []\n",
    "for i in range(10):\n",
    "    V.append(randint(0,50))"
   ]
  },
  {
   "cell_type": "code",
   "execution_count": 16,
   "metadata": {},
   "outputs": [
    {
     "data": {
      "text/plain": [
       "[45, 11, 34, 40, 10, 37, 7, 20, 47, 48]"
      ]
     },
     "execution_count": 16,
     "metadata": {},
     "output_type": "execute_result"
    }
   ],
   "source": [
    "V"
   ]
  },
  {
   "cell_type": "code",
   "execution_count": 17,
   "metadata": {},
   "outputs": [],
   "source": [
    "import random\n",
    "\n",
    "def errTrans(q, y, Nb_err):\n",
    "\typrime = list(y)\n",
    "\tindices = random.sample(range(len(yprime)), Nb_err)\n",
    "\tfor i in indices:\n",
    "\t\tnombresPossibles = list(range(0, q))\n",
    "\t\tnombresPossibles.remove(yprime[i])\n",
    "\t\typrime[i] = random.choice(nombresPossibles)\n",
    "\treturn yprime"
   ]
  },
  {
   "cell_type": "code",
   "execution_count": 28,
   "metadata": {},
   "outputs": [],
   "source": [
    "q = 211\n",
    "numberOfErrors = 3\n",
    "encodedMessageWithErrors = errTrans(q, encodedMessage, numberOfErrors)"
   ]
  },
  {
   "cell_type": "code",
   "execution_count": 29,
   "metadata": {},
   "outputs": [
    {
     "data": {
      "text/plain": [
       "[157, 96, 201, 79, 206, 49, 187, 143, 107, 133]"
      ]
     },
     "execution_count": 29,
     "metadata": {},
     "output_type": "execute_result"
    }
   ],
   "source": [
    "encodedMessage"
   ]
  },
  {
   "cell_type": "code",
   "execution_count": 30,
   "metadata": {},
   "outputs": [
    {
     "data": {
      "text/plain": [
       "[157, 30, 201, 164, 206, 1, 187, 143, 107, 133]"
      ]
     },
     "execution_count": 30,
     "metadata": {},
     "output_type": "execute_result"
    }
   ],
   "source": [
    "encodedMessageWithErrors"
   ]
  },
  {
   "cell_type": "code",
   "execution_count": 48,
   "metadata": {},
   "outputs": [],
   "source": [
    "def syndrome(q, k, code, V, A):\n",
    "\tFqX.<X> = GF(q)['X']\n",
    "\tn = len(V)\n",
    "\tr = n-k\n",
    "\tresult = FqX.zero()\n",
    "\tfor i in range(n):\n",
    "\t\tsum = FqX.one()\n",
    "\t\tfor j in range(1, r):\n",
    "\t\t\tsum += pow(FqX(A[i]) * X,j)\n",
    "\t\tpolynome = polynomeLagrange(q, A, i)\n",
    "\t\tresult += FqX(code[i]) * (pow(FqX(V[i]),-1) * pow(polynome(FqX(A[i])),-1)) * sum \n",
    "\treturn result"
   ]
  },
  {
   "cell_type": "code",
   "execution_count": 49,
   "metadata": {},
   "outputs": [
    {
     "name": "stdout",
     "output_type": "stream",
     "text": [
      "Message numérisé : mn = [2, 8, 6, 4, 9, 10, 7]\n",
      "Ordre du corps fini : q = 211\n",
      "Vecteur v = [25, 41, 44, 27, 10, 24, 37, 21, 3, 13]\n",
      "Vecteur alpha = [41, 7, 6, 49, 3, 1, 9, 19, 18, 35]\n",
      "Message encodé : me = [157, 96, 201, 79, 206, 49, 187, 143, 107, 133]\n",
      "Appel de syndrome()...\n",
      "S(X) = 0\n",
      "Message encodé avec 3 erreur(s) de transmission : merr = [157, 30, 201, 164, 206, 1, 187, 143, 107, 133]\n",
      "S(X) = 207*X^2 + 109*X + 141\n"
     ]
    }
   ],
   "source": [
    "print(\"Message numérisé : mn = {}\".format(message))\n",
    "print(\"Ordre du corps fini : q = {}\".format(211))\n",
    "print(\"Vecteur v = {}\".format(V))\n",
    "print(\"Vecteur alpha = {}\".format(A))\n",
    "print(\"Message encodé : me = {}\".format(encodedMessage))\n",
    "print(\"Appel de syndrome()...\")\n",
    "syndromePolynomial = syndrome(211, len(message), encodedMessage, V, A)\n",
    "print(\"S(X) = {}\".format(syndromePolynomial))\n",
    "print(\"Message encodé avec {} erreur(s) de transmission : merr = {}\".format(3, encodedMessageWithErrors))\n",
    "syndromePolynomial = syndrome(211, len(message), encodedMessageWithErrors, V, A)\n",
    "print(\"S(X) = {}\".format(syndromePolynomial))"
   ]
  },
  {
   "cell_type": "code",
   "execution_count": 50,
   "metadata": {},
   "outputs": [
    {
     "name": "stdout",
     "output_type": "stream",
     "text": [
      "S(X) = 0\n"
     ]
    }
   ],
   "source": [
    "print(f\"S(X) = {syndrome(211, len(message), encodedMessage, V, A)}\")"
   ]
  },
  {
   "cell_type": "code",
   "execution_count": null,
   "metadata": {},
   "outputs": [],
   "source": []
  }
 ],
 "metadata": {
  "kernelspec": {
   "display_name": "SageMath 9.6",
   "language": "sage",
   "name": "sagemath"
  },
  "language_info": {
   "codemirror_mode": {
    "name": "ipython",
    "version": 3
   },
   "file_extension": ".py",
   "mimetype": "text/x-python",
   "name": "python",
   "nbconvert_exporter": "python",
   "pygments_lexer": "ipython3",
   "version": "3.10.4"
  },
  "orig_nbformat": 4
 },
 "nbformat": 4,
 "nbformat_minor": 2
}
