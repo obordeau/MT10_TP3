{
 "cells": [
  {
   "cell_type": "code",
   "execution_count": 19,
   "metadata": {
    "vscode": {
     "languageId": "python"
    }
   },
   "outputs": [
    {
     "data": {
      "text/plain": [
       "x + 1"
      ]
     },
     "execution_count": 19,
     "metadata": {},
     "output_type": "execute_result"
    }
   ],
   "source": [
    "q = pow(2,6)\n",
    "p = 2\n",
    "n = 6\n",
    "Fp = GF(p)\n",
    "Fp.modulus()"
   ]
  },
  {
   "cell_type": "code",
   "execution_count": 71,
   "metadata": {
    "vscode": {
     "languageId": "python"
    }
   },
   "outputs": [
    {
     "data": {
      "text/plain": [
       "X * (X + 1) * (X^2 + X + 1) * (X^3 + X + 1) * (X^3 + X^2 + 1) * (X^6 + X + 1) * (X^6 + X^3 + 1) * (X^6 + X^4 + X^2 + X + 1) * (X^6 + X^4 + X^3 + X + 1) * (X^6 + X^5 + 1) * (X^6 + X^5 + X^2 + X + 1) * (X^6 + X^5 + X^3 + X^2 + 1) * (X^6 + X^5 + X^4 + X + 1) * (X^6 + X^5 + X^4 + X^2 + 1)"
      ]
     },
     "execution_count": 71,
     "metadata": {},
     "output_type": "execute_result"
    }
   ],
   "source": [
    "F2 = GF(2)\n",
    "R.<X> = F2['X']\n",
    "factor(pow(X,64) - X)"
   ]
  },
  {
   "cell_type": "code",
   "execution_count": 30,
   "metadata": {
    "vscode": {
     "languageId": "python"
    }
   },
   "outputs": [
    {
     "data": {
      "text/plain": [
       "X^64 + X"
      ]
     },
     "execution_count": 30,
     "metadata": {},
     "output_type": "execute_result"
    }
   ],
   "source": [
    "X * (X + 1) * (X^2 + X + 1) * (X^3 + X + 1) * (X^3 + X^2 + 1) * (X^6 + X + 1) * (X^6 + X^3 + 1) * (X^6 + X^4 + X^2 + X + 1) * (X^6 + X^4 + X^3 + X + 1) * (X^6 + X^5 + 1) * (X^6 + X^5 + X^2 + X + 1) * (X^6 + X^5 + X^3 + X^2 + 1) * (X^6 + X^5 + X^4 + X + 1) * (X^6 + X^5 + X^4 + X^2 + 1)"
   ]
  },
  {
   "cell_type": "code",
   "execution_count": 5,
   "metadata": {
    "vscode": {
     "languageId": "python"
    }
   },
   "outputs": [],
   "source": [
    "def test1(n):\n",
    "    for i in range(1,n + 1):\n",
    "        if moebius(i) not in [-1, 0, 1]:\n",
    "            return False\n",
    "    return True"
   ]
  },
  {
   "cell_type": "code",
   "execution_count": 6,
   "metadata": {
    "vscode": {
     "languageId": "python"
    }
   },
   "outputs": [
    {
     "data": {
      "text/plain": [
       "True"
      ]
     },
     "execution_count": 6,
     "metadata": {},
     "output_type": "execute_result"
    }
   ],
   "source": [
    "test1(100)"
   ]
  },
  {
   "cell_type": "code",
   "execution_count": 42,
   "metadata": {
    "vscode": {
     "languageId": "python"
    }
   },
   "outputs": [],
   "source": [
    "def test2():\n",
    "    for n in range(1,101):\n",
    "        sum = 0\n",
    "        for d in divisors(n):\n",
    "            sum += moebius(d)\n",
    "        if (n == 1 and sum != 1) or (n > 1 and sum != 0):\n",
    "            return False\n",
    "    return True"
   ]
  },
  {
   "cell_type": "code",
   "execution_count": 43,
   "metadata": {
    "vscode": {
     "languageId": "python"
    }
   },
   "outputs": [
    {
     "data": {
      "text/plain": [
       "True"
      ]
     },
     "execution_count": 43,
     "metadata": {},
     "output_type": "execute_result"
    }
   ],
   "source": [
    "test2()"
   ]
  },
  {
   "cell_type": "code",
   "execution_count": 71,
   "metadata": {
    "vscode": {
     "languageId": "python"
    }
   },
   "outputs": [],
   "source": [
    "P = X^5 + X^4 + X^3 + X^2 +1"
   ]
  },
  {
   "cell_type": "code",
   "execution_count": 72,
   "metadata": {
    "vscode": {
     "languageId": "python"
    }
   },
   "outputs": [
    {
     "data": {
      "text/plain": [
       "True"
      ]
     },
     "execution_count": 72,
     "metadata": {},
     "output_type": "execute_result"
    }
   ],
   "source": [
    "P.is_irreducible()"
   ]
  },
  {
   "cell_type": "code",
   "execution_count": 56,
   "metadata": {
    "vscode": {
     "languageId": "python"
    }
   },
   "outputs": [
    {
     "data": {
      "text/plain": [
       "X + 1"
      ]
     },
     "execution_count": 56,
     "metadata": {},
     "output_type": "execute_result"
    }
   ],
   "source": [
    "factor(P)"
   ]
  },
  {
   "cell_type": "code",
   "execution_count": 142,
   "metadata": {
    "vscode": {
     "languageId": "python"
    }
   },
   "outputs": [],
   "source": [
    "def polynomes10():\n",
    "    number = 0\n",
    "    poly = []\n",
    "    if X.is_irreducible() : \n",
    "        poly.append(X)\n",
    "        number += 1\n",
    "    for n in range (2,2048):\n",
    "        P = 0\n",
    "        i = 0\n",
    "        for c in (bin(n)[2:]):\n",
    "            k = int(c)\n",
    "            P += (X^i)*k\n",
    "            i += 1\n",
    "        if not(P in poly) :\n",
    "            if P.is_irreducible() :\n",
    "                poly.append(P)\n",
    "                number += 1\n",
    "    print(number)"
   ]
  },
  {
   "cell_type": "code",
   "execution_count": 143,
   "metadata": {
    "vscode": {
     "languageId": "python"
    }
   },
   "outputs": [
    {
     "name": "stdout",
     "output_type": "stream",
     "text": [
      "226\n"
     ]
    }
   ],
   "source": [
    "polynomes10()"
   ]
  },
  {
   "cell_type": "code",
   "execution_count": 75,
   "metadata": {
    "vscode": {
     "languageId": "python"
    }
   },
   "outputs": [
    {
     "data": {
      "text/plain": [
       "<generator object PolynomialRing_general._polys_max at 0x7f6a0903f040>"
      ]
     },
     "execution_count": 75,
     "metadata": {},
     "output_type": "execute_result"
    }
   ],
   "source": [
    "R.polynomials(max_degree = 10)"
   ]
  },
  {
   "cell_type": "code",
   "execution_count": 144,
   "metadata": {
    "vscode": {
     "languageId": "python"
    }
   },
   "outputs": [
    {
     "name": "stdout",
     "output_type": "stream",
     "text": [
      "226\n"
     ]
    }
   ],
   "source": [
    "n = 0\n",
    "for p in R.polynomials(max_degree = 10) : \n",
    "    if p.is_irreducible() : \n",
    "        n += 1\n",
    "print(n)"
   ]
  },
  {
   "cell_type": "code",
   "execution_count": 93,
   "metadata": {
    "vscode": {
     "languageId": "python"
    }
   },
   "outputs": [],
   "source": [
    "def codeGRS(X, V, A):\n",
    "    code = []\n",
    "    FqX.<X> = GF(256,name='a')['X']\n",
    "    for a, v in zip(A, V):\n",
    "        code.append(v * f(X, a))\n",
    "    return code"
   ]
  },
  {
   "cell_type": "code",
   "execution_count": 94,
   "metadata": {
    "vscode": {
     "languageId": "python"
    }
   },
   "outputs": [],
   "source": [
    "def f(X, a):\n",
    "    exp = 0\n",
    "    sum = 0\n",
    "    for x in X:\n",
    "        sum += x * pow(a, exp)\n",
    "        exp += 1\n",
    "    return sum"
   ]
  },
  {
   "cell_type": "code",
   "execution_count": 95,
   "metadata": {
    "vscode": {
     "languageId": "python"
    }
   },
   "outputs": [],
   "source": [
    "def lii(A, i) :\n",
    "    FqX.<X> = GF(256,name='a')['X']\n",
    "    lPolynomial = FqX.one()\n",
    "    for j in range(0, len(A)):\n",
    "        if i != j : \n",
    "            lPolynomial *= (X - A[j])\n",
    "    return lPolynomial"
   ]
  },
  {
   "cell_type": "code",
   "execution_count": 97,
   "metadata": {
    "vscode": {
     "languageId": "python"
    }
   },
   "outputs": [],
   "source": [
    "def interlagrange (code, V, A):\n",
    "    f = []\n",
    "    FqX.<X> = GF(256,name='a')['X']\n",
    "    polynomial = FqX.zero()\n",
    "    for c, v in zip(code, V):\n",
    "        f.append(c/v)\n",
    "    for i, alpha in enumerate(A):\n",
    "        lPol = lii(A, i)\n",
    "        polynomial += f[i]*pow(lPol(alpha), -1)*lPol\n",
    "    return polynomial"
   ]
  },
  {
   "cell_type": "code",
   "execution_count": 100,
   "metadata": {
    "vscode": {
     "languageId": "python"
    }
   },
   "outputs": [
    {
     "ename": "ZeroDivisionError",
     "evalue": "division by zero in finite field",
     "output_type": "error",
     "traceback": [
      "\u001b[0;31m---------------------------------------------------------------------------\u001b[0m",
      "\u001b[0;31mZeroDivisionError\u001b[0m                         Traceback (most recent call last)",
      "\u001b[0;32m<ipython-input-100-ff04835b34b9>\u001b[0m in \u001b[0;36m<module>\u001b[0;34m\u001b[0m\n\u001b[0;32m----> 1\u001b[0;31m \u001b[0minterlagrange\u001b[0m\u001b[0;34m(\u001b[0m\u001b[0mencodedMessage\u001b[0m\u001b[0;34m,\u001b[0m \u001b[0mvs\u001b[0m\u001b[0;34m,\u001b[0m \u001b[0malphas\u001b[0m\u001b[0;34m)\u001b[0m\u001b[0;34m\u001b[0m\u001b[0;34m\u001b[0m\u001b[0m\n\u001b[0m",
      "\u001b[0;32m<ipython-input-97-d4e85ee48e06>\u001b[0m in \u001b[0;36minterlagrange\u001b[0;34m(code, V, A)\u001b[0m\n\u001b[1;32m      4\u001b[0m     \u001b[0mpolynomial\u001b[0m \u001b[0;34m=\u001b[0m \u001b[0mFqX\u001b[0m\u001b[0;34m.\u001b[0m\u001b[0mzero\u001b[0m\u001b[0;34m(\u001b[0m\u001b[0;34m)\u001b[0m\u001b[0;34m\u001b[0m\u001b[0;34m\u001b[0m\u001b[0m\n\u001b[1;32m      5\u001b[0m     \u001b[0;32mfor\u001b[0m \u001b[0mc\u001b[0m\u001b[0;34m,\u001b[0m \u001b[0mv\u001b[0m \u001b[0;32min\u001b[0m \u001b[0mzip\u001b[0m\u001b[0;34m(\u001b[0m\u001b[0mcode\u001b[0m\u001b[0;34m,\u001b[0m \u001b[0mV\u001b[0m\u001b[0;34m)\u001b[0m\u001b[0;34m:\u001b[0m\u001b[0;34m\u001b[0m\u001b[0;34m\u001b[0m\u001b[0m\n\u001b[0;32m----> 6\u001b[0;31m         \u001b[0mf\u001b[0m\u001b[0;34m.\u001b[0m\u001b[0mappend\u001b[0m\u001b[0;34m(\u001b[0m\u001b[0mc\u001b[0m\u001b[0;34m/\u001b[0m\u001b[0mv\u001b[0m\u001b[0;34m)\u001b[0m\u001b[0;34m\u001b[0m\u001b[0;34m\u001b[0m\u001b[0m\n\u001b[0m\u001b[1;32m      7\u001b[0m     \u001b[0;32mfor\u001b[0m \u001b[0mi\u001b[0m\u001b[0;34m,\u001b[0m \u001b[0malpha\u001b[0m \u001b[0;32min\u001b[0m \u001b[0menumerate\u001b[0m\u001b[0;34m(\u001b[0m\u001b[0mA\u001b[0m\u001b[0;34m)\u001b[0m\u001b[0;34m:\u001b[0m\u001b[0;34m\u001b[0m\u001b[0;34m\u001b[0m\u001b[0m\n\u001b[1;32m      8\u001b[0m         \u001b[0mlPol\u001b[0m \u001b[0;34m=\u001b[0m \u001b[0mlii\u001b[0m\u001b[0;34m(\u001b[0m\u001b[0mA\u001b[0m\u001b[0;34m,\u001b[0m \u001b[0mi\u001b[0m\u001b[0;34m)\u001b[0m\u001b[0;34m\u001b[0m\u001b[0;34m\u001b[0m\u001b[0m\n",
      "\u001b[0;32m/usr/lib/python3/dist-packages/sage/structure/element.pyx\u001b[0m in \u001b[0;36msage.structure.element.Element.__truediv__ (build/cythonized/sage/structure/element.c:12831)\u001b[0;34m()\u001b[0m\n\u001b[1;32m   1716\u001b[0m             \u001b[0;32mreturn\u001b[0m \u001b[0;34m(\u001b[0m\u001b[0;34m<\u001b[0m\u001b[0mElement\u001b[0m\u001b[0;34m>\u001b[0m\u001b[0mleft\u001b[0m\u001b[0;34m)\u001b[0m\u001b[0;34m.\u001b[0m\u001b[0m_div_\u001b[0m\u001b[0;34m(\u001b[0m\u001b[0mright\u001b[0m\u001b[0;34m)\u001b[0m\u001b[0;34m\u001b[0m\u001b[0;34m\u001b[0m\u001b[0m\n\u001b[1;32m   1717\u001b[0m         \u001b[0;32mif\u001b[0m \u001b[0mBOTH_ARE_ELEMENT\u001b[0m\u001b[0;34m(\u001b[0m\u001b[0mcl\u001b[0m\u001b[0;34m)\u001b[0m\u001b[0;34m:\u001b[0m\u001b[0;34m\u001b[0m\u001b[0;34m\u001b[0m\u001b[0m\n\u001b[0;32m-> 1718\u001b[0;31m             \u001b[0;32mreturn\u001b[0m \u001b[0mcoercion_model\u001b[0m\u001b[0;34m.\u001b[0m\u001b[0mbin_op\u001b[0m\u001b[0;34m(\u001b[0m\u001b[0mleft\u001b[0m\u001b[0;34m,\u001b[0m \u001b[0mright\u001b[0m\u001b[0;34m,\u001b[0m \u001b[0mtruediv\u001b[0m\u001b[0;34m)\u001b[0m\u001b[0;34m\u001b[0m\u001b[0;34m\u001b[0m\u001b[0m\n\u001b[0m\u001b[1;32m   1719\u001b[0m \u001b[0;34m\u001b[0m\u001b[0m\n\u001b[1;32m   1720\u001b[0m         \u001b[0;32mtry\u001b[0m\u001b[0;34m:\u001b[0m\u001b[0;34m\u001b[0m\u001b[0;34m\u001b[0m\u001b[0m\n",
      "\u001b[0;32m/usr/lib/python3/dist-packages/sage/structure/coerce.pyx\u001b[0m in \u001b[0;36msage.structure.coerce.CoercionModel.bin_op (build/cythonized/sage/structure/coerce.c:10140)\u001b[0;34m()\u001b[0m\n\u001b[1;32m   1209\u001b[0m             \u001b[0mself\u001b[0m\u001b[0;34m.\u001b[0m\u001b[0m_record_exception\u001b[0m\u001b[0;34m(\u001b[0m\u001b[0;34m)\u001b[0m\u001b[0;34m\u001b[0m\u001b[0;34m\u001b[0m\u001b[0m\n\u001b[1;32m   1210\u001b[0m         \u001b[0;32melse\u001b[0m\u001b[0;34m:\u001b[0m\u001b[0;34m\u001b[0m\u001b[0;34m\u001b[0m\u001b[0m\n\u001b[0;32m-> 1211\u001b[0;31m             \u001b[0;32mreturn\u001b[0m \u001b[0mPyObject_CallObject\u001b[0m\u001b[0;34m(\u001b[0m\u001b[0mop\u001b[0m\u001b[0;34m,\u001b[0m \u001b[0mxy\u001b[0m\u001b[0;34m)\u001b[0m\u001b[0;34m\u001b[0m\u001b[0;34m\u001b[0m\u001b[0m\n\u001b[0m\u001b[1;32m   1212\u001b[0m \u001b[0;34m\u001b[0m\u001b[0m\n\u001b[1;32m   1213\u001b[0m         \u001b[0;32mif\u001b[0m \u001b[0mop\u001b[0m \u001b[0;32mis\u001b[0m \u001b[0mmul\u001b[0m\u001b[0;34m:\u001b[0m\u001b[0;34m\u001b[0m\u001b[0;34m\u001b[0m\u001b[0m\n",
      "\u001b[0;32m/usr/lib/python3/dist-packages/sage/structure/element.pyx\u001b[0m in \u001b[0;36msage.structure.element.Element.__truediv__ (build/cythonized/sage/structure/element.c:12796)\u001b[0;34m()\u001b[0m\n\u001b[1;32m   1714\u001b[0m         \u001b[0mcdef\u001b[0m \u001b[0mint\u001b[0m \u001b[0mcl\u001b[0m \u001b[0;34m=\u001b[0m \u001b[0mclassify_elements\u001b[0m\u001b[0;34m(\u001b[0m\u001b[0mleft\u001b[0m\u001b[0;34m,\u001b[0m \u001b[0mright\u001b[0m\u001b[0;34m)\u001b[0m\u001b[0;34m\u001b[0m\u001b[0;34m\u001b[0m\u001b[0m\n\u001b[1;32m   1715\u001b[0m         \u001b[0;32mif\u001b[0m \u001b[0mHAVE_SAME_PARENT\u001b[0m\u001b[0;34m(\u001b[0m\u001b[0mcl\u001b[0m\u001b[0;34m)\u001b[0m\u001b[0;34m:\u001b[0m\u001b[0;34m\u001b[0m\u001b[0;34m\u001b[0m\u001b[0m\n\u001b[0;32m-> 1716\u001b[0;31m             \u001b[0;32mreturn\u001b[0m \u001b[0;34m(\u001b[0m\u001b[0;34m<\u001b[0m\u001b[0mElement\u001b[0m\u001b[0;34m>\u001b[0m\u001b[0mleft\u001b[0m\u001b[0;34m)\u001b[0m\u001b[0;34m.\u001b[0m\u001b[0m_div_\u001b[0m\u001b[0;34m(\u001b[0m\u001b[0mright\u001b[0m\u001b[0;34m)\u001b[0m\u001b[0;34m\u001b[0m\u001b[0;34m\u001b[0m\u001b[0m\n\u001b[0m\u001b[1;32m   1717\u001b[0m         \u001b[0;32mif\u001b[0m \u001b[0mBOTH_ARE_ELEMENT\u001b[0m\u001b[0;34m(\u001b[0m\u001b[0mcl\u001b[0m\u001b[0;34m)\u001b[0m\u001b[0;34m:\u001b[0m\u001b[0;34m\u001b[0m\u001b[0;34m\u001b[0m\u001b[0m\n\u001b[1;32m   1718\u001b[0m             \u001b[0;32mreturn\u001b[0m \u001b[0mcoercion_model\u001b[0m\u001b[0;34m.\u001b[0m\u001b[0mbin_op\u001b[0m\u001b[0;34m(\u001b[0m\u001b[0mleft\u001b[0m\u001b[0;34m,\u001b[0m \u001b[0mright\u001b[0m\u001b[0;34m,\u001b[0m \u001b[0mtruediv\u001b[0m\u001b[0;34m)\u001b[0m\u001b[0;34m\u001b[0m\u001b[0;34m\u001b[0m\u001b[0m\n",
      "\u001b[0;32m/usr/lib/python3/dist-packages/sage/rings/finite_rings/element_givaro.pyx\u001b[0m in \u001b[0;36msage.rings.finite_rings.element_givaro.FiniteField_givaroElement._div_ (build/cythonized/sage/rings/finite_rings/element_givaro.cpp:12094)\u001b[0;34m()\u001b[0m\n\u001b[1;32m   1134\u001b[0m         \u001b[0mcdef\u001b[0m \u001b[0mint\u001b[0m \u001b[0mr\u001b[0m\u001b[0;34m\u001b[0m\u001b[0;34m\u001b[0m\u001b[0m\n\u001b[1;32m   1135\u001b[0m         \u001b[0;32mif\u001b[0m \u001b[0;34m(\u001b[0m\u001b[0;34m<\u001b[0m\u001b[0mFiniteField_givaroElement\u001b[0m\u001b[0;34m>\u001b[0m\u001b[0mright\u001b[0m\u001b[0;34m)\u001b[0m\u001b[0;34m.\u001b[0m\u001b[0melement\u001b[0m \u001b[0;34m==\u001b[0m \u001b[0;36m0\u001b[0m\u001b[0;34m:\u001b[0m\u001b[0;34m\u001b[0m\u001b[0;34m\u001b[0m\u001b[0m\n\u001b[0;32m-> 1136\u001b[0;31m             \u001b[0;32mraise\u001b[0m \u001b[0mZeroDivisionError\u001b[0m\u001b[0;34m(\u001b[0m\u001b[0;34m'division by zero in finite field'\u001b[0m\u001b[0;34m)\u001b[0m\u001b[0;34m\u001b[0m\u001b[0;34m\u001b[0m\u001b[0m\n\u001b[0m\u001b[1;32m   1137\u001b[0m         self._cache.objectptr.div(r, self.element,\n\u001b[1;32m   1138\u001b[0m                                               (<FiniteField_givaroElement>right).element)\n",
      "\u001b[0;31mZeroDivisionError\u001b[0m: division by zero in finite field"
     ]
    }
   ],
   "source": [
    "interlagrange(encodedMessage, vs, alphas)"
   ]
  },
  {
   "cell_type": "code",
   "execution_count": 59,
   "metadata": {
    "vscode": {
     "languageId": "python"
    }
   },
   "outputs": [],
   "source": [
    "message = [2,8,6,4,9,10,7]\n",
    "V = [25, 41, 44, 27, 10, 24, 37, 21, 3, 13]\n",
    "A = [41, 7, 6, 49, 3, 1, 9, 19, 18, 35]\n",
    "encodedMessage = codeGRS(211, message, V, A)"
   ]
  },
  {
   "cell_type": "code",
   "execution_count": 60,
   "metadata": {
    "vscode": {
     "languageId": "python"
    }
   },
   "outputs": [],
   "source": [
    "encodedMessage = codeGRS(211, message, V, A)"
   ]
  },
  {
   "cell_type": "code",
   "execution_count": 63,
   "metadata": {
    "vscode": {
     "languageId": "python"
    }
   },
   "outputs": [
    {
     "data": {
      "text/plain": [
       "[157, 96, 201, 79, 206, 49, 187, 143, 107, 133]"
      ]
     },
     "execution_count": 63,
     "metadata": {},
     "output_type": "execute_result"
    }
   ],
   "source": [
    "encodedMessage"
   ]
  },
  {
   "cell_type": "code",
   "execution_count": 64,
   "metadata": {
    "vscode": {
     "languageId": "python"
    }
   },
   "outputs": [],
   "source": [
    "def codeGRS(q, message, V, A):\n",
    "\tif len(V) != len(A):\n",
    "\t\tprint(\"Les listes v et alpha doivent avoir la même longueur.\")\n",
    "\t\treturn\n",
    "\tif not Integer(q).is_prime_power():\n",
    "\t\tprint(\"L'ordre d'un corps fini doit être une puissance première.\")\n",
    "\t\treturn\n",
    "\tif not Integer(q).is_prime():\n",
    "\t\tprint(\"L'ordre q du corps fini doit être premier.\")\n",
    "\t\treturn\n",
    "\tcode = []\n",
    "\tFqX.<X> = GF(q)['X']\n",
    "\tf = FqX.zero()\n",
    "\tfor i, x in enumerate(message):\n",
    "\t\tif x < 0 or x >= q:\n",
    "\t\t\tprint(\"Le message donné n'est pas valide.\")\n",
    "\t\t\treturn\n",
    "\t\tf += Integer(message[-(i+1)]) * X^i\n",
    "\tfor i, a in enumerate(A):\n",
    "\t\tcode.append(V[i] * f(a))\n",
    "\treturn code"
   ]
  },
  {
   "cell_type": "code",
   "execution_count": 77,
   "metadata": {
    "vscode": {
     "languageId": "python"
    }
   },
   "outputs": [
    {
     "data": {
      "text/plain": [
       "[18, 112, 184, 168, 33, 76, 147, 9, 119, 24]"
      ]
     },
     "execution_count": 77,
     "metadata": {},
     "output_type": "execute_result"
    }
   ],
   "source": [
    "decodeGRS(211, encodedMessageWithErrors, V, A)"
   ]
  },
  {
   "cell_type": "code",
   "execution_count": 28,
   "metadata": {
    "vscode": {
     "languageId": "python"
    }
   },
   "outputs": [],
   "source": [
    "def polynomeLagrange(q, A, i):\n",
    "\tif not Integer(q).is_prime_power():\n",
    "\t\tprint(\"L'ordre d'un corps fini doit être une puissance première.\")\n",
    "\t\treturn\n",
    "\tif not Integer(q).is_prime():\n",
    "\t\tprint(\"L'ordre q du corps fini doit être premier.\")\n",
    "\t\treturn\n",
    "\tFqX.<X> = GF(q)['X'] \n",
    "\tpolynome = FqX.one()\n",
    "\tfor j in range(len(A)):\n",
    "\t\tif j != i:\n",
    "\t\t\tpolynome *= (X - A[j])  \n",
    "\treturn polynome\n",
    "\n",
    "def decodeGRS(q, code, V, A):\n",
    "\tif len(V) != len(A):\n",
    "\t\tprint(\"Les listes v et alpha doivent avoir la même longueur.\")\n",
    "\t\treturn\n",
    "\tif not Integer(q).is_prime_power():\n",
    "\t\tprint(\"L'ordre d'un corps fini doit être une puissance première.\")\n",
    "\t\treturn\n",
    "\tif not Integer(q).is_prime():\n",
    "\t\tprint(\"L'ordre q du corps fini doit être premier.\")\n",
    "\t\treturn\n",
    "\tmessage = []\n",
    "\tFqX.<X>=GF(q)['X']\n",
    "\tpolynome = FqX.zero()\n",
    "\tfor i, a in enumerate(A):\n",
    "\t\tpolynomeLge = polynomeLagrange(q, A, i)\t\t\n",
    "\t\tpolynome += code[i] * pow(V[i] * polynomeLge(a),-1) *  polynomeLge\n",
    "\tmessage = polynome.list()\n",
    "\tmessage.reverse()\n",
    "\treturn message"
   ]
  },
  {
   "cell_type": "code",
   "execution_count": 31,
   "metadata": {
    "vscode": {
     "languageId": "python"
    }
   },
   "outputs": [],
   "source": [
    "import random\n",
    "\n",
    "def errTrans(q, y, Nb_err):\n",
    "\typrime = list(y)\n",
    "\tindices = random.sample(range(len(yprime)), Nb_err)\n",
    "\tfor i in indices:\n",
    "\t\tnombresPossibles = list(range(0, q))\n",
    "\t\tnombresPossibles.remove(yprime[i])\n",
    "\t\typrime[i] = random.choice(nombresPossibles)\n",
    "\treturn yprime"
   ]
  },
  {
   "cell_type": "code",
   "execution_count": 71,
   "metadata": {
    "vscode": {
     "languageId": "python"
    }
   },
   "outputs": [],
   "source": [
    "q = 211\n",
    "numberOfErrors = 3\n",
    "encodedMessageWithErrors = errTrans(q, encodedMessage, numberOfErrors)"
   ]
  },
  {
   "cell_type": "code",
   "execution_count": 116,
   "metadata": {
    "vscode": {
     "languageId": "python"
    }
   },
   "outputs": [],
   "source": [
    "message = [2,8,6,4,9,10,7]\n",
    "V = [25, 41, 44, 27, 10, 24, 37, 21, 3, 13]\n",
    "A = [41, 7, 6, 49, 3, 1, 9, 19, 18, 35]\n",
    "encodedMessage = codeGRS(211, message, V, A)\n",
    "encodedMessageWithErrors = errTrans(211, encodedMessage, 3)\n",
    "# encodedMessageWithErrors = [157, 86, 49, 79, 206, 49, 187, 32, 107, 133]\n",
    "# syndromePolynomialnrml = syndrome(211, len(message), encodedMessage, V, A)\n",
    "syndromePolynomialerr = syndrome(211, len(message), encodedMessageWithErrors, V, A)"
   ]
  },
  {
   "cell_type": "code",
   "execution_count": 75,
   "metadata": {
    "vscode": {
     "languageId": "python"
    }
   },
   "outputs": [],
   "source": [
    "encodedMessageWithErrors = [157, 86, 49, 79, 206, 49, 187, 32, 107, 133]"
   ]
  },
  {
   "cell_type": "code",
   "execution_count": 35,
   "metadata": {
    "vscode": {
     "languageId": "python"
    }
   },
   "outputs": [],
   "source": [
    "def syndrome(q, k, code, V, A):\n",
    "\tFqX.<X> = GF(q)['X']\n",
    "\tn = len(V)\n",
    "\tr = n-k\n",
    "\tresult = FqX.zero()\n",
    "\tfor i in range(n):\n",
    "\t\tsum = FqX.one()\n",
    "\t\tfor j in range(1, r):\n",
    "\t\t\tsum += pow(FqX(A[i]) * X,j)\n",
    "\t\tpolynome = polynomeLagrange(q, A, i)\n",
    "\t\tresult += FqX(code[i]) * (pow(FqX(V[i]),-1) * pow(polynome(FqX(A[i])),-1)) * sum \n",
    "\treturn result"
   ]
  },
  {
   "cell_type": "code",
   "execution_count": 79,
   "metadata": {
    "vscode": {
     "languageId": "python"
    }
   },
   "outputs": [
    {
     "name": "stdout",
     "output_type": "stream",
     "text": [
      "Message numérisé : mn = [2, 8, 6, 4, 9, 10, 7]\n",
      "Ordre du corps fini : q = 211\n",
      "Vecteur v = [25, 41, 44, 27, 10, 24, 37, 21, 3, 13]\n",
      "Vecteur alpha = [41, 7, 6, 49, 3, 1, 9, 19, 18, 35]\n",
      "Message encodé : me = [157, 96, 201, 79, 206, 49, 187, 143, 107, 133]\n",
      "Appel de syndrome()...\n",
      "S(X) = 0\n",
      "Message encodé avec 3 erreur(s) de transmission : merr = [157, 86, 49, 79, 206, 49, 187, 32, 107, 133]\n",
      "S(X) = 67*X^2 + 120*X + 18\n"
     ]
    }
   ],
   "source": [
    "print(\"Message numérisé : mn = {}\".format(message))\n",
    "print(\"Ordre du corps fini : q = {}\".format(211))\n",
    "print(\"Vecteur v = {}\".format(V))\n",
    "print(\"Vecteur alpha = {}\".format(A))\n",
    "print(\"Message encodé : me = {}\".format(encodedMessage))\n",
    "print(\"Appel de syndrome()...\")\n",
    "syndromePolynomial = syndrome(211, len(message), encodedMessage, V, A)\n",
    "print(\"S(X) = {}\".format(syndromePolynomial))\n",
    "print(\"Message encodé avec {} erreur(s) de transmission : merr = {}\".format(3, encodedMessageWithErrors))\n",
    "syndromePolynomial = syndrome(211, len(message), encodedMessageWithErrors, V, A)\n",
    "print(\"S(X) = {}\".format(syndromePolynomial))"
   ]
  },
  {
   "cell_type": "code",
   "execution_count": 81,
   "metadata": {
    "vscode": {
     "languageId": "python"
    }
   },
   "outputs": [
    {
     "name": "stdout",
     "output_type": "stream",
     "text": [
      "S(X) = 67*X^2 + 120*X + 18\n"
     ]
    }
   ],
   "source": [
    "print(f\"S(X) = {syndrome(211, len(message), encodedMessageWithErrors, V, A)}\")"
   ]
  },
  {
   "cell_type": "code",
   "execution_count": 100,
   "metadata": {
    "vscode": {
     "languageId": "python"
    }
   },
   "outputs": [],
   "source": [
    "def clef(q, synd, k, n):\n",
    "\tFqX.<X> = GF(q)['X']\n",
    "\tr = n - k\n",
    "\trJ_1 = X^r\n",
    "\trJ = synd\n",
    "\tuJ_1 = FqX.one()\n",
    "\tuJ = FqX.zero()\n",
    "\tvJ_1 = FqX.zero()\n",
    "\tvJ = FqX.one()\n",
    "\ttmp = 0\n",
    "\tqJ = 0\n",
    "\twhile(FqX(rJ).degree() >= r/2):\n",
    "\t\tqJ = FqX(rJ_1) // FqX(rJ) \n",
    "\t\ttmp = rJ\n",
    "\t\trJ = FqX(rJ_1) % FqX(rJ) \n",
    "\t\trJ_1 = tmp\n",
    "\t\ttmp = uJ\n",
    "\t\tuJ = uJ_1 - uJ * qJ\n",
    "\t\tuJ_1 = tmp\n",
    "\t\ttmp = vJ\n",
    "\t\tvJ = vJ_1 - vJ * qJ\n",
    "\t\tvJ_1 = tmp\n",
    "\tsigma = pow(vJ(0),-1) * vJ\n",
    "\tomega = pow(vJ(0),-1) * rJ\n",
    "\treturn sigma, omega"
   ]
  },
  {
   "cell_type": "code",
   "execution_count": 117,
   "metadata": {
    "vscode": {
     "languageId": "python"
    }
   },
   "outputs": [
    {
     "name": "stdout",
     "output_type": "stream",
     "text": [
      "S(X) = 135*X^2 + 9*X + 151\n",
      "Appel de clef()...\n",
      "196*X + 1\n",
      "65*X + 151\n",
      "(sigma * FqX(syndromePolynomial)) % X^r = 65*X + 151\n",
      "omega %  X^r = 65*X + 151\n"
     ]
    }
   ],
   "source": [
    "sigma, omega = clef(211, syndromePolynomialerr, len(message), len(V))\n",
    "FqX.<X> = GF(211, name='a')['X']\n",
    "rDiff = len(V) - len(message)\n",
    "print('S(X) = {}'.format(syndromePolynomialerr))\n",
    "print('Appel de clef()...')\n",
    "print(sigma)\n",
    "print(omega)\n",
    "print('(sigma * FqX(syndromePolynomial)) % X^r = {}'.format((sigma * FqX(syndromePolynomialerr)) % X^rDiff))\n",
    "print('omega %  X^r = {}'.format(omega %  X^rDiff))"
   ]
  },
  {
   "cell_type": "code",
   "execution_count": 103,
   "metadata": {
    "vscode": {
     "languageId": "python"
    }
   },
   "outputs": [
    {
     "name": "stdout",
     "output_type": "stream",
     "text": [
      "15*X + 18 = 15*X + 18 ?\n"
     ]
    }
   ],
   "source": [
    "FqX.<X> = GF(211, name='a')['X']\n",
    "rDiff = len(V) - len(message)\n",
    "print(f\"{(sigma * FqX(syndrome)) % X**rDiff} = {omega %  X**rDiff} ?\")"
   ]
  },
  {
   "cell_type": "code",
   "execution_count": 107,
   "metadata": {
    "vscode": {
     "languageId": "python"
    }
   },
   "outputs": [],
   "source": [
    "def erreur(q, sigma, omega, vs, alphas):\n",
    "\tif len(vs) != len(alphas):\n",
    "\t\traise ValueError(\"List v and alpha must have the same length.\")\n",
    "\tif not Integer(q).is_prime_power():\n",
    "\t\traise ValueError(\"The order of a finite field must be a prime power.\")\n",
    "\tif not Integer(q).is_prime():\n",
    "\t\traise ValueError(\"Our implementation only works when the order 'q' of \" +\n",
    "\t\t\t\"the finite field is prime.\")\n",
    "\tFqX.<X> = GF(q, name='a')['X'] # It represents the polynomials in Fq[X]\n",
    "\tn = len(vs)\n",
    "\tbIndices = []\n",
    "\tfor index in range(n):\n",
    "\t\tif sigma( (FqX( alphas[index] ))^(-1) ) == 0:\n",
    "\t\t\tbIndices.append(index)\n",
    "\tsigmasDerivative = [ 0 ] * n\n",
    "\t# Here, the goal is to compute the derivative of sigma\n",
    "\t# for each inverse of alpha indexed by b, b in bIndices\n",
    "\tfor bIndex in bIndices: \n",
    "\t\tminusAlphaB = - FqX(alphas[bIndex])\n",
    "\t\tsigmasDerivativeB = FqX.one()\n",
    "\t\tfor bPrimeIndex in bIndices:\n",
    "\t\t\tif bPrimeIndex != bIndex:\n",
    "\t\t\t\tsigmasDerivativeB *= FqX.one() - (FqX(alphas[bPrimeIndex]) * FqX(alphas[bIndex])^(-1))\n",
    "\t\tsigmasDerivative[bIndex] = minusAlphaB * sigmasDerivativeB \n",
    "\terrors = [Integer(0)] * n\n",
    "\tfor bIndex in bIndices:\n",
    "\t\tlagrangePolynom = polynomeLagrange(q, alphas, bIndex)\n",
    "\t\tuB = (FqX(vs[bIndex]))^(-1) * lagrangePolynom(alphas[bIndex])^(-1)\n",
    "\t\terrors[bIndex] = (-FqX(alphas[bIndex])) * omega( (FqX(alphas[bIndex]))^(-1) ) * (uB * sigmasDerivative[bIndex] )^(-1)\n",
    "\t\terrors[bIndex] = FqX(errors[bIndex])\n",
    "\treturn errors\n",
    "\n",
    "def computeDifferenceBetweenTwoLists(l1, l2):\n",
    "\tif len(l1) != len(l2):\n",
    "\t\traise ValueError(\"List v and alpha must have the same length.\")\n",
    "\tn = len(l1)\n",
    "\tl3 = [ 0 ] * n\n",
    "\tfor i in range(n):\n",
    "\t\tl3[i] = l1[i] - l2[i]\n",
    "\treturn l3"
   ]
  },
  {
   "cell_type": "code",
   "execution_count": 124,
   "metadata": {
    "vscode": {
     "languageId": "python"
    }
   },
   "outputs": [
    {
     "name": "stdout",
     "output_type": "stream",
     "text": [
      "\n",
      "\n",
      "########################## Question 12 ##########################\n",
      "\n",
      "Message encodé : me = [157, 96, 201, 79, 206, 49, 187, 143, 107, 133]\n",
      "Message encodé avec 3 erreur(s) de transmission : merr = [157, 194, 201, 79, 206, 49, 187, 143, 192, 147]\n",
      "Erreur : e = [0, 0, 0, 0, 0, 0, 0, 0, 0, 0]\n",
      "Correction de l'erreur, puis obtention du message initialement encodé : merr-me = [157, 194, 201, 79, 206, 49, 187, 143, 192, 147]\n",
      "Message décodé : md = [115, 86, 72, 14, 70, 15, 162, 129, 139, 88]\n"
     ]
    }
   ],
   "source": [
    "message = [2,8,6,4,9,10,7]\n",
    "V = [25, 41, 44, 27, 10, 24, 37, 21, 3, 13]\n",
    "A = [41, 7, 6, 49, 3, 1, 9, 19, 18, 35]\n",
    "encodedMessage = codeGRS(211, message, V, A)\n",
    "encodedMessageWithErrors = errTrans(211, encodedMessage, 3)\n",
    "# encodedMessageWithErrors = [157, 86, 49, 79, 206, 49, 187, 32, 107, 133]\n",
    "# syndromePolynomialnrml = syndrome(211, len(message), encodedMessage, V, A)\n",
    "syndromePolynomialerr = syndrome(211, len(message), encodedMessageWithErrors, V, A)\n",
    "sigma, omega = clef(211, syndromePolynomialerr, len(message), len(V))\n",
    "print('\\n\\n########################## Question 12 ##########################\\n')\n",
    "print(\"Message encodé : me = {}\".format(encodedMessage))\n",
    "print(\"Message encodé avec {} erreur(s) de transmission : merr = {}\".format(numberOfErrors, encodedMessageWithErrors))\n",
    "error = erreur(211, sigma, omega, V, A)\n",
    "print(\"Erreur : e = {}\".format(error))\n",
    "correction = computeDifferenceBetweenTwoLists(encodedMessageWithErrors, error)\n",
    "print(\"Correction de l'erreur, puis obtention du message initialement encodé : merr-me = {}\".format(correction))\n",
    "decodedMessage = decodeGRS(211, correction, V, A)\n",
    "print(\"Message décodé : md = {}\".format(decodedMessage))"
   ]
  },
  {
   "cell_type": "code",
   "execution_count": 144,
   "metadata": {
    "vscode": {
     "languageId": "python"
    }
   },
   "outputs": [
    {
     "name": "stdout",
     "output_type": "stream",
     "text": [
      "Message numérisé : mn = [2, 8, 6, 4, 9, 10, 7]\n",
      "Ordre du corps fini : q = 211\n",
      "Vecteur v = [25, 41, 44, 27, 10, 24, 37, 21, 3, 13]\n",
      "Vecteur alpha = [41, 7, 6, 49, 3, 1, 9, 19, 18, 35]\n",
      "Appel de codeGRS()...\n",
      "Message encodé : me = [157, 96, 201, 79, 206, 49, 187, 143, 107, 133]\n",
      "\n",
      "\n",
      "########################## Question 6 ##########################\n",
      "\n",
      "Message encodé : me = [157, 96, 201, 79, 206, 49, 187, 143, 107, 133]\n",
      "Ordre du corps fini : q = 211\n",
      "Vecteur v = [25, 41, 44, 27, 10, 24, 37, 21, 3, 13]\n",
      "Vecteur alpha = [41, 7, 6, 49, 3, 1, 9, 19, 18, 35]\n",
      "Appel de decodeGRS()...\n",
      "Message décodé : md = [2, 8, 6, 4, 9, 10, 7]\n",
      "\n",
      "\n",
      "########################## Question 7 ##########################\n",
      "\n",
      "Message encodé : me = [157, 96, 201, 79, 206, 49, 187, 143, 107, 133]\n",
      "Ordre du corps fini : q = 211\n",
      "Appel de errTrans() avec 1 erreurs de transmission.\n",
      "Message encodé avec 1 erreur de transmission : merr = [157, 96, 201, 79, 206, 49, 187, 122, 107, 133]\n",
      "\n",
      "\n",
      "########################## Question 8 ##########################\n",
      "\n",
      "Message numérisé : mn = [2, 8, 6, 4, 9, 10, 7]\n",
      "Message encodé : me = [157, 96, 201, 79, 206, 49, 187, 143, 107, 133]\n",
      "Ordre du corps fini : q = 211\n",
      "Vecteur v = [25, 41, 44, 27, 10, 24, 37, 21, 3, 13]\n",
      "Vecteur alpha = [41, 7, 6, 49, 3, 1, 9, 19, 18, 35]\n",
      "Message encodé avec 1 erreur(s) de transmission : merr = [157, 96, 201, 79, 206, 49, 187, 122, 107, 133]\n",
      "Appel de decodeGRS() sur le message encodé avec erreur(s) de transmission...\n",
      "Message décodé : md = [55, 200, 120, 175, 179, 109, 54, 59, 38, 112]\n",
      "\n",
      "\n",
      "########################## Question 10 ##########################\n",
      "\n",
      "Message numérisé : mn = [2, 8, 6, 4, 9, 10, 7]\n",
      "Ordre du corps fini : q = 211\n",
      "Vecteur v = [25, 41, 44, 27, 10, 24, 37, 21, 3, 13]\n",
      "Vecteur alpha = [41, 7, 6, 49, 3, 1, 9, 19, 18, 35]\n",
      "Message encodé : me = [157, 96, 201, 79, 206, 49, 187, 143, 107, 133]\n",
      "Appel de syndrome()...\n",
      "S(X) = 0\n",
      "Message encodé avec 1 erreur(s) de transmission : merr = [157, 96, 201, 79, 206, 49, 187, 122, 107, 133]\n",
      "S(X) = 21*X^2 + 201*X + 55\n",
      "\n",
      "\n",
      "########################## Question 11 ##########################\n",
      "\n",
      "S(X) = 21*X^2 + 201*X + 55\n",
      "Appel de clef()...\n",
      "192*X + 1\n",
      "55\n",
      "(sigma * FqX(syndromePolynomial)) % X^r = 55\n",
      "omega %  X^r = 55\n",
      "\n",
      "\n",
      "########################## Question 12 ##########################\n",
      "\n",
      "Message encodé : me = [157, 96, 201, 79, 206, 49, 187, 143, 107, 133]\n",
      "Message encodé avec 1 erreur(s) de transmission : merr = [157, 96, 201, 79, 206, 49, 187, 122, 107, 133]\n",
      "Erreur : e = [0, 0, 0, 0, 0, 0, 0, 190, 0, 0]\n",
      "Correction de l'erreur, puis obtention du message initialement encodé : merr-me = [157, 96, 201, 79, 206, 49, 187, 143, 107, 133]\n",
      "Message décodé : md = [2, 8, 6, 4, 9, 10, 7]\n"
     ]
    }
   ],
   "source": [
    "numerisedMessage = [2,8,6,4,9,10,7]\n",
    "vs = [25, 41, 44, 27, 10, 24, 37, 21, 3, 13]\n",
    "alphas = [41, 7, 6, 49, 3, 1, 9, 19, 18, 35]\n",
    "q = 211\n",
    "print(\"Message numérisé : mn = {}\".format(numerisedMessage))\n",
    "print(\"Ordre du corps fini : q = {}\".format(q))\n",
    "print(\"Vecteur v = {}\".format(vs))\n",
    "print(\"Vecteur alpha = {}\".format(alphas))\n",
    "print(\"Appel de codeGRS()...\".format(alphas))\n",
    "encodedMessage = codeGRS(q, numerisedMessage, vs, alphas)\n",
    "print(\"Message encodé : me = {}\".format(encodedMessage))\n",
    "\n",
    "########################## Question 6 ##########################\n",
    "print('\\n\\n########################## Question 6 ##########################\\n')\n",
    "print(\"Message encodé : me = {}\".format(encodedMessage))\n",
    "print(\"Ordre du corps fini : q = {}\".format(q))\n",
    "print(\"Vecteur v = {}\".format(vs))\n",
    "print(\"Vecteur alpha = {}\".format(alphas))\n",
    "print(\"Appel de decodeGRS()...\".format(alphas))\n",
    "decodedMessage = decodeGRS(q, encodedMessage, vs, alphas)\n",
    "print(\"Message décodé : md = {}\".format(decodedMessage))\n",
    "\n",
    "########################## Question 7 ##########################\n",
    "print('\\n\\n########################## Question 7 ##########################\\n')\n",
    "numberOfErrors = 1\n",
    "print(\"Message encodé : me = {}\".format(encodedMessage))\n",
    "print(\"Ordre du corps fini : q = {}\".format(q))\n",
    "print(\"Appel de errTrans() avec {} erreurs de transmission.\".format(numberOfErrors)) \n",
    "encodedMessageWithErrors = errTrans(q, encodedMessage, numberOfErrors)\n",
    "print(\"Message encodé avec {} erreur de transmission : merr = {}\".format(numberOfErrors, encodedMessageWithErrors))\n",
    "\n",
    "########################## Question 8 ##########################\n",
    "print('\\n\\n########################## Question 8 ##########################\\n')\n",
    "print(\"Message numérisé : mn = {}\".format(numerisedMessage))\n",
    "print(\"Message encodé : me = {}\".format(encodedMessage))\n",
    "print(\"Ordre du corps fini : q = {}\".format(q))\n",
    "print(\"Vecteur v = {}\".format(vs))\n",
    "print(\"Vecteur alpha = {}\".format(alphas))\n",
    "print(\"Message encodé avec {} erreur(s) de transmission : merr = {}\".format(numberOfErrors, encodedMessageWithErrors))\n",
    "print(\"Appel de decodeGRS() sur le message encodé avec erreur(s) de transmission...\".format(alphas))\n",
    "decodedMessage = decodeGRS(q, encodedMessageWithErrors, vs, alphas)\n",
    "print(\"Message décodé : md = {}\".format(decodedMessage))\n",
    "\n",
    "########################## Question 10 ##########################\n",
    "print('\\n\\n########################## Question 10 ##########################\\n')\n",
    "print(\"Message numérisé : mn = {}\".format(numerisedMessage))\n",
    "print(\"Ordre du corps fini : q = {}\".format(q))\n",
    "print(\"Vecteur v = {}\".format(vs))\n",
    "print(\"Vecteur alpha = {}\".format(alphas))\n",
    "print(\"Message encodé : me = {}\".format(encodedMessage))\n",
    "print(\"Appel de syndrome()...\")\n",
    "syndromePolynomial = syndrome(q, encodedMessage, vs, alphas, len(numerisedMessage))\n",
    "print(\"S(X) = {}\".format(syndromePolynomial))\n",
    "print(\"Message encodé avec {} erreur(s) de transmission : merr = {}\".format(numberOfErrors, encodedMessageWithErrors))\n",
    "syndromePolynomial = syndrome(q, encodedMessageWithErrors, vs, alphas, len(numerisedMessage))\n",
    "print(\"S(X) = {}\".format(syndromePolynomial))\n",
    "\n",
    "########################## Question 11 ##########################\n",
    "print('\\n\\n########################## Question 11 ##########################\\n')\n",
    "sigma, omega = clef(q, syndromePolynomial, len(numerisedMessage), len(vs))\n",
    "FqX.<X> = GF(q, name='a')['X']\n",
    "rDiff = len(vs) - len(numerisedMessage)\n",
    "print('S(X) = {}'.format(syndromePolynomial))\n",
    "print('Appel de clef()...')\n",
    "print(sigma)\n",
    "print(omega)\n",
    "print('(sigma * FqX(syndromePolynomial)) % X^r = {}'.format((sigma * FqX(syndromePolynomial)) % X^rDiff))\n",
    "print('omega %  X^r = {}'.format(omega %  X^rDiff))\n",
    "\n",
    "########################## Question 12 ##########################\n",
    "print('\\n\\n########################## Question 12 ##########################\\n')\n",
    "print(\"Message encodé : me = {}\".format(encodedMessage))\n",
    "print(\"Message encodé avec {} erreur(s) de transmission : merr = {}\".format(numberOfErrors, encodedMessageWithErrors))\n",
    "error = erreur(q, sigma, omega, vs, alphas)\n",
    "print(\"Erreur : e = {}\".format(error))\n",
    "correction = computeDifferenceBetweenTwoLists(encodedMessageWithErrors, error)\n",
    "print(\"Correction de l'erreur, puis obtention du message initialement encodé : merr-me = {}\".format(correction))\n",
    "decodedMessage = decodeGRS(q, correction, vs, alphas)\n",
    "print(\"Message décodé : md = {}\".format(decodedMessage))"
   ]
  },
  {
   "cell_type": "code",
   "execution_count": 126,
   "metadata": {
    "vscode": {
     "languageId": "python"
    }
   },
   "outputs": [],
   "source": [
    "def codeGRS(q, word, vs, alphas):\n",
    "\tif len(vs) != len(alphas):\n",
    "\t\traise ValueError(\"List v and alpha must have the same length.\")\n",
    "\tif not Integer(q).is_prime_power():\n",
    "\t\traise ValueError(\"The order of a finite field must be a prime power.\")\n",
    "\tif not Integer(q).is_prime():\n",
    "\t\traise ValueError(\"Our implementation only works when the order 'q' of \" +\n",
    "\t\t\t\"the finite field is prime.\")\n",
    "\tcode = []\n",
    "\tFqX.<X> = GF(q, name='a')['X'] # It represents the polynomials in Fq[X]\n",
    "\tf = FqX.zero() # A polynomial which will have its coefficients in Fq\n",
    "\tfor i, letter in enumerate(word):\n",
    "\t\tif letter < 0 or letter >= q:\n",
    "\t\t\traise ValueError(\"The given word is not valid.\")\n",
    "\t\tf += Integer(word[-(i+1)]) * X^i\n",
    "\tfor i, alpha in enumerate(alphas):\n",
    "\t\tcode.append(vs[i] * f(alpha))\n",
    "\treturn code"
   ]
  },
  {
   "cell_type": "code",
   "execution_count": 134,
   "metadata": {
    "vscode": {
     "languageId": "python"
    }
   },
   "outputs": [],
   "source": [
    "def lagrangePolynomial(q, alphas, i):\n",
    "\tn = len(alphas)\n",
    "\tif i not in range(n):\n",
    "\t\traise ValueError(\"i should be less than the length of alpha and more than 0.\")\n",
    "\tif not Integer(q).is_prime_power():\n",
    "\t\traise ValueError(\"The order of a finite field must be a prime power.\")\n",
    "\tif not Integer(q).is_prime():\n",
    "\t\traise ValueError(\"Our implementation only works when the order 'q' of \" +\n",
    "\t\t\t\"the finite field is prime.\")\t\n",
    "\tFqX.<X> = GF(q,name='a')['X'] # It represents the polynomials in Fq[X]\n",
    "\tlPolynomial = FqX.one() # It will contain the lagrange polynomial\n",
    "\tfor j in range(n):\n",
    "\t\tif j != i:\n",
    "\t\t\tlPolynomial *= (X - alphas[j])  \n",
    "\treturn lPolynomial\n",
    "\n",
    "def decodeGRS(q, code, vs, alphas):\n",
    "\tif len(vs) != len(alphas):\n",
    "\t\traise ValueError(\"List v and alpha must have the same length.\")\n",
    "\tif not Integer(q).is_prime_power():\n",
    "\t\traise ValueError(\"The order of a finite field must be a prime power.\")\n",
    "\tif not Integer(q).is_prime():\n",
    "\t\traise ValueError(\"Our implementation only works when the order 'q' of \" +\n",
    "\t\t\t\"the finite field is prime.\")\n",
    "\toriginalWord = []\n",
    "\tFqX.<X>=GF(q, name='a')['X'] # It represents the polynomials in Fq[X]\n",
    "\tdecodedPolynomial = FqX.zero()\n",
    "\tfor i, alpha in enumerate(alphas):\n",
    "\t\tlPolynomial = lagrangePolynomial(q, alphas, i)\t\t\n",
    "\t\tdecodedPolynomial += code[i] * (vs[i] * lPolynomial(alpha))^-1 *  lPolynomial\n",
    "\toriginalWord = decodedPolynomial.list()\n",
    "\toriginalWord.reverse()\n",
    "\treturn originalWord"
   ]
  },
  {
   "cell_type": "code",
   "execution_count": 132,
   "metadata": {
    "vscode": {
     "languageId": "python"
    }
   },
   "outputs": [],
   "source": [
    "def errTrans(q, encodedMessage, numberOfErrors):\n",
    "\tif not Integer(q).is_prime_power():\n",
    "\t\traise ValueError(\"The order of a finite field must be a prime power.\")\n",
    "\tif not Integer(q).is_prime():\n",
    "\t\traise ValueError(\"Our implementation only works when the order 'q' of \" +\n",
    "\t\t\t\"the finite field is prime.\")\n",
    "\tencodedMessageWithErrors = list(encodedMessage)\n",
    "\tlistOfIndices = random.sample(range(len(encodedMessageWithErrors)), numberOfErrors)\n",
    "\tfor index in listOfIndices:\n",
    "\t\tlistofNumbers = list(range(0, q))\n",
    "\t\tlistofNumbers.remove(int(encodedMessageWithErrors[index]))\n",
    "\t\tencodedMessageWithErrors[index] = Integer(random.choice(listofNumbers))\n",
    "\treturn encodedMessageWithErrors"
   ]
  },
  {
   "cell_type": "code",
   "execution_count": 128,
   "metadata": {
    "vscode": {
     "languageId": "python"
    }
   },
   "outputs": [],
   "source": [
    "def syndrome(q, doubtfulWord, vs, alphas, k):\n",
    "\tif len(vs) != len(alphas):\n",
    "\t\traise ValueError(\"List v and alpha must have the same length.\")\n",
    "\tif not Integer(q).is_prime_power():\n",
    "\t\traise ValueError(\"The order of a finite field must be a prime power.\")\n",
    "\tif not Integer(q).is_prime():\n",
    "\t\traise ValueError(\"Our implementation only works when the order 'q' of \" +\n",
    "\t\t\t\"the finite field is prime.\")\n",
    "\tFqX.<X> = GF(q, name='a')['X'] # It represents the polynomials in Fq[X]\n",
    "\tn = len(vs)\n",
    "\tr = n-k\n",
    "\tsyndromePolynomial = FqX.zero()\n",
    "\tfor i in range(n):\n",
    "\t\tterm = FqX.one()\n",
    "\t\tfor j in range(1, r):\n",
    "\t\t\tterm += (FqX(alphas[i]) * X)^j\n",
    "\t\tlagrangePolyn = lagrangePolynomial(q, alphas, i)\n",
    "\t\tsyndromePolynomial += FqX(doubtfulWord[i]) * (FqX(vs[i])^(-1) * (lagrangePolyn(FqX(alphas[i])))^(-1)) * term \n",
    "\treturn syndromePolynomial"
   ]
  },
  {
   "cell_type": "code",
   "execution_count": 129,
   "metadata": {
    "vscode": {
     "languageId": "python"
    }
   },
   "outputs": [],
   "source": [
    "def clef(q, syndromePolynomial, k, n):\n",
    "\tif not Integer(q).is_prime_power():\n",
    "\t\traise ValueError(\"The order of a finite field must be a prime power.\")\n",
    "\tif not Integer(q).is_prime():\n",
    "\t\traise ValueError(\"Our implementation only works when the order 'q' of \" +\n",
    "\t\t\t\"the finite field is prime.\")\n",
    "\tFqX.<X> = GF(q, name='a')['X'] # It represents the polynomials in Fq[X]\n",
    "\tr = n - k\n",
    "\trSequenceJMinus1 = X^r\n",
    "\trSequenceJ = syndromePolynomial\n",
    "\trTemp = 0\n",
    "\tuSequenceJMinus1 = FqX.one()\n",
    "\tuSequenceJ = FqX.zero()\n",
    "\tuTemp = 0\n",
    "\tvSequenceJMinus1 = FqX.zero()\n",
    "\tvSequenceJ = FqX.one()\n",
    "\tvTemp = 0\n",
    "\tqSequenceJ = 0\n",
    "\twhile(FqX(rSequenceJ).degree() >= r/2):\n",
    "\t\tqSequenceJ = FqX(rSequenceJMinus1) // FqX(rSequenceJ) \n",
    "\t\trTemp = rSequenceJ\n",
    "\t\trSequenceJ = FqX(rSequenceJMinus1) % FqX(rSequenceJ) \n",
    "\t\trSequenceJMinus1 = rTemp\n",
    "\t\tuTemp = uSequenceJ\n",
    "\t\tuSequenceJ = uSequenceJMinus1 - uSequenceJ * qSequenceJ\n",
    "\t\tuSequenceJMinus1 = uTemp\n",
    "\t\tvTemp = vSequenceJ\n",
    "\t\tvSequenceJ = vSequenceJMinus1 - vSequenceJ * qSequenceJ\n",
    "\t\tvSequenceJMinus1 = vTemp\n",
    "\tsigma = (vSequenceJ(0))^(-1) * vSequenceJ\n",
    "\tomega = (vSequenceJ(0))^(-1) * rSequenceJ\n",
    "\treturn sigma, omega"
   ]
  },
  {
   "cell_type": "code",
   "execution_count": 130,
   "metadata": {
    "vscode": {
     "languageId": "python"
    }
   },
   "outputs": [],
   "source": [
    "def erreur(q, sigma, omega, vs, alphas):\n",
    "\tif len(vs) != len(alphas):\n",
    "\t\traise ValueError(\"List v and alpha must have the same length.\")\n",
    "\tif not Integer(q).is_prime_power():\n",
    "\t\traise ValueError(\"The order of a finite field must be a prime power.\")\n",
    "\tif not Integer(q).is_prime():\n",
    "\t\traise ValueError(\"Our implementation only works when the order 'q' of \" +\n",
    "\t\t\t\"the finite field is prime.\")\n",
    "\tFqX.<X> = GF(q, name='a')['X'] # It represents the polynomials in Fq[X]\n",
    "\tn = len(vs)\n",
    "\tbIndices = []\n",
    "\tfor index in range(n):\n",
    "\t\tif sigma( (FqX( alphas[index] ))^(-1) ) == 0:\n",
    "\t\t\tbIndices.append(index)\n",
    "\tsigmasDerivative = [ 0 ] * n\n",
    "\t# Here, the goal is to compute the derivative of sigma\n",
    "\t# for each inverse of alpha indexed by b, b in bIndices\n",
    "\tfor bIndex in bIndices: \n",
    "\t\tminusAlphaB = - FqX(alphas[bIndex])\n",
    "\t\tsigmasDerivativeB = FqX.one()\n",
    "\t\tfor bPrimeIndex in bIndices:\n",
    "\t\t\tif bPrimeIndex != bIndex:\n",
    "\t\t\t\tsigmasDerivativeB *= FqX.one() - (FqX(alphas[bPrimeIndex]) * FqX(alphas[bIndex])^(-1))\n",
    "\t\tsigmasDerivative[bIndex] = minusAlphaB * sigmasDerivativeB \n",
    "\terrors = [Integer(0)] * n\n",
    "\tfor bIndex in bIndices:\n",
    "\t\tlagrangePolynom = lagrangePolynomial(q, alphas, bIndex)\n",
    "\t\tuB = (FqX(vs[bIndex]))^(-1) * lagrangePolynom(alphas[bIndex])^(-1)\n",
    "\t\terrors[bIndex] = (-FqX(alphas[bIndex])) * omega( (FqX(alphas[bIndex]))^(-1) ) * (uB * sigmasDerivative[bIndex] )^(-1)\n",
    "\t\terrors[bIndex] = FqX(errors[bIndex])\n",
    "\treturn errors\n",
    "\n",
    "def computeDifferenceBetweenTwoLists(l1, l2):\n",
    "\tif len(l1) != len(l2):\n",
    "\t\traise ValueError(\"List v and alpha must have the same length.\")\n",
    "\tn = len(l1)\n",
    "\tl3 = [ 0 ] * n\n",
    "\tfor i in range(n):\n",
    "\t\tl3[i] = l1[i] - l2[i]\n",
    "\treturn l3"
   ]
  },
  {
   "cell_type": "code",
   "execution_count": 149,
   "metadata": {
    "vscode": {
     "languageId": "python"
    }
   },
   "outputs": [],
   "source": [
    "q = 2**8\n",
    "Fq = GF(q, name='a')\n",
    "R.<X> = Fq['X']\n",
    "C = Fq.list()\n",
    "\n",
    "n, k = 8, 3\n",
    "\n",
    "x = [254, 20, 11]\n",
    "\n",
    "#Generation de v\n",
    "v = []\n",
    "for i in range(n):\n",
    "    v.append(C[randint(1, len(C)-1)])\n",
    "\n",
    "#Generation de a\n",
    "a = []\n",
    "for i in range(n):\n",
    "    c = C[randint(1, len(C)-1)]\n",
    "    while c in a:\n",
    "        c = C[randint(1, len(C)-1)] #generer un element unique\n",
    "    a.append(c)\n",
    "\n",
    "y = codeGRS(x, v, a)\n",
    "x2 = decodeGRS(y, v, a)\n",
    "yp = errTrans(y, 3)"
   ]
  },
  {
   "cell_type": "code",
   "execution_count": 146,
   "metadata": {
    "vscode": {
     "languageId": "python"
    }
   },
   "outputs": [],
   "source": [
    "def codeGRS(message, V, A):\n",
    "    x = []\n",
    "    for  c in message:\n",
    "        x.append(C[c])\n",
    "    f = R.zero()\n",
    "    for i in range(k):\n",
    "        f += x[i] * X**i\n",
    "    return [v*f(a) for v, a in zip(V, A)]\n",
    "\n",
    "def Li(i, A):\n",
    "    L = R.one()\n",
    "    for j in range(n):\n",
    "        if i != j:\n",
    "            L *= X - A[j]\n",
    "    return L \n",
    "\n",
    "def decodeGRS(Y, V, A):\n",
    "    f_alpha = [y/v for y, v in zip(Y, V)]\n",
    "    f = R.zero()\n",
    "    for i in range(n):\n",
    "        L = Li(i, A)\n",
    "        f += (f_alpha[i]*L)/L(A[i])\n",
    "    message = []\n",
    "    for c in f.coefficients() :\n",
    "        message.append(C.index(c))\n",
    "    return message\n",
    "\n",
    "def errTrans(y, nb_Err):\n",
    "    y_prime = list(y)\n",
    "    indices = random.sample(range(len(y)), nb_Err)\n",
    "    for i in indices:\n",
    "        e = C[randint(1, len(C)-1)] \n",
    "        y_prime[i] += e\n",
    "    return y_prime"
   ]
  },
  {
   "cell_type": "code",
   "execution_count": 171,
   "metadata": {
    "vscode": {
     "languageId": "python"
    }
   },
   "outputs": [
    {
     "name": "stdout",
     "output_type": "stream",
     "text": [
      "(a^6 + a^5 + a^4 + a^3 + a)*X^2 + (a^5 + a^4 + a)*X + 1\n",
      "(a^7 + a + 1)*X + a^4 + a^3 + a^2 + a + 1\n",
      "True\n"
     ]
    }
   ],
   "source": [
    "r = n - k\n",
    "yp = errTrans(y, 2)\n",
    "S = Syndrome(yp, a, v)\n",
    "sigma, omega = Clef(S)\n",
    "print(sigma)\n",
    "print(omega)\n",
    "print(((sigma * R(S)) % X**r) == (omega% X**r))"
   ]
  },
  {
   "cell_type": "code",
   "execution_count": 172,
   "metadata": {
    "vscode": {
     "languageId": "python"
    }
   },
   "outputs": [
    {
     "data": {
      "text/plain": [
       "[254, 20, 11]"
      ]
     },
     "execution_count": 172,
     "metadata": {},
     "output_type": "execute_result"
    }
   ],
   "source": [
    "r = n - k\n",
    "\n",
    "S = Syndrome(yp, a, v)\n",
    "sigma, omega = Clef(S)\n",
    "e = Erreur(sigma, omega, a, v)\n",
    "\n",
    "yc = [i-j for i, j in zip(yp, e)]\n",
    "decodeGRS(yc, v, a)"
   ]
  },
  {
   "cell_type": "code",
   "execution_count": 133,
   "metadata": {
    "vscode": {
     "languageId": "python"
    }
   },
   "outputs": [],
   "source": [
    "def Syndrome(y_prime, A, V):\n",
    "    S = R.zero()\n",
    "    for i in range(n):\n",
    "        L = Li(i, A)\n",
    "        S += y_prime[i]/(V[i] * L(A[i])) * sum([(A[i] * X)**j for j in range(r)])\n",
    "    return S\n",
    "\n",
    "def Clef(S):\n",
    "    rr = [X**r, S]\n",
    "    u = [R.one(), R.zero()]\n",
    "    v = [R.zero(), R.one()]\n",
    "    q = [R.zero()]\n",
    "    j = 1\n",
    "    while rr[j].degree() >= r/2:\n",
    "        q.append(rr[j-1] // rr[j])\n",
    "        rr.append(rr[j-1] % rr[j])\n",
    "        u.append(u[j-1] - u[j]*q[j])\n",
    "        v.append(v[j-1] - v[j]*q[j])\n",
    "        j += 1\n",
    "    sigma = v[j]\n",
    "    omega = rr[j]\n",
    "\n",
    "    return sigma/sigma(0), omega/sigma(0)\n",
    "\n",
    "def Erreur(sigma, omega, A, V):\n",
    "    e = [0]*n\n",
    "    B = [sigma(1/A[b]) == 0 for b in range(n)]\n",
    "\n",
    "    for b, i in enumerate(B):\n",
    "        if i == True:\n",
    "            L = Li(b, A)\n",
    "            e[b] = -A[b] * omega(1/A[b]) * V[b] * L(A[b]) * 1/sigma.derivative()(1/A[b])\n",
    "    return e"
   ]
  },
  {
   "cell_type": "code",
   "execution_count": null,
   "metadata": {
    "vscode": {
     "languageId": "python"
    }
   },
   "outputs": [],
   "source": []
  }
 ],
 "metadata": {
  "kernelspec": {
   "display_name": "SageMath 9.6",
   "language": "sage",
   "name": "sagemath"
  },
  "language_info": {
   "codemirror_mode": {
    "name": "ipython",
    "version": 3
   },
   "file_extension": ".py",
   "mimetype": "text/x-python",
   "name": "sage",
   "nbconvert_exporter": "python",
   "pygments_lexer": "ipython3",
   "version": "3.10.4"
  },
  "orig_nbformat": 4
 },
 "nbformat": 4,
 "nbformat_minor": 2
}
