{
 "cells": [
  {
   "cell_type": "code",
   "execution_count": 4,
   "metadata": {},
   "outputs": [],
   "source": [
    "F2 = GF(2)"
   ]
  },
  {
   "cell_type": "code",
   "execution_count": 5,
   "metadata": {},
   "outputs": [],
   "source": [
    "R.<X> = F2['X']"
   ]
  },
  {
   "cell_type": "code",
   "execution_count": 6,
   "metadata": {},
   "outputs": [
    {
     "data": {
      "text/plain": [
       "X * (X + 1) * (X^2 + X + 1) * (X^3 + X + 1) * (X^3 + X^2 + 1) * (X^6 + X + 1) * (X^6 + X^3 + 1) * (X^6 + X^4 + X^2 + X + 1) * (X^6 + X^4 + X^3 + X + 1) * (X^6 + X^5 + 1) * (X^6 + X^5 + X^2 + X + 1) * (X^6 + X^5 + X^3 + X^2 + 1) * (X^6 + X^5 + X^4 + X + 1) * (X^6 + X^5 + X^4 + X^2 + 1)"
      ]
     },
     "execution_count": 6,
     "metadata": {},
     "output_type": "execute_result"
    }
   ],
   "source": [
    "factor(pow(X, 64) - X)"
   ]
  },
  {
   "cell_type": "code",
   "execution_count": 7,
   "metadata": {},
   "outputs": [],
   "source": [
    "P = X**3 + X + 1"
   ]
  },
  {
   "cell_type": "code",
   "execution_count": 8,
   "metadata": {},
   "outputs": [
    {
     "data": {
      "text/plain": [
       "True"
      ]
     },
     "execution_count": 8,
     "metadata": {},
     "output_type": "execute_result"
    }
   ],
   "source": [
    "P.is_irreducible()"
   ]
  },
  {
   "cell_type": "code",
   "execution_count": 10,
   "metadata": {},
   "outputs": [
    {
     "data": {
      "text/plain": [
       "40"
      ]
     },
     "execution_count": 10,
     "metadata": {},
     "output_type": "execute_result"
    }
   ],
   "source": [
    "euler_phi(100)"
   ]
  },
  {
   "cell_type": "code",
   "execution_count": 1,
   "metadata": {},
   "outputs": [
    {
     "data": {
      "text/plain": [
       "40"
      ]
     },
     "execution_count": 1,
     "metadata": {},
     "output_type": "execute_result"
    }
   ],
   "source": [
    "def phiMobius(n):\n",
    "    p = 0\n",
    "    for d in divisors(n):\n",
    "        p += moebius(n /d ) * d\n",
    "    return p\n",
    "\n",
    "phiMobius(100)"
   ]
  },
  {
   "cell_type": "code",
   "execution_count": 2,
   "metadata": {},
   "outputs": [],
   "source": [
    "def irr(p, n):\n",
    "    res = 0\n",
    "    for d in divisors(n):\n",
    "        res += moebius(n/d) * pow(p, d)\n",
    "    return res/n"
   ]
  },
  {
   "cell_type": "code",
   "execution_count": 3,
   "metadata": {},
   "outputs": [],
   "source": [
    "tab = []\n",
    "for i in [2, 3, 5]:\n",
    "    row = []\n",
    "    for j in range(1, 11):\n",
    "        row.append(irr(i, j))\n",
    "    tab.append(row)"
   ]
  },
  {
   "cell_type": "code",
   "execution_count": 4,
   "metadata": {},
   "outputs": [
    {
     "data": {
      "text/plain": [
       "[[2, 1, 2, 3, 6, 9, 18, 30, 56, 99],\n",
       " [3, 3, 8, 18, 48, 116, 312, 810, 2184, 5880],\n",
       " [5, 10, 40, 150, 624, 2580, 11160, 48750, 217000, 976248]]"
      ]
     },
     "execution_count": 4,
     "metadata": {},
     "output_type": "execute_result"
    }
   ],
   "source": [
    "tab"
   ]
  },
  {
   "cell_type": "code",
   "execution_count": 5,
   "metadata": {},
   "outputs": [
    {
     "data": {
      "text/plain": [
       "226"
      ]
     },
     "execution_count": 5,
     "metadata": {},
     "output_type": "execute_result"
    }
   ],
   "source": [
    "sum(tab[0])"
   ]
  },
  {
   "cell_type": "code",
   "execution_count": 2,
   "metadata": {},
   "outputs": [],
   "source": [
    "def codeGRS(X, V, A):\n",
    "    code = []\n",
    "    for a, v in zip(A, V):\n",
    "        code.append(v * f(X, a))\n",
    "    return code\n"
   ]
  },
  {
   "cell_type": "code",
   "execution_count": 3,
   "metadata": {},
   "outputs": [],
   "source": [
    "def f(X, a):\n",
    "    exp = 0\n",
    "    sum = 0\n",
    "    for x in X:\n",
    "        sum += x * pow(a, exp)\n",
    "        exp += 1\n",
    "    return sum"
   ]
  },
  {
   "cell_type": "code",
   "execution_count": 4,
   "metadata": {},
   "outputs": [
    {
     "data": {
      "text/plain": [
       "[1900, 1150, 264110, 56448, 90280]"
      ]
     },
     "execution_count": 4,
     "metadata": {},
     "output_type": "execute_result"
    }
   ],
   "source": [
    "codeGRS([2,4,5,9,8], [2,5,7,9,4], [3,2,8,5,7])"
   ]
  },
  {
   "cell_type": "code",
   "execution_count": 2,
   "metadata": {},
   "outputs": [],
   "source": [
    "q = 2 ** 8\n",
    "n = 8\n",
    "k = 4\n",
    "r = n - k\n",
    "G = GF(q, 'a')\n",
    "c = G.gen()\n",
    "R = PolynomialRing(G, 'X')\n",
    "X = R.gen()\n",
    "\n",
    "a = G.multiplicative_generator()\n",
    "v = [G.one() for i in range(n)]\n",
    "alpha = [a**i for i in range(n)]\n"
   ]
  },
  {
   "cell_type": "code",
   "execution_count": 6,
   "metadata": {},
   "outputs": [
    {
     "data": {
      "text/plain": [
       "X"
      ]
     },
     "execution_count": 6,
     "metadata": {},
     "output_type": "execute_result"
    }
   ],
   "source": [
    "R.gen()"
   ]
  },
  {
   "cell_type": "code",
   "execution_count": 1,
   "metadata": {},
   "outputs": [],
   "source": [
    "p = 2\n",
    "n = 6\n",
    "F2 = GF(p)\n",
    "R = F2.polynomial_ring()\n",
    "prod = R.one() #utilise pour le produit\n",
    "for d in divisors(n):\n",
    "  for poly in R.polynomials(of_degree = d):\n",
    "    if poly.is_irreducible() and poly.is_monic(): # si irreductible et unitaire\n",
    "      prod *= poly"
   ]
  },
  {
   "cell_type": "code",
   "execution_count": 7,
   "metadata": {},
   "outputs": [
    {
     "data": {
      "text/plain": [
       "True"
      ]
     },
     "execution_count": 7,
     "metadata": {},
     "output_type": "execute_result"
    }
   ],
   "source": [
    "prod == R(x ** (p ** n) - x)"
   ]
  },
  {
   "cell_type": "code",
   "execution_count": 3,
   "metadata": {},
   "outputs": [],
   "source": [
    "def encode_rsa(message, e, N):\n",
    "    return map(lambda x: power_mod(int(x), int(e), int(N)), message)\n",
    "\n",
    "def decode_rsa(cipher, d, N):\n",
    "    return list(map(lambda x: power_mod(x, int(d), int(N)), cipher))\n",
    "\n",
    "def randPremier(start, end):\n",
    "    while 1:\n",
    "        nombre = randint(start, end)\n",
    "        if is_prime(nombre) : \n",
    "            return nombre"
   ]
  },
  {
   "cell_type": "code",
   "execution_count": 7,
   "metadata": {},
   "outputs": [],
   "source": [
    "def chooseSize(l, N):\n",
    "    for size in reversed(range(floor(ln(N)/ln(2) + 1))):\n",
    "        if l * 8 % size == 0:\n",
    "            return size\n",
    "\n",
    "def numerise_safe(message, N):\n",
    "    result = []\n",
    "    binaryMessage = BinaryStrings().encoding(message)\n",
    "    size = chooseSize(len(message), N)\n",
    "    for i in range(0, len(binaryMessage), size):\n",
    "        sum = 0\n",
    "        for j in range(size):\n",
    "            sum += int(str(binaryMessage[i+j])) * pow(2, size - j - 1)\n",
    "        result.append(sum)\n",
    "    result.append(size)\n",
    "    return result\n",
    "\n",
    "def toBin(n, size):\n",
    "    res = bin(n)[2:]\n",
    "    if len(res) < size:\n",
    "        res = (size-len(res))*'0' + res\n",
    "    return res\n",
    "\n",
    "def alphabetise_safe(message, N) :\n",
    "    result = []\n",
    "    size = message.pop(-1)\n",
    "    for digit in message:\n",
    "        result.append(toBin(int(digit), size))\n",
    "    binaryMessage = ''.join(result)\n",
    "    alphabeticMessage = ''\n",
    "    for i in range(0, len(binaryMessage), 8):\n",
    "        alphabeticMessage = alphabeticMessage + chr(int(binaryMessage[i:8+i], 2))\n",
    "    return(alphabeticMessage)\n",
    "\n",
    "import random\n",
    "def cleRSA (m):\n",
    "    result = {}\n",
    "    result[\"p\"] = chooseP(m)\n",
    "    result[\"q\"] = chooseQ(m, result[\"p\"])\n",
    "    result[\"e\"] = chooseE(result[\"p\"], result[\"q\"])\n",
    "    result[\"N\"] = result[\"p\"]*result[\"q\"]\n",
    "    result[\"d\"] = inv_modulo(result[\"e\"], (result[\"p\"]-1)*(result[\"q\"]-1))\n",
    "    result.pop(\"p\")\n",
    "    result.pop(\"q\")\n",
    "    return result\n",
    "\n",
    "def inv_modulo(x, m):\n",
    "    (p, u, v) = xgcd(x, m)\n",
    "    if p == 1: return u % abs(m)\n",
    "    else: raise Exception(\"%s et %s ne sont pas premiers entre eux\" % (x, m))\n",
    "\n",
    "def chooseP(m):\n",
    "    return randPremier(int((1 / sqrt(2)) * pow(2,m/2)), int(pow(2,m/2)))\n",
    "\n",
    "def chooseQ(m, p):\n",
    "    while True:\n",
    "        q = randPremier(int(1/sqrt(2)*pow(2,m/2)),int(pow(2,m/2)))\n",
    "        if q != p:\n",
    "            return q\n",
    "\n",
    "def chooseE(p, q):\n",
    "    phi = (p-1)*(q-1)\n",
    "    while 1:\n",
    "        e = randint(1, phi)\n",
    "        if gcd(e, phi) == 1 :\n",
    "            return e"
   ]
  },
  {
   "cell_type": "code",
   "execution_count": 2,
   "metadata": {},
   "outputs": [],
   "source": [
    "def codeGRS(message, V, A):\n",
    "    x = []\n",
    "    for  c in message:\n",
    "        x.append(C[c])\n",
    "    f = R.zero()\n",
    "    for i in range(k):\n",
    "        f += x[i] * X**i\n",
    "    return [v*f(a) for v, a in zip(V, A)]\n",
    "\n",
    "def Li(i, A):\n",
    "    L = R.one()\n",
    "    for j in range(n):\n",
    "        if i != j:\n",
    "            L *= X - A[j]\n",
    "    return L \n",
    "\n",
    "def decodeGRS(Y, V, A):\n",
    "    f_alpha = [y/v for y, v in zip(Y, V)]\n",
    "    f = R.zero()\n",
    "    for i in range(n):\n",
    "        L = Li(i, A)\n",
    "        f += (f_alpha[i]*L)/L(A[i])\n",
    "    message = []\n",
    "    for c in f.coefficients() :\n",
    "        message.append(C.index(c))\n",
    "    return message"
   ]
  },
  {
   "cell_type": "code",
   "execution_count": 94,
   "metadata": {},
   "outputs": [],
   "source": [
    "q = 2**8\n",
    "Fq = GF(q, name='a')\n",
    "R.<X> = Fq['X']\n",
    "C = Fq.list()\n",
    "\n",
    "n, k = 8, 3\n",
    "\n",
    "x = [254, 20, 11]\n",
    "\n",
    "#Generation de v\n",
    "v = []\n",
    "for i in range(n):\n",
    "    v.append(C[randint(1, len(C)-1)])\n",
    "\n",
    "#Generation de a\n",
    "a = []\n",
    "for i in range(n):\n",
    "    c = C[randint(1, len(C)-1)]\n",
    "    while c in a:\n",
    "        c = C[randint(1, len(C)-1)] #generer un element unique\n",
    "    a.append(c)"
   ]
  },
  {
   "cell_type": "code",
   "execution_count": 85,
   "metadata": {},
   "outputs": [],
   "source": [
    "numerised_message = numerise_safe(\"Saulut  sdf sdcsbb bxvc gvhvh,gdvchsvchvshc comment ca va ?\", 3 * 8)"
   ]
  },
  {
   "cell_type": "code",
   "execution_count": 8,
   "metadata": {},
   "outputs": [],
   "source": [
    "cle = cleRSA(8)\n",
    "e = cle['e']\n",
    "N = cle['N']\n",
    "d = cle['d']"
   ]
  },
  {
   "cell_type": "code",
   "execution_count": 86,
   "metadata": {},
   "outputs": [],
   "source": [
    "crypted_message_map = encode_rsa(numerised_message, e, N)"
   ]
  },
  {
   "cell_type": "code",
   "execution_count": 87,
   "metadata": {},
   "outputs": [
    {
     "name": "stdout",
     "output_type": "stream",
     "text": [
      "[125, 126, 128, 1, 2, 125, 128, 12, 2, 125, 2, 75, 85, 0, 85, 0, 2, 126, 128, 75, 128, 128, 85, 0, 2, 126, 128, 75, 128, 126, 2, 126, 128, 85, 128, 85, 85, 0, 128, 85, 2, 83, 2, 128, 128, 126, 85, 0, 128, 2, 2, 128, 128, 83, 2, 128, 128, 83, 85, 12, 128, 2, 128, 75, 2, 128, 128, 126, 128, 83, 2, 126, 2, 128, 128, 126, 128, 83, 2, 128, 2, 126, 128, 83, 128, 126, 85, 0, 128, 126, 128, 20, 128, 52, 128, 52, 128, 125, 128, 27, 2, 75, 85, 0, 128, 126, 128, 1, 85, 0, 2, 128, 128, 1, 85, 0, 126, 20, 75]\n"
     ]
    }
   ],
   "source": [
    "crypted_message = list(crypted_message_map); print(crypted_message)"
   ]
  },
  {
   "cell_type": "code",
   "execution_count": 100,
   "metadata": {},
   "outputs": [],
   "source": [
    "def split(message, k):\n",
    "    result = []\n",
    "    while (len(message) % k != 0):\n",
    "        message.append(0)\n",
    "    for i in range(0, len(message), k):\n",
    "        new_element = []\n",
    "        for j in range(k):\n",
    "            new_element.append(message[i + j])\n",
    "        result.append(new_element)\n",
    "    return result"
   ]
  },
  {
   "cell_type": "code",
   "execution_count": 101,
   "metadata": {},
   "outputs": [
    {
     "name": "stdout",
     "output_type": "stream",
     "text": [
      "[[126, 127, 129], [2, 3, 126], [129, 13, 3], [126, 3, 76], [86, 1, 86], [1, 3, 127], [129, 76, 129], [129, 86, 1], [3, 127, 129], [76, 129, 127], [3, 127, 129], [86, 129, 86], [86, 1, 129], [86, 3, 84], [3, 129, 129], [127, 86, 1], [129, 3, 3], [129, 129, 84], [3, 129, 129], [84, 86, 13], [129, 3, 129], [76, 3, 129], [129, 127, 129], [84, 3, 127], [3, 129, 129], [127, 129, 84], [3, 129, 3], [127, 129, 84], [129, 127, 86], [1, 129, 127], [129, 21, 129], [53, 129, 53], [129, 126, 129], [28, 3, 76], [86, 1, 129], [127, 129, 2], [86, 1, 3], [129, 129, 2], [86, 1, 127], [21, 76, 1]]\n"
     ]
    }
   ],
   "source": [
    "print(split(crypted_message))"
   ]
  },
  {
   "cell_type": "code",
   "execution_count": 102,
   "metadata": {},
   "outputs": [],
   "source": [
    "def gather(list):\n",
    "    result = []\n",
    "    for sublist in list:\n",
    "        for element in sublist:\n",
    "            result.append(element - 1)\n",
    "    while (result[-1] == 0):\n",
    "        result = result[:-1]\n",
    "    return result"
   ]
  },
  {
   "cell_type": "code",
   "execution_count": null,
   "metadata": {},
   "outputs": [],
   "source": []
  },
  {
   "cell_type": "code",
   "execution_count": 103,
   "metadata": {},
   "outputs": [],
   "source": [
    "splitted_message = split(crypted_message)"
   ]
  },
  {
   "cell_type": "code",
   "execution_count": 104,
   "metadata": {},
   "outputs": [],
   "source": [
    "grs_encoded = [codeGRS(word, v, a) for word in splitted_message]"
   ]
  },
  {
   "cell_type": "code",
   "execution_count": 105,
   "metadata": {},
   "outputs": [
    {
     "data": {
      "text/plain": [
       "[[a^6 + a^4 + a^3 + a^2,\n",
       "  a^7 + a^5 + a^4,\n",
       "  a^5 + a^4 + a^3 + a^2,\n",
       "  a^7 + a^6 + a^2 + a + 1,\n",
       "  a^7 + a^6 + a^5 + a^4 + a^2,\n",
       "  a^7 + a^5 + a^3 + a^2,\n",
       "  a^5 + a^3 + a^2,\n",
       "  a^6 + a^4 + a^2 + a + 1],\n",
       " [a^4 + a^3 + a^2 + 1,\n",
       "  a^7 + a^5 + a^4 + a + 1,\n",
       "  a^5 + a^4 + a^2,\n",
       "  a^2,\n",
       "  a^4 + a^2,\n",
       "  a^5 + a^4 + a^3 + a^2,\n",
       "  a^7 + a^6 + a^2 + a,\n",
       "  a^6 + a^5 + a^4 + a^3 + a^2 + a + 1],\n",
       " [a^7 + a^4 + 1,\n",
       "  a^5 + a^3 + a^2,\n",
       "  a^7 + a^5 + a^4 + a^2 + 1,\n",
       "  a^6 + a^5 + a^4,\n",
       "  a^7 + a^6 + a^5 + a^4 + a^3 + a^2 + a,\n",
       "  a^6 + a^5 + a^4 + a^3 + a,\n",
       "  a^7 + a^5 + a^4 + a^3 + a + 1,\n",
       "  a^6 + a^4 + a^3 + 1],\n",
       " [a^5 + a^4,\n",
       "  a^7 + a^4 + a^3 + 1,\n",
       "  a^5 + a^4 + a^2 + a + 1,\n",
       "  a^6 + 1,\n",
       "  a^7 + a^5 + a^3,\n",
       "  a^3 + a^2 + a + 1,\n",
       "  a^5 + a^4 + a^3 + 1,\n",
       "  a^6 + a],\n",
       " [a^6 + a^4 + a^3 + a,\n",
       "  a^6 + a^5 + a^4 + a + 1,\n",
       "  a^6 + a^4 + 1,\n",
       "  a^7 + a^6 + a^5 + a^2 + a,\n",
       "  a^5 + a^3 + a + 1,\n",
       "  a^6 + a^5 + a^2 + a + 1,\n",
       "  a^6 + a^5 + a^3 + a^2 + a,\n",
       "  a^7 + a^4 + a^2 + 1],\n",
       " [a^7 + a^3,\n",
       "  a^7 + a^5 + a^4 + a^2 + a,\n",
       "  a^6 + a^5 + a^2,\n",
       "  a^7 + a^4 + a^2 + a,\n",
       "  a^7 + a^6 + a^3 + 1,\n",
       "  a^7 + a^6 + 1,\n",
       "  a^6 + a^5 + a^4 + a^3 + a,\n",
       "  a^7 + a^5 + a^4 + a^3 + 1],\n",
       " [a^7 + a^6 + a^3 + a^2,\n",
       "  a^7 + a^6 + a^5,\n",
       "  a^6 + a^4 + a^2 + a,\n",
       "  a^7 + a^6 + a^5 + a^4 + a^3,\n",
       "  a^6 + a^4 + a,\n",
       "  a^3 + a^2 + a,\n",
       "  a^2 + a + 1,\n",
       "  a^5 + a],\n",
       " [a^6 + a^3 + a^2 + a + 1,\n",
       "  a^7 + 1,\n",
       "  a^6 + a^4 + a^3 + a^2 + a + 1,\n",
       "  a^7 + a^6 + a^5 + a^4 + a^3 + a,\n",
       "  a^7 + a^5 + 1,\n",
       "  a^7 + a^5 + a^2 + a,\n",
       "  a^7 + a^6 + a^5 + 1,\n",
       "  a^6 + a^5 + a^4 + a^3 + 1],\n",
       " [a^7 + a^6 + a^4 + a^2 + a + 1,\n",
       "  a^7 + a^6 + a^2,\n",
       "  a^5 + a^4 + a^3,\n",
       "  a^7 + a^6 + a^4 + a^3 + a^2 + a,\n",
       "  a^7 + a^6 + a^3 + a^2 + a,\n",
       "  a^6 + a^4 + a^3 + a + 1,\n",
       "  a^5 + a^4 + a^2 + 1,\n",
       "  a^6 + a^4],\n",
       " [a^6 + a^4 + a^3,\n",
       "  a^6 + a^5 + a^4 + a^3 + 1,\n",
       "  a^3 + a^2 + a + 1,\n",
       "  a^7 + a^6 + a^5 + a^3 + a^2 + a,\n",
       "  a^3,\n",
       "  a^5 + 1,\n",
       "  a^5 + a^4 + a^2 + a,\n",
       "  a^5 + a^3 + 1],\n",
       " [a^7 + a^6 + a^4 + a^2 + a + 1,\n",
       "  a^7 + a^6 + a^2,\n",
       "  a^5 + a^4 + a^3,\n",
       "  a^7 + a^6 + a^4 + a^3 + a^2 + a,\n",
       "  a^7 + a^6 + a^3 + a^2 + a,\n",
       "  a^6 + a^4 + a^3 + a + 1,\n",
       "  a^5 + a^4 + a^2 + 1,\n",
       "  a^6 + a^4],\n",
       " [a^7 + a^4 + a^3 + a,\n",
       "  a^5 + a^4 + a^3 + a^2 + 1,\n",
       "  a^5 + a^4 + a^3 + a^2 + a,\n",
       "  a^5 + a^4 + a^3 + 1,\n",
       "  a^7 + a^6 + a^5 + a^3 + a + 1,\n",
       "  a^7 + a^6 + a^3,\n",
       "  a^6 + a^5 + a^3 + a + 1,\n",
       "  a^7 + a^5 + a^4 + a^3],\n",
       " [a^4 + a^3 + a + 1,\n",
       "  a^7 + a^4 + a^2 + a,\n",
       "  a^7 + a^5 + a^2,\n",
       "  a^7 + a^5 + a^2 + 1,\n",
       "  a^7 + a^6 + a^5 + a^3 + a^2 + 1,\n",
       "  a^7 + a^5 + a^3 + a^2 + 1,\n",
       "  a^6 + a + 1,\n",
       "  a^6 + a^3],\n",
       " [a^6 + a^4 + a^2 + 1,\n",
       "  a^7 + a^5 + a^2,\n",
       "  a^7 + a^5 + a^3 + a^2 + a,\n",
       "  a^7 + a^6 + a^5 + a^2,\n",
       "  a^6,\n",
       "  a^7 + a^6 + a^5 + a^2 + a,\n",
       "  a^7 + a^4 + a^3 + a^2 + 1,\n",
       "  a^3 + a^2 + 1],\n",
       " [a^4 + a^2 + 1,\n",
       "  a^7 + a^4 + a^3 + a,\n",
       "  a^7 + a^4 + a^2 + a + 1,\n",
       "  a^7 + a^5 + a^4 + a^3,\n",
       "  a^3 + a^2,\n",
       "  a^5 + a^4 + a^2 + a,\n",
       "  a^7 + a^2,\n",
       "  0],\n",
       " [a^6 + a^5 + a^4 + a,\n",
       "  a^7 + a + 1,\n",
       "  a^6 + a^2,\n",
       "  a^6 + a^5 + a^3 + a^2 + a + 1,\n",
       "  a^7 + a^5,\n",
       "  a^7 + a^5 + a^3 + a^2 + a + 1,\n",
       "  a^6 + a^5 + a^4 + a^2,\n",
       "  a^5 + a^3 + a^2 + a],\n",
       " [a^6 + a^5 + a^4 + a^2,\n",
       "  a^6 + a^4 + a^2 + a + 1,\n",
       "  a^7 + a^5 + a^4 + a^3 + a + 1,\n",
       "  a^6 + a^3 + a^2 + 1,\n",
       "  a^4 + a^3 + a + 1,\n",
       "  a^7 + a^4 + 1,\n",
       "  a^4 + a^3 + a^2 + a,\n",
       "  a^7 + a^5 + a^4 + a^3 + a^2 + 1],\n",
       " [a^6 + a^4 + a^2 + 1,\n",
       "  a^5 + a^2,\n",
       "  a^6,\n",
       "  a^7 + a^6 + a + 1,\n",
       "  a^5 + a^3,\n",
       "  a^7 + a^3 + a^2 + a,\n",
       "  a^7 + a^3 + a^2 + a,\n",
       "  a^7 + a^5 + a^4 + a],\n",
       " [a^4 + a^2 + 1,\n",
       "  a^7 + a^4 + a^3 + a,\n",
       "  a^7 + a^4 + a^2 + a + 1,\n",
       "  a^7 + a^5 + a^4 + a^3,\n",
       "  a^3 + a^2,\n",
       "  a^5 + a^4 + a^2 + a,\n",
       "  a^7 + a^2,\n",
       "  0],\n",
       " [a^7 + a^6 + a^5 + a^4 + 1,\n",
       "  a^6 + a^5 + a^3 + a^2,\n",
       "  a^6 + a^5 + a^4 + a^3,\n",
       "  a^6 + a^3 + a^2,\n",
       "  a^6 + a^5 + a^3 + a^2 + a,\n",
       "  a^6 + 1,\n",
       "  a^5 + a^4 + a^3 + a^2 + a + 1,\n",
       "  a^7 + a^2 + a],\n",
       " [a^7 + a^6 + a^4 + a^3 + a + 1,\n",
       "  a^6 + a^4 + a^3,\n",
       "  a^5 + a^2 + 1,\n",
       "  a^6 + a^4 + a^3 + a^2 + 1,\n",
       "  a^6 + a^2 + 1,\n",
       "  a^6 + a^5 + a^3 + a,\n",
       "  a^6 + a^4 + a^2 + 1,\n",
       "  a^7 + a^6 + a^4 + a^3 + a],\n",
       " [a^7 + 1,\n",
       "  a^6 + a^5 + a^4 + a^3 + a + 1,\n",
       "  a^4,\n",
       "  a^7 + a^5 + a^3 + 1,\n",
       "  a^7 + a^6 + a^4 + a^3 + a,\n",
       "  a^6 + a^5 + a^4 + a^3 + 1,\n",
       "  a^7 + a^5 + 1,\n",
       "  a^5 + a^4 + 1],\n",
       " [a^4 + 1,\n",
       "  a^6 + a^2 + a,\n",
       "  a^7 + a^5 + a^3 + a^2 + 1,\n",
       "  a^7 + a^6 + a^5 + a^2 + 1,\n",
       "  a^7 + a^3 + a^2 + a + 1,\n",
       "  a^5 + a^3,\n",
       "  a^3 + a^2 + a,\n",
       "  a^6 + a^5 + a + 1],\n",
       " [a^5 + a^4 + a^2 + 1,\n",
       "  a^5 + a^3,\n",
       "  a^6 + a^5 + a^4 + a + 1,\n",
       "  a^5 + a^3,\n",
       "  a^7 + a^2 + a,\n",
       "  a^7 + a^6 + a^3 + a^2,\n",
       "  a^7 + a^6 + a^2,\n",
       "  a^7 + a^6 + a^5 + a^2 + a + 1],\n",
       " [a^4 + a^2 + 1,\n",
       "  a^7 + a^4 + a^3 + a,\n",
       "  a^7 + a^4 + a^2 + a + 1,\n",
       "  a^7 + a^5 + a^4 + a^3,\n",
       "  a^3 + a^2,\n",
       "  a^5 + a^4 + a^2 + a,\n",
       "  a^7 + a^2,\n",
       "  0],\n",
       " [a^6 + a^5 + a^3,\n",
       "  a^5 + a^2 + a,\n",
       "  a^6 + a^4 + a^3 + a + 1,\n",
       "  a^6 + a^4 + a^2 + a,\n",
       "  a^5 + a^3 + 1,\n",
       "  a^7 + a^2 + a + 1,\n",
       "  a^4 + a^3 + a + 1,\n",
       "  a^7 + a^6 + a^5 + a^2 + 1],\n",
       " [a^7 + a^5 + a^4 + a^3 + a,\n",
       "  a^7 + a^4 + a^2 + 1,\n",
       "  a^3 + 1,\n",
       "  a^7 + a^5 + a^3,\n",
       "  a^6 + a^4 + a,\n",
       "  a^7 + a^6 + a^3 + a^2 + 1,\n",
       "  a^7 + a^6 + a^3 + a^2 + a + 1,\n",
       "  a^6 + a^5 + a^2 + a + 1],\n",
       " [a^6 + a^5 + a^3,\n",
       "  a^5 + a^2 + a,\n",
       "  a^6 + a^4 + a^3 + a + 1,\n",
       "  a^6 + a^4 + a^2 + a,\n",
       "  a^5 + a^3 + 1,\n",
       "  a^7 + a^2 + a + 1,\n",
       "  a^4 + a^3 + a + 1,\n",
       "  a^7 + a^6 + a^5 + a^2 + 1],\n",
       " [a^6 + a^4,\n",
       "  a^7 + a^5 + a + 1,\n",
       "  a^6 + a^4 + a^3,\n",
       "  a^7 + a^5 + a^2 + a,\n",
       "  a^6 + a^3 + 1,\n",
       "  a^7 + a^6 + a^5 + a,\n",
       "  a^5 + a + 1,\n",
       "  a^7 + a^5 + a^4 + a^3 + a^2 + a],\n",
       " [a^7,\n",
       "  a^7 + a^6 + a^5 + a^4 + a^2 + a,\n",
       "  a^6 + a + 1,\n",
       "  a^6 + a^3,\n",
       "  a^7 + a^6 + 1,\n",
       "  a^7 + a^6 + a^5 + a^3 + a^2 + a,\n",
       "  a^7 + a^4,\n",
       "  a^6 + a^4],\n",
       " [a^7 + a^5 + a^4 + a^2 + a,\n",
       "  a^4 + a^2 + a + 1,\n",
       "  a^6 + a^2 + a,\n",
       "  a^7 + a^6 + a^4 + a^3 + a^2 + a + 1,\n",
       "  a^5 + a^3,\n",
       "  a^6 + a^5 + a^2,\n",
       "  a^4 + a^3 + a^2,\n",
       "  a^7 + a^6 + a^5 + 1],\n",
       " [a^4 + a^3 + a^2 + 1,\n",
       "  a^6 + a^5 + a^4 + a^2,\n",
       "  a^5 + a^2 + a + 1,\n",
       "  a^7 + a^6 + a^3 + a^2 + a + 1,\n",
       "  a^6 + a^5 + a^4 + a,\n",
       "  a^7 + a^5 + 1,\n",
       "  a^7 + a^5 + a^4 + a^3 + a^2 + a,\n",
       "  a^7 + a^6 + a^5 + a^4 + a^3 + a + 1],\n",
       " [a^7 + a^6 + a^2 + 1,\n",
       "  a^7 + a^5 + a^3,\n",
       "  a^4 + 1,\n",
       "  a^7 + a^6 + a^5 + a^4 + a^2,\n",
       "  a^6 + a^4 + a^3 + a + 1,\n",
       "  a^6,\n",
       "  a^7 + a^5 + a^4 + a^2 + a + 1,\n",
       "  a^6 + a^5 + a^4 + a^3 + a + 1],\n",
       " [a^4 + a^3 + a + 1,\n",
       "  a^6 + a^4 + a^2 + a,\n",
       "  a^5 + a^4 + a^3 + a^2,\n",
       "  a^7 + a^5 + a^4,\n",
       "  a^6 + 1,\n",
       "  a^7 + a^6 + a^5 + a^4 + a^3 + a^2 + 1,\n",
       "  a^7 + a^6 + a^3,\n",
       "  a^3 + 1],\n",
       " [a^4 + a^3 + a + 1,\n",
       "  a^7 + a^4 + a^2 + a,\n",
       "  a^7 + a^5 + a^2,\n",
       "  a^7 + a^5 + a^2 + 1,\n",
       "  a^7 + a^6 + a^5 + a^3 + a^2 + 1,\n",
       "  a^7 + a^5 + a^3 + a^2 + 1,\n",
       "  a^6 + a + 1,\n",
       "  a^6 + a^3],\n",
       " [a^7 + a^5 + a^3 + 1,\n",
       "  a^7 + a^6 + a^5 + a^3 + a^2 + a + 1,\n",
       "  a^7 + a^3 + a^2 + 1,\n",
       "  a^7 + a^6 + a^5 + a^4,\n",
       "  a^2,\n",
       "  a^7 + a^6 + a^5 + a^2 + 1,\n",
       "  a^7 + a^6 + a^4 + a^2 + a + 1,\n",
       "  a^7 + a^3 + a^2],\n",
       " [a^7 + a^5 + a^4 + a^2,\n",
       "  a^7 + a^4 + a^3 + 1,\n",
       "  a^5 + a^4 + a^3 + a,\n",
       "  a^7 + a^5 + a^4 + a^2 + 1,\n",
       "  a^7 + a^5 + a^4 + a + 1,\n",
       "  a^6 + a^4 + a^2 + a,\n",
       "  a^3,\n",
       "  a^5 + a^3 + a^2 + a + 1],\n",
       " [a^7 + a^4 + a^2,\n",
       "  a^7 + a^6 + a^5 + a^3 + a^2 + 1,\n",
       "  a^7 + a^4 + a^2 + a,\n",
       "  a^6 + a^5 + a^2 + 1,\n",
       "  a^2 + 1,\n",
       "  a^7 + a^6 + a^5 + a^3 + a^2,\n",
       "  a^6 + a,\n",
       "  a^7 + a^6 + a^4 + a^3 + a + 1],\n",
       " [a^7 + a^6 + a^3 + a,\n",
       "  a^7 + a^6 + a^4 + a^2,\n",
       "  a^7 + a^4 + a^3 + a^2,\n",
       "  a^5 + a^4 + a^3 + a^2,\n",
       "  a^5 + a^4 + a^2 + a + 1,\n",
       "  a^7 + a^6 + a^4 + a^3 + a,\n",
       "  a^5 + a^4 + a^3 + a^2 + a,\n",
       "  a^7 + a^5 + a^4 + a^3 + 1],\n",
       " [a^3 + a^2,\n",
       "  a^5 + a^3,\n",
       "  a^7,\n",
       "  a^5 + a^4 + a,\n",
       "  a^5 + a^4 + 1,\n",
       "  a^7 + a^5 + a^4 + a + 1,\n",
       "  a^7 + a^6 + a^5 + a^4 + a^2 + a,\n",
       "  a^5 + a^4 + 1]]"
      ]
     },
     "execution_count": 105,
     "metadata": {},
     "output_type": "execute_result"
    }
   ],
   "source": [
    "grs_encoded"
   ]
  },
  {
   "cell_type": "code",
   "execution_count": 106,
   "metadata": {},
   "outputs": [],
   "source": [
    "grs_decoded = [decodeGRS(word, v, a) for word in grs_encoded]"
   ]
  },
  {
   "cell_type": "code",
   "execution_count": 107,
   "metadata": {},
   "outputs": [
    {
     "data": {
      "text/plain": [
       "[[126, 127, 129],\n",
       " [2, 3, 126],\n",
       " [129, 13, 3],\n",
       " [126, 3, 76],\n",
       " [86, 1, 86],\n",
       " [1, 3, 127],\n",
       " [129, 76, 129],\n",
       " [129, 86, 1],\n",
       " [3, 127, 129],\n",
       " [76, 129, 127],\n",
       " [3, 127, 129],\n",
       " [86, 129, 86],\n",
       " [86, 1, 129],\n",
       " [86, 3, 84],\n",
       " [3, 129, 129],\n",
       " [127, 86, 1],\n",
       " [129, 3, 3],\n",
       " [129, 129, 84],\n",
       " [3, 129, 129],\n",
       " [84, 86, 13],\n",
       " [129, 3, 129],\n",
       " [76, 3, 129],\n",
       " [129, 127, 129],\n",
       " [84, 3, 127],\n",
       " [3, 129, 129],\n",
       " [127, 129, 84],\n",
       " [3, 129, 3],\n",
       " [127, 129, 84],\n",
       " [129, 127, 86],\n",
       " [1, 129, 127],\n",
       " [129, 21, 129],\n",
       " [53, 129, 53],\n",
       " [129, 126, 129],\n",
       " [28, 3, 76],\n",
       " [86, 1, 129],\n",
       " [127, 129, 2],\n",
       " [86, 1, 3],\n",
       " [129, 129, 2],\n",
       " [86, 1, 127],\n",
       " [21, 76, 1]]"
      ]
     },
     "execution_count": 107,
     "metadata": {},
     "output_type": "execute_result"
    }
   ],
   "source": [
    "grs_decoded"
   ]
  },
  {
   "cell_type": "code",
   "execution_count": 108,
   "metadata": {},
   "outputs": [],
   "source": [
    "gathered_message = gather(grs_decoded)"
   ]
  },
  {
   "cell_type": "code",
   "execution_count": 109,
   "metadata": {},
   "outputs": [
    {
     "data": {
      "text/plain": [
       "[125,\n",
       " 126,\n",
       " 128,\n",
       " 1,\n",
       " 2,\n",
       " 125,\n",
       " 128,\n",
       " 12,\n",
       " 2,\n",
       " 125,\n",
       " 2,\n",
       " 75,\n",
       " 85,\n",
       " 0,\n",
       " 85,\n",
       " 0,\n",
       " 2,\n",
       " 126,\n",
       " 128,\n",
       " 75,\n",
       " 128,\n",
       " 128,\n",
       " 85,\n",
       " 0,\n",
       " 2,\n",
       " 126,\n",
       " 128,\n",
       " 75,\n",
       " 128,\n",
       " 126,\n",
       " 2,\n",
       " 126,\n",
       " 128,\n",
       " 85,\n",
       " 128,\n",
       " 85,\n",
       " 85,\n",
       " 0,\n",
       " 128,\n",
       " 85,\n",
       " 2,\n",
       " 83,\n",
       " 2,\n",
       " 128,\n",
       " 128,\n",
       " 126,\n",
       " 85,\n",
       " 0,\n",
       " 128,\n",
       " 2,\n",
       " 2,\n",
       " 128,\n",
       " 128,\n",
       " 83,\n",
       " 2,\n",
       " 128,\n",
       " 128,\n",
       " 83,\n",
       " 85,\n",
       " 12,\n",
       " 128,\n",
       " 2,\n",
       " 128,\n",
       " 75,\n",
       " 2,\n",
       " 128,\n",
       " 128,\n",
       " 126,\n",
       " 128,\n",
       " 83,\n",
       " 2,\n",
       " 126,\n",
       " 2,\n",
       " 128,\n",
       " 128,\n",
       " 126,\n",
       " 128,\n",
       " 83,\n",
       " 2,\n",
       " 128,\n",
       " 2,\n",
       " 126,\n",
       " 128,\n",
       " 83,\n",
       " 128,\n",
       " 126,\n",
       " 85,\n",
       " 0,\n",
       " 128,\n",
       " 126,\n",
       " 128,\n",
       " 20,\n",
       " 128,\n",
       " 52,\n",
       " 128,\n",
       " 52,\n",
       " 128,\n",
       " 125,\n",
       " 128,\n",
       " 27,\n",
       " 2,\n",
       " 75,\n",
       " 85,\n",
       " 0,\n",
       " 128,\n",
       " 126,\n",
       " 128,\n",
       " 1,\n",
       " 85,\n",
       " 0,\n",
       " 2,\n",
       " 128,\n",
       " 128,\n",
       " 1,\n",
       " 85,\n",
       " 0,\n",
       " 126,\n",
       " 20,\n",
       " 75]"
      ]
     },
     "execution_count": 109,
     "metadata": {},
     "output_type": "execute_result"
    }
   ],
   "source": [
    "gathered_message"
   ]
  },
  {
   "cell_type": "code",
   "execution_count": 110,
   "metadata": {},
   "outputs": [],
   "source": [
    "decoded_message = decode_rsa(gathered_message, d, N)"
   ]
  },
  {
   "cell_type": "code",
   "execution_count": 111,
   "metadata": {},
   "outputs": [
    {
     "data": {
      "text/plain": [
       "'Saulut  sdf sdcsbb bxvc gvhvh,gdvchsvchvshc comment ca va ?'"
      ]
     },
     "execution_count": 111,
     "metadata": {},
     "output_type": "execute_result"
    }
   ],
   "source": [
    "alphabetise_safe(decoded_message, 3 * 8)"
   ]
  },
  {
   "cell_type": "code",
   "execution_count": null,
   "metadata": {},
   "outputs": [],
   "source": []
  }
 ],
 "metadata": {
  "kernelspec": {
   "display_name": "SageMath 9.6",
   "language": "sage",
   "name": "sagemath"
  },
  "language_info": {
   "codemirror_mode": {
    "name": "ipython",
    "version": 3
   },
   "file_extension": ".py",
   "mimetype": "text/x-python",
   "name": "python",
   "nbconvert_exporter": "python",
   "pygments_lexer": "ipython3",
   "version": "3.10.4"
  },
  "orig_nbformat": 4
 },
 "nbformat": 4,
 "nbformat_minor": 2
}
