{
 "cells": [
  {
   "cell_type": "code",
   "execution_count": 4,
   "metadata": {
    "vscode": {
     "languageId": "python"
    }
   },
   "outputs": [],
   "source": [
    "F2 = GF(2)"
   ]
  },
  {
   "cell_type": "code",
   "execution_count": 5,
   "metadata": {
    "vscode": {
     "languageId": "python"
    }
   },
   "outputs": [],
   "source": [
    "R.<X> = F2['X']"
   ]
  },
  {
   "cell_type": "code",
   "execution_count": 6,
   "metadata": {
    "vscode": {
     "languageId": "python"
    }
   },
   "outputs": [
    {
     "data": {
      "text/plain": [
       "X * (X + 1) * (X^2 + X + 1) * (X^3 + X + 1) * (X^3 + X^2 + 1) * (X^6 + X + 1) * (X^6 + X^3 + 1) * (X^6 + X^4 + X^2 + X + 1) * (X^6 + X^4 + X^3 + X + 1) * (X^6 + X^5 + 1) * (X^6 + X^5 + X^2 + X + 1) * (X^6 + X^5 + X^3 + X^2 + 1) * (X^6 + X^5 + X^4 + X + 1) * (X^6 + X^5 + X^4 + X^2 + 1)"
      ]
     },
     "execution_count": 6,
     "metadata": {},
     "output_type": "execute_result"
    }
   ],
   "source": [
    "factor(pow(X, 64) - X)"
   ]
  },
  {
   "cell_type": "code",
   "execution_count": 7,
   "metadata": {
    "vscode": {
     "languageId": "python"
    }
   },
   "outputs": [],
   "source": [
    "P = X**3 + X + 1"
   ]
  },
  {
   "cell_type": "code",
   "execution_count": 8,
   "metadata": {
    "vscode": {
     "languageId": "python"
    }
   },
   "outputs": [
    {
     "data": {
      "text/plain": [
       "True"
      ]
     },
     "execution_count": 8,
     "metadata": {},
     "output_type": "execute_result"
    }
   ],
   "source": [
    "P.is_irreducible()"
   ]
  },
  {
   "cell_type": "code",
   "execution_count": 10,
   "metadata": {
    "vscode": {
     "languageId": "python"
    }
   },
   "outputs": [
    {
     "data": {
      "text/plain": [
       "40"
      ]
     },
     "execution_count": 10,
     "metadata": {},
     "output_type": "execute_result"
    }
   ],
   "source": [
    "euler_phi(100)"
   ]
  },
  {
   "cell_type": "code",
   "execution_count": 1,
   "metadata": {
    "vscode": {
     "languageId": "python"
    }
   },
   "outputs": [
    {
     "data": {
      "text/plain": [
       "40"
      ]
     },
     "execution_count": 1,
     "metadata": {},
     "output_type": "execute_result"
    }
   ],
   "source": [
    "f = 0\n",
    "for d in divisors(100):\n",
    "    f += moebius(100/d)*d\n",
    "f"
   ]
  },
  {
   "cell_type": "code",
   "execution_count": 2,
   "metadata": {
    "vscode": {
     "languageId": "python"
    }
   },
   "outputs": [],
   "source": [
    "def irr(p, n):\n",
    "    res = 0\n",
    "    for d in divisors(n):\n",
    "        res += moebius(n/d) * pow(p, d)\n",
    "    return res/n"
   ]
  },
  {
   "cell_type": "code",
   "execution_count": 3,
   "metadata": {
    "vscode": {
     "languageId": "python"
    }
   },
   "outputs": [],
   "source": [
    "tab = []\n",
    "for i in [2, 3, 5]:\n",
    "    row = []\n",
    "    for j in range(1, 11):\n",
    "        row.append(irr(i, j))\n",
    "    tab.append(row)"
   ]
  },
  {
   "cell_type": "code",
   "execution_count": 4,
   "metadata": {
    "vscode": {
     "languageId": "python"
    }
   },
   "outputs": [
    {
     "data": {
      "text/plain": [
       "[[2, 1, 2, 3, 6, 9, 18, 30, 56, 99],\n",
       " [3, 3, 8, 18, 48, 116, 312, 810, 2184, 5880],\n",
       " [5, 10, 40, 150, 624, 2580, 11160, 48750, 217000, 976248]]"
      ]
     },
     "execution_count": 4,
     "metadata": {},
     "output_type": "execute_result"
    }
   ],
   "source": [
    "tab"
   ]
  },
  {
   "cell_type": "code",
   "execution_count": 5,
   "metadata": {
    "vscode": {
     "languageId": "python"
    }
   },
   "outputs": [
    {
     "data": {
      "text/plain": [
       "226"
      ]
     },
     "execution_count": 5,
     "metadata": {},
     "output_type": "execute_result"
    }
   ],
   "source": [
    "sum(tab[0])"
   ]
  },
  {
   "cell_type": "code",
   "execution_count": 10,
   "metadata": {
    "vscode": {
     "languageId": "python"
    }
   },
   "outputs": [],
   "source": [
    "def codeGRS(X, V, A):\n",
    "    y = []\n",
    "    for a, v in zip(A, V):\n",
    "        code.append(v * f(X, a))\n",
    "    return y\n"
   ]
  },
  {
   "cell_type": "code",
   "execution_count": 11,
   "metadata": {
    "vscode": {
     "languageId": "python"
    }
   },
   "outputs": [],
   "source": [
    "def f(X, a):\n",
    "    exp = 0\n",
    "    sum = 0\n",
    "    for x in X:\n",
    "        sum += x * pow(a, exp)\n",
    "        exp += 1\n",
    "    return sum"
   ]
  },
  {
   "cell_type": "code",
   "execution_count": 1,
   "metadata": {
    "vscode": {
     "languageId": "python"
    }
   },
   "outputs": [
    {
     "ename": "SyntaxError",
     "evalue": "expected ':' (3089567031.py, line 4)",
     "output_type": "error",
     "traceback": [
      "\u001b[0;36m  Input \u001b[0;32mIn [1]\u001b[0;36m\u001b[0m\n\u001b[0;31m    while err < Nb_err\u001b[0m\n\u001b[0m                      ^\u001b[0m\n\u001b[0;31mSyntaxError\u001b[0m\u001b[0;31m:\u001b[0m expected ':'\n"
     ]
    }
   ],
   "source": [
    "def errTrans(y, Nb_err):\n",
    "    modified =[]\n",
    "    err = 0\n",
    "    while err < Nb_err\n",
    "        index = randint(len(y))\n",
    "        while index in modified:\n",
    "            index = randint(len(y))\n",
    "        \n",
    "\n"
   ]
  },
  {
   "cell_type": "code",
   "execution_count": 105,
   "metadata": {
    "vscode": {
     "languageId": "python"
    }
   },
   "outputs": [],
   "source": [
    "Fq.<a> = GF(256)"
   ]
  },
  {
   "cell_type": "code",
   "execution_count": 108,
   "metadata": {
    "vscode": {
     "languageId": "python"
    }
   },
   "outputs": [
    {
     "data": {
      "text/plain": [
       "a^7 + a^6 + a^4 + a^2"
      ]
     },
     "execution_count": 108,
     "metadata": {},
     "output_type": "execute_result"
    }
   ],
   "source": [
    "Fq.random_element()"
   ]
  },
  {
   "cell_type": "code",
   "execution_count": 127,
   "metadata": {
    "vscode": {
     "languageId": "python"
    }
   },
   "outputs": [],
   "source": [
    "def codeGRS(x, v, a):\n",
    "    Fq.<a>=GF(256)\n",
    "    for i in range(v):\n",
    "        v[i] = Fq.list()[i]\n",
    "    Fq.<a>=GF(256)\n",
    "    y = []\n",
    "    for ai, vi in zip(a, v):\n",
    "        y.append(Fq(vi) * f(x, ai))\n",
    "    return y"
   ]
  },
  {
   "cell_type": "code",
   "execution_count": 128,
   "metadata": {
    "vscode": {
     "languageId": "python"
    }
   },
   "outputs": [],
   "source": [
    "def f(x, a):\n",
    "    exp = 0\n",
    "    sum = Fq(0)\n",
    "    for xi in x:\n",
    "        sum += Fq(xi) * pow(Fq(a), exp)\n",
    "        exp += 1\n",
    "    return sum"
   ]
  },
  {
   "cell_type": "code",
   "execution_count": 37,
   "metadata": {
    "vscode": {
     "languageId": "python"
    }
   },
   "outputs": [],
   "source": [
    "numerisedMessage = [1, 5, 7, 10, 3, 5, 2]\n",
    "vs = [2, 10, 4, 1, 6, 5, 8, 7, 9, 3]\n",
    "alphas = [11, 17, 13, 20, 15, 16, 12, 18, 19, 14]\n",
    "q = 23"
   ]
  },
  {
   "cell_type": "code",
   "execution_count": 38,
   "metadata": {
    "vscode": {
     "languageId": "python"
    }
   },
   "outputs": [],
   "source": [
    "def codeGRS(q, word, vs, alphas):\n",
    "\tif len(vs) != len(alphas):\n",
    "\t\traise ValueError(\"List v and alpha must have the same length.\")\n",
    "\tif not Integer(q).is_prime_power():\n",
    "\t\traise ValueError(\"The order of a finite field must be a prime power.\")\n",
    "\tif not Integer(q).is_prime():\n",
    "\t\traise ValueError(\"Our implementation only works when the order 'q' of \" +\n",
    "\t\t\t\"the finite field is prime.\")\n",
    "\tcode = []\n",
    "\tFqX.<X> = GF(q, name='a')['X'] # It represents the polynomials in Fq[X]\n",
    "\tf = FqX.zero() # A polynomial which will have its coefficients in Fq\n",
    "\tfor i, letter in enumerate(word):\n",
    "\t\tif letter < 0 or letter >= q:\n",
    "\t\t\traise ValueError(\"The given word is not valid.\")\n",
    "\t\tf += Integer(word[-(i+1)]) * X^i\n",
    "\tfor i, alpha in enumerate(alphas):\n",
    "\t\tcode.append(vs[i] * f(alpha))\n",
    "\treturn code"
   ]
  },
  {
   "cell_type": "code",
   "execution_count": 39,
   "metadata": {
    "vscode": {
     "languageId": "python"
    }
   },
   "outputs": [],
   "source": [
    "encodedMessage = codeGRS(q, numerisedMessage, vs, alphas)"
   ]
  },
  {
   "cell_type": "code",
   "execution_count": 19,
   "metadata": {
    "vscode": {
     "languageId": "python"
    }
   },
   "outputs": [
    {
     "data": {
      "text/plain": [
       "[0, 0, 0, 0, 0, 0, 0, 0, 1, 0]"
      ]
     },
     "execution_count": 19,
     "metadata": {},
     "output_type": "execute_result"
    }
   ],
   "source": [
    "encodedMessage"
   ]
  },
  {
   "cell_type": "code",
   "execution_count": 40,
   "metadata": {
    "vscode": {
     "languageId": "python"
    }
   },
   "outputs": [],
   "source": [
    "def lagrangePolynomial(q, alphas, i):\n",
    "\tn = len(alphas)\n",
    "\tif i not in range(n):\n",
    "\t\traise ValueError(\"i should be less than the length of alpha and more than 0.\")\n",
    "\tif not Integer(q).is_prime_power():\n",
    "\t\traise ValueError(\"The order of a finite field must be a prime power.\")\n",
    "\tif not Integer(q).is_prime():\n",
    "\t\traise ValueError(\"Our implementation only works when the order 'q' of \" +\n",
    "\t\t\t\"the finite field is prime.\")\t\n",
    "\tFqX.<X> = GF(q,name='a')['X'] # It represents the polynomials in Fq[X]\n",
    "\tlPolynomial = FqX.one() # It will contain the lagrange polynomial\n",
    "\tfor j in range(n):\n",
    "\t\tif j != i:\n",
    "\t\t\tlPolynomial *= (X - alphas[j])  \n",
    "\treturn lPolynomial\n"
   ]
  },
  {
   "cell_type": "code",
   "execution_count": 35,
   "metadata": {
    "vscode": {
     "languageId": "python"
    }
   },
   "outputs": [],
   "source": [
    "def decodeGRS(q, code, vs, alphas):\n",
    "\tif len(vs) != len(alphas):\n",
    "\t\traise ValueError(\"List v and alpha must have the same length.\")\n",
    "\tif not Integer(q).is_prime_power():\n",
    "\t\traise ValueError(\"The order of a finite field must be a prime power.\")\n",
    "\tif not Integer(q).is_prime():\n",
    "\t\traise ValueError(\"Our implementation only works when the order 'q' of \" +\n",
    "\t\t\t\"the finite field is prime.\")\n",
    "\toriginalWord = []\n",
    "\tFqX.<X>=GF(q, name='a')['X'] # It represents the polynomials in Fq[X]\n",
    "\tdecodedPolynomial = FqX.zero()\n",
    "\tfor i, alpha in enumerate(alphas):\n",
    "\t\tlPolynomial = lagrangePolynomial(q, alphas, i)\t\t\n",
    "\t\tdecodedPolynomial += code[i] * (vs[i] * lPolynomial(alpha))^-1 *  lPolynomial\n",
    "\toriginalWord = decodedPolynomial.list()\n",
    "\toriginalWord.reverse()\n",
    "\treturn originalWord"
   ]
  },
  {
   "cell_type": "code",
   "execution_count": 41,
   "metadata": {
    "vscode": {
     "languageId": "python"
    }
   },
   "outputs": [],
   "source": [
    "decodedMessage = decodeGRS(q, encodedMessage, vs, alphas)"
   ]
  },
  {
   "cell_type": "code",
   "execution_count": 10,
   "metadata": {
    "vscode": {
     "languageId": "python"
    }
   },
   "outputs": [
    {
     "data": {
      "text/plain": [
       "[1, 5, 7, 10, 3, 5, 2]"
      ]
     },
     "execution_count": 10,
     "metadata": {},
     "output_type": "execute_result"
    }
   ],
   "source": [
    "decodedMessage"
   ]
  },
  {
   "cell_type": "code",
   "execution_count": 48,
   "metadata": {
    "vscode": {
     "languageId": "python"
    }
   },
   "outputs": [
    {
     "name": "stdout",
     "output_type": "stream",
     "text": [
      "\u001b[0;31mDocstring:\u001b[0m     \n",
      "   Return the zero element of this ring (cached).\n",
      "\n",
      "   EXAMPLES:\n",
      "\n",
      "      sage: ZZ.zero()\n",
      "      0\n",
      "      sage: QQ.zero()\n",
      "      0\n",
      "      sage: QQ['x'].zero()\n",
      "      0\n",
      "\n",
      "   The result is cached:\n",
      "\n",
      "      sage: ZZ.zero() is ZZ.zero()\n",
      "      True\n",
      "\u001b[0;31mInit docstring:\u001b[0m Initialize self.  See help(type(self)) for accurate signature.\n",
      "\u001b[0;31mFile:\u001b[0m           /usr/lib/python3.10/site-packages/sage/rings/ring.pyx\n",
      "\u001b[0;31mType:\u001b[0m           builtin_function_or_method\n"
     ]
    }
   ],
   "source": [
    "FqX.<X>=GF(256, name='a')['X']; FqX.zero?"
   ]
  },
  {
   "cell_type": "code",
   "execution_count": 45,
   "metadata": {
    "vscode": {
     "languageId": "python"
    }
   },
   "outputs": [],
   "source": [
    "load(\"utils.sage\")"
   ]
  },
  {
   "cell_type": "code",
   "execution_count": 46,
   "metadata": {
    "vscode": {
     "languageId": "python"
    }
   },
   "outputs": [
    {
     "data": {
      "text/plain": [
       "True"
      ]
     },
     "execution_count": 46,
     "metadata": {},
     "output_type": "execute_result"
    }
   ],
   "source": [
    "eulerTest(100)"
   ]
  },
  {
   "cell_type": "code",
   "execution_count": 47,
   "metadata": {
    "vscode": {
     "languageId": "python"
    }
   },
   "outputs": [
    {
     "data": {
      "text/plain": [
       "40"
      ]
     },
     "execution_count": 47,
     "metadata": {},
     "output_type": "execute_result"
    }
   ],
   "source": [
    "moebiusInversionFormulaTest(100)"
   ]
  }
 ],
 "metadata": {
  "kernelspec": {
   "display_name": "SageMath 9.6",
   "language": "sage",
   "name": "sagemath"
  },
  "language_info": {
   "codemirror_mode": {
    "name": "ipython",
    "version": 3
   },
   "file_extension": ".py",
   "mimetype": "text/x-python",
   "name": "sage",
   "nbconvert_exporter": "python",
   "pygments_lexer": "ipython3",
   "version": "3.10.4"
  },
  "orig_nbformat": 4
 },
 "nbformat": 4,
 "nbformat_minor": 2
}
