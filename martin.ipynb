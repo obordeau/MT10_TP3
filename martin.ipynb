{
 "cells": [
  {
   "cell_type": "code",
   "execution_count": 4,
   "metadata": {
    "vscode": {
     "languageId": "python"
    }
   },
   "outputs": [],
   "source": [
    "F2 = GF(2)"
   ]
  },
  {
   "cell_type": "code",
   "execution_count": 5,
   "metadata": {
    "vscode": {
     "languageId": "python"
    }
   },
   "outputs": [],
   "source": [
    "R.<X> = F2['X']"
   ]
  },
  {
   "cell_type": "code",
   "execution_count": 6,
   "metadata": {
    "vscode": {
     "languageId": "python"
    }
   },
   "outputs": [
    {
     "data": {
      "text/plain": [
       "X * (X + 1) * (X^2 + X + 1) * (X^3 + X + 1) * (X^3 + X^2 + 1) * (X^6 + X + 1) * (X^6 + X^3 + 1) * (X^6 + X^4 + X^2 + X + 1) * (X^6 + X^4 + X^3 + X + 1) * (X^6 + X^5 + 1) * (X^6 + X^5 + X^2 + X + 1) * (X^6 + X^5 + X^3 + X^2 + 1) * (X^6 + X^5 + X^4 + X + 1) * (X^6 + X^5 + X^4 + X^2 + 1)"
      ]
     },
     "execution_count": 6,
     "metadata": {},
     "output_type": "execute_result"
    }
   ],
   "source": [
    "factor(pow(X, 64) - X)"
   ]
  },
  {
   "cell_type": "code",
   "execution_count": 7,
   "metadata": {
    "vscode": {
     "languageId": "python"
    }
   },
   "outputs": [],
   "source": [
    "P = X**3 + X + 1"
   ]
  },
  {
   "cell_type": "code",
   "execution_count": 8,
   "metadata": {
    "vscode": {
     "languageId": "python"
    }
   },
   "outputs": [
    {
     "data": {
      "text/plain": [
       "True"
      ]
     },
     "execution_count": 8,
     "metadata": {},
     "output_type": "execute_result"
    }
   ],
   "source": [
    "P.is_irreducible()"
   ]
  },
  {
   "cell_type": "code",
   "execution_count": 10,
   "metadata": {
    "vscode": {
     "languageId": "python"
    }
   },
   "outputs": [
    {
     "data": {
      "text/plain": [
       "40"
      ]
     },
     "execution_count": 10,
     "metadata": {},
     "output_type": "execute_result"
    }
   ],
   "source": [
    "euler_phi(100)"
   ]
  },
  {
   "cell_type": "code",
   "execution_count": 1,
   "metadata": {
    "vscode": {
     "languageId": "python"
    }
   },
   "outputs": [
    {
     "data": {
      "text/plain": [
       "40"
      ]
     },
     "execution_count": 1,
     "metadata": {},
     "output_type": "execute_result"
    }
   ],
   "source": [
    "def phiMobius(n):\n",
    "    p = 0\n",
    "    for d in divisors(n):\n",
    "        p += moebius(n /d ) * d\n",
    "    return p\n",
    "\n",
    "phiMobius(100)"
   ]
  },
  {
   "cell_type": "code",
   "execution_count": 2,
   "metadata": {
    "vscode": {
     "languageId": "python"
    }
   },
   "outputs": [],
   "source": [
    "def irr(p, n):\n",
    "    res = 0\n",
    "    for d in divisors(n):\n",
    "        res += moebius(n/d) * pow(p, d)\n",
    "    return res/n"
   ]
  },
  {
   "cell_type": "code",
   "execution_count": 3,
   "metadata": {
    "vscode": {
     "languageId": "python"
    }
   },
   "outputs": [],
   "source": [
    "tab = []\n",
    "for i in [2, 3, 5]:\n",
    "    row = []\n",
    "    for j in range(1, 11):\n",
    "        row.append(irr(i, j))\n",
    "    tab.append(row)"
   ]
  },
  {
   "cell_type": "code",
   "execution_count": 4,
   "metadata": {
    "vscode": {
     "languageId": "python"
    }
   },
   "outputs": [
    {
     "data": {
      "text/plain": [
       "[[2, 1, 2, 3, 6, 9, 18, 30, 56, 99],\n",
       " [3, 3, 8, 18, 48, 116, 312, 810, 2184, 5880],\n",
       " [5, 10, 40, 150, 624, 2580, 11160, 48750, 217000, 976248]]"
      ]
     },
     "execution_count": 4,
     "metadata": {},
     "output_type": "execute_result"
    }
   ],
   "source": [
    "tab"
   ]
  },
  {
   "cell_type": "code",
   "execution_count": 5,
   "metadata": {
    "vscode": {
     "languageId": "python"
    }
   },
   "outputs": [
    {
     "data": {
      "text/plain": [
       "226"
      ]
     },
     "execution_count": 5,
     "metadata": {},
     "output_type": "execute_result"
    }
   ],
   "source": [
    "sum(tab[0])"
   ]
  },
  {
   "cell_type": "code",
   "execution_count": 2,
   "metadata": {
    "vscode": {
     "languageId": "python"
    }
   },
   "outputs": [],
   "source": [
    "def codeGRS(X, V, A):\n",
    "    code = []\n",
    "    for a, v in zip(A, V):\n",
    "        code.append(v * f(X, a))\n",
    "    return code\n"
   ]
  },
  {
   "cell_type": "code",
   "execution_count": 3,
   "metadata": {
    "vscode": {
     "languageId": "python"
    }
   },
   "outputs": [],
   "source": [
    "def f(X, a):\n",
    "    exp = 0\n",
    "    sum = 0\n",
    "    for x in X:\n",
    "        sum += x * pow(a, exp)\n",
    "        exp += 1\n",
    "    return sum"
   ]
  },
  {
   "cell_type": "code",
   "execution_count": 4,
   "metadata": {
    "vscode": {
     "languageId": "python"
    }
   },
   "outputs": [
    {
     "data": {
      "text/plain": [
       "[1900, 1150, 264110, 56448, 90280]"
      ]
     },
     "execution_count": 4,
     "metadata": {},
     "output_type": "execute_result"
    }
   ],
   "source": [
    "codeGRS([2,4,5,9,8], [2,5,7,9,4], [3,2,8,5,7])"
   ]
  },
  {
   "cell_type": "code",
   "execution_count": 2,
   "metadata": {
    "vscode": {
     "languageId": "python"
    }
   },
   "outputs": [],
   "source": [
    "q = 2 ** 8\n",
    "n = 8\n",
    "k = 4\n",
    "r = n - k\n",
    "G = GF(q, 'a')\n",
    "c = G.gen()\n",
    "R = PolynomialRing(G, 'X')\n",
    "X = R.gen()\n",
    "\n",
    "a = G.multiplicative_generator()\n",
    "v = [G.one() for i in range(n)]\n",
    "alpha = [a**i for i in range(n)]\n"
   ]
  },
  {
   "cell_type": "code",
   "execution_count": 6,
   "metadata": {
    "vscode": {
     "languageId": "python"
    }
   },
   "outputs": [
    {
     "data": {
      "text/plain": [
       "X"
      ]
     },
     "execution_count": 6,
     "metadata": {},
     "output_type": "execute_result"
    }
   ],
   "source": [
    "R.gen()"
   ]
  },
  {
   "cell_type": "code",
   "execution_count": 1,
   "metadata": {
    "vscode": {
     "languageId": "python"
    }
   },
   "outputs": [],
   "source": [
    "p = 2\n",
    "n = 6\n",
    "F2 = GF(p)\n",
    "R = F2.polynomial_ring()\n",
    "prod = R.one() #utilise pour le produit\n",
    "for d in divisors(n):\n",
    "  for poly in R.polynomials(of_degree = d):\n",
    "    if poly.is_irreducible() and poly.is_monic(): # si irreductible et unitaire\n",
    "      prod *= poly"
   ]
  },
  {
   "cell_type": "code",
   "execution_count": 7,
   "metadata": {
    "vscode": {
     "languageId": "python"
    }
   },
   "outputs": [
    {
     "data": {
      "text/plain": [
       "True"
      ]
     },
     "execution_count": 7,
     "metadata": {},
     "output_type": "execute_result"
    }
   ],
   "source": [
    "prod == R(x ** (p ** n) - x)"
   ]
  },
  {
   "cell_type": "code",
   "execution_count": 5,
   "metadata": {
    "vscode": {
     "languageId": "python"
    }
   },
   "outputs": [],
   "source": [
    "def encode_rsa(message, e, N):\n",
    "    return map(lambda x: power_mod(int(x), int(e), int(N)), message)\n",
    "\n",
    "def decode_rsa(cipher, d, N):\n",
    "    return list(map(lambda x: power_mod(x, int(d), int(N)), cipher))\n",
    "\n",
    "def randPremier(start, end):\n",
    "    while 1:\n",
    "        nombre = randint(start, end)\n",
    "        if is_prime(nombre) : \n",
    "            return nombre"
   ]
  },
  {
   "cell_type": "code",
   "execution_count": 6,
   "metadata": {
    "vscode": {
     "languageId": "python"
    }
   },
   "outputs": [],
   "source": [
    "def chooseSize(l, N):\n",
    "    for size in reversed(range(floor(ln(N)/ln(2) + 1))):\n",
    "        if l * 8 % size == 0:\n",
    "            return size\n",
    "\n",
    "def numerise_safe(message, N):\n",
    "    result = []\n",
    "    binaryMessage = BinaryStrings().encoding(message)\n",
    "    size = chooseSize(len(message), N)\n",
    "    for i in range(0, len(binaryMessage), size):\n",
    "        sum = 0\n",
    "        for j in range(size):\n",
    "            sum += int(str(binaryMessage[i+j])) * pow(2, size - j - 1)\n",
    "        result.append(sum)\n",
    "    result.append(size)\n",
    "    return result\n",
    "\n",
    "def toBin(n, size):\n",
    "    res = bin(n)[2:]\n",
    "    if len(res) < size:\n",
    "        res = (size-len(res))*'0' + res\n",
    "    return res\n",
    "\n",
    "def alphabetise_safe(message, N) :\n",
    "    result = []\n",
    "    size = message.pop(-1)\n",
    "    for digit in message:\n",
    "        result.append(toBin(int(digit), size))\n",
    "    binaryMessage = ''.join(result)\n",
    "    alphabeticMessage = ''\n",
    "    for i in range(0, len(binaryMessage), 8):\n",
    "        alphabeticMessage = alphabeticMessage + chr(int(binaryMessage[i:8+i], 2))\n",
    "    return(alphabeticMessage)\n",
    "\n",
    "import random\n",
    "def cleRSA (m):\n",
    "    result = {}\n",
    "    result[\"p\"] = chooseP(m)\n",
    "    result[\"q\"] = chooseQ(m, result[\"p\"])\n",
    "    result[\"e\"] = chooseE(result[\"p\"], result[\"q\"])\n",
    "    result[\"N\"] = result[\"p\"]*result[\"q\"]\n",
    "    result[\"d\"] = inv_modulo(result[\"e\"], (result[\"p\"]-1)*(result[\"q\"]-1))\n",
    "    result.pop(\"p\")\n",
    "    result.pop(\"q\")\n",
    "    return result\n",
    "\n",
    "def inv_modulo(x, m):\n",
    "    (p, u, v) = xgcd(x, m)\n",
    "    if p == 1: return u % abs(m)\n",
    "    else: raise Exception(\"%s et %s ne sont pas premiers entre eux\" % (x, m))\n",
    "\n",
    "def chooseP(m):\n",
    "    return randPremier(int((1 / sqrt(2)) * pow(2,m/2)), int(pow(2,m/2)))\n",
    "\n",
    "def chooseQ(m, p):\n",
    "    while True:\n",
    "        q = randPremier(int(1/sqrt(2)*pow(2,m/2)),int(pow(2,m/2)))\n",
    "        if q != p:\n",
    "            return q\n",
    "\n",
    "def chooseE(p, q):\n",
    "    phi = (p-1)*(q-1)\n",
    "    while 1:\n",
    "        e = randint(1, phi)\n",
    "        if gcd(e, phi) == 1 :\n",
    "            return e"
   ]
  },
  {
   "cell_type": "code",
   "execution_count": 7,
   "metadata": {
    "vscode": {
     "languageId": "python"
    }
   },
   "outputs": [],
   "source": [
    "def codeGRS(message, V, A):\n",
    "    x = []\n",
    "    for  c in message:\n",
    "        x.append(C[c])\n",
    "    f = R.zero()\n",
    "    for i in range(k):\n",
    "        f += x[i] * X**i\n",
    "    return [v*f(a) for v, a in zip(V, A)]\n",
    "\n",
    "def Li(i, A):\n",
    "    L = R.one()\n",
    "    for j in range(n):\n",
    "        if i != j:\n",
    "            L *= X - A[j]\n",
    "    return L \n",
    "\n",
    "def decodeGRS(Y, V, A):\n",
    "    f_alpha = [y/v for y, v in zip(Y, V)]\n",
    "    f = R.zero()\n",
    "    for i in range(n):\n",
    "        L = Li(i, A)\n",
    "        f += (f_alpha[i]*L)/L(A[i])\n",
    "    message = []\n",
    "    for c in f.coefficients() :\n",
    "        message.append(C.index(c))\n",
    "    return message"
   ]
  },
  {
   "cell_type": "code",
   "execution_count": 109,
   "metadata": {
    "vscode": {
     "languageId": "python"
    }
   },
   "outputs": [
    {
     "ename": "KeyboardInterrupt",
     "evalue": "",
     "output_type": "error",
     "traceback": [
      "\u001b[0;31m---------------------------------------------------------------------------\u001b[0m",
      "\u001b[0;31mKeyboardInterrupt\u001b[0m                         Traceback (most recent call last)",
      "\u001b[0;32m<ipython-input-109-d7cd299110bb>\u001b[0m in \u001b[0;36m<module>\u001b[0;34m\u001b[0m\n\u001b[1;32m     15\u001b[0m \u001b[0;32mfor\u001b[0m \u001b[0mi\u001b[0m \u001b[0;32min\u001b[0m \u001b[0mrange\u001b[0m\u001b[0;34m(\u001b[0m\u001b[0mn\u001b[0m\u001b[0;34m)\u001b[0m\u001b[0;34m:\u001b[0m\u001b[0;34m\u001b[0m\u001b[0;34m\u001b[0m\u001b[0m\n\u001b[1;32m     16\u001b[0m     \u001b[0mc\u001b[0m \u001b[0;34m=\u001b[0m \u001b[0mC\u001b[0m\u001b[0;34m[\u001b[0m\u001b[0mrandint\u001b[0m\u001b[0;34m(\u001b[0m\u001b[0mInteger\u001b[0m\u001b[0;34m(\u001b[0m\u001b[0;36m1\u001b[0m\u001b[0;34m)\u001b[0m\u001b[0;34m,\u001b[0m \u001b[0mlen\u001b[0m\u001b[0;34m(\u001b[0m\u001b[0mC\u001b[0m\u001b[0;34m)\u001b[0m\u001b[0;34m-\u001b[0m\u001b[0mInteger\u001b[0m\u001b[0;34m(\u001b[0m\u001b[0;36m1\u001b[0m\u001b[0;34m)\u001b[0m\u001b[0;34m)\u001b[0m\u001b[0;34m]\u001b[0m\u001b[0;34m\u001b[0m\u001b[0;34m\u001b[0m\u001b[0m\n\u001b[0;32m---> 17\u001b[0;31m     \u001b[0;32mwhile\u001b[0m \u001b[0mc\u001b[0m \u001b[0;32min\u001b[0m \u001b[0ma\u001b[0m\u001b[0;34m:\u001b[0m\u001b[0;34m\u001b[0m\u001b[0;34m\u001b[0m\u001b[0m\n\u001b[0m\u001b[1;32m     18\u001b[0m         \u001b[0mc\u001b[0m \u001b[0;34m=\u001b[0m \u001b[0mC\u001b[0m\u001b[0;34m[\u001b[0m\u001b[0mrandint\u001b[0m\u001b[0;34m(\u001b[0m\u001b[0mInteger\u001b[0m\u001b[0;34m(\u001b[0m\u001b[0;36m1\u001b[0m\u001b[0;34m)\u001b[0m\u001b[0;34m,\u001b[0m \u001b[0mlen\u001b[0m\u001b[0;34m(\u001b[0m\u001b[0mC\u001b[0m\u001b[0;34m)\u001b[0m\u001b[0;34m-\u001b[0m\u001b[0mInteger\u001b[0m\u001b[0;34m(\u001b[0m\u001b[0;36m1\u001b[0m\u001b[0;34m)\u001b[0m\u001b[0;34m)\u001b[0m\u001b[0;34m]\u001b[0m \u001b[0;31m#generer un element unique\u001b[0m\u001b[0;34m\u001b[0m\u001b[0;34m\u001b[0m\u001b[0m\n\u001b[1;32m     19\u001b[0m     \u001b[0ma\u001b[0m\u001b[0;34m.\u001b[0m\u001b[0mappend\u001b[0m\u001b[0;34m(\u001b[0m\u001b[0mc\u001b[0m\u001b[0;34m)\u001b[0m\u001b[0;34m\u001b[0m\u001b[0;34m\u001b[0m\u001b[0m\n",
      "\u001b[0;32m/usr/lib/python3/dist-packages/sage/structure/element.pyx\u001b[0m in \u001b[0;36msage.structure.element.Element.__richcmp__ (build/cythonized/sage/structure/element.c:9939)\u001b[0;34m()\u001b[0m\n\u001b[1;32m   1087\u001b[0m             \u001b[0;31m# an instance of Element. The explicit casts below make\u001b[0m\u001b[0;34m\u001b[0m\u001b[0;34m\u001b[0m\u001b[0;34m\u001b[0m\u001b[0m\n\u001b[1;32m   1088\u001b[0m             \u001b[0;31m# Cython generate optimized code for this call.\u001b[0m\u001b[0;34m\u001b[0m\u001b[0;34m\u001b[0m\u001b[0;34m\u001b[0m\u001b[0m\n\u001b[0;32m-> 1089\u001b[0;31m             \u001b[0;32mreturn\u001b[0m \u001b[0;34m(\u001b[0m\u001b[0;34m<\u001b[0m\u001b[0mElement\u001b[0m\u001b[0;34m>\u001b[0m\u001b[0mself\u001b[0m\u001b[0;34m)\u001b[0m\u001b[0;34m.\u001b[0m\u001b[0m_richcmp_\u001b[0m\u001b[0;34m(\u001b[0m\u001b[0mother\u001b[0m\u001b[0;34m,\u001b[0m \u001b[0mop\u001b[0m\u001b[0;34m)\u001b[0m\u001b[0;34m\u001b[0m\u001b[0;34m\u001b[0m\u001b[0m\n\u001b[0m\u001b[1;32m   1090\u001b[0m         \u001b[0;32melse\u001b[0m\u001b[0;34m:\u001b[0m\u001b[0;34m\u001b[0m\u001b[0;34m\u001b[0m\u001b[0m\n\u001b[1;32m   1091\u001b[0m             \u001b[0;32mreturn\u001b[0m \u001b[0mcoercion_model\u001b[0m\u001b[0;34m.\u001b[0m\u001b[0mrichcmp\u001b[0m\u001b[0;34m(\u001b[0m\u001b[0mself\u001b[0m\u001b[0;34m,\u001b[0m \u001b[0mother\u001b[0m\u001b[0;34m,\u001b[0m \u001b[0mop\u001b[0m\u001b[0;34m)\u001b[0m\u001b[0;34m\u001b[0m\u001b[0;34m\u001b[0m\u001b[0m\n",
      "\u001b[0;32m/usr/lib/python3/dist-packages/sage/rings/finite_rings/element_givaro.pyx\u001b[0m in \u001b[0;36msage.rings.finite_rings.element_givaro.FiniteField_givaroElement._richcmp_ (build/cythonized/sage/rings/finite_rings/element_givaro.cpp:13157)\u001b[0;34m()\u001b[0m\n\u001b[1;32m   1319\u001b[0m         \u001b[0mcdef\u001b[0m \u001b[0mCache_givaro\u001b[0m \u001b[0mcache\u001b[0m \u001b[0;34m=\u001b[0m \u001b[0;34m(\u001b[0m\u001b[0;34m<\u001b[0m\u001b[0mFiniteField_givaroElement\u001b[0m\u001b[0;34m>\u001b[0m\u001b[0mleft\u001b[0m\u001b[0;34m)\u001b[0m\u001b[0;34m.\u001b[0m\u001b[0m_cache\u001b[0m\u001b[0;34m\u001b[0m\u001b[0;34m\u001b[0m\u001b[0m\n\u001b[1;32m   1320\u001b[0m \u001b[0;34m\u001b[0m\u001b[0m\n\u001b[0;32m-> 1321\u001b[0;31m         return richcmp(cache.log_to_int(left.element),\n\u001b[0m\u001b[1;32m   1322\u001b[0m                        cache.log_to_int((<FiniteField_givaroElement>right).element), op)\n\u001b[1;32m   1323\u001b[0m \u001b[0;34m\u001b[0m\u001b[0m\n",
      "\u001b[0;32m/usr/lib/python3/dist-packages/sage/rings/finite_rings/element_givaro.pyx\u001b[0m in \u001b[0;36msage.rings.finite_rings.element_givaro.Cache_givaro.log_to_int (build/cythonized/sage/rings/finite_rings/element_givaro.cpp:7830)\u001b[0;34m()\u001b[0m\n\u001b[1;32m    528\u001b[0m \u001b[0;34m\u001b[0m\u001b[0m\n\u001b[1;32m    529\u001b[0m         \u001b[0mcdef\u001b[0m \u001b[0mint\u001b[0m \u001b[0mr\u001b[0m\u001b[0;34m\u001b[0m\u001b[0;34m\u001b[0m\u001b[0m\n\u001b[0;32m--> 530\u001b[0;31m         \u001b[0msig_on\u001b[0m\u001b[0;34m(\u001b[0m\u001b[0;34m)\u001b[0m\u001b[0;34m\u001b[0m\u001b[0;34m\u001b[0m\u001b[0m\n\u001b[0m\u001b[1;32m    531\u001b[0m         \u001b[0mself\u001b[0m\u001b[0;34m.\u001b[0m\u001b[0mobjectptr\u001b[0m\u001b[0;34m.\u001b[0m\u001b[0mconvert\u001b[0m\u001b[0;34m(\u001b[0m\u001b[0mr\u001b[0m\u001b[0;34m,\u001b[0m \u001b[0mn\u001b[0m\u001b[0;34m)\u001b[0m\u001b[0;34m\u001b[0m\u001b[0;34m\u001b[0m\u001b[0m\n\u001b[1;32m    532\u001b[0m         \u001b[0msig_off\u001b[0m\u001b[0;34m(\u001b[0m\u001b[0;34m)\u001b[0m\u001b[0;34m\u001b[0m\u001b[0;34m\u001b[0m\u001b[0m\n",
      "\u001b[0;31mKeyboardInterrupt\u001b[0m: "
     ]
    }
   ],
   "source": [
    "q = 2**8\n",
    "Fq = GF(q, name='a')\n",
    "R.<X> = Fq['X']\n",
    "C = Fq.list()\n",
    "\n",
    "n, k = 256, 5\n",
    "\n",
    "#Generation de v\n",
    "v = []\n",
    "for i in range(n):\n",
    "    v.append(C[randint(1, len(C)-1)])\n",
    "\n",
    "#Generation de a\n",
    "a = []\n",
    "for i in range(n):\n",
    "    c = C[randint(1, len(C)-1)]\n",
    "    while c in a:\n",
    "        c = C[randint(1, len(C)-1)] #generer un element unique\n",
    "    a.append(c)"
   ]
  },
  {
   "cell_type": "code",
   "execution_count": 27,
   "metadata": {
    "vscode": {
     "languageId": "python"
    }
   },
   "outputs": [],
   "source": [
    "numerised_message = numerise_safe(\"Saulut  sdf sdcsbb bxvc gvhvh,gdvchsvchvshc comment ca va ?\", N)"
   ]
  },
  {
   "cell_type": "code",
   "execution_count": 28,
   "metadata": {
    "vscode": {
     "languageId": "python"
    }
   },
   "outputs": [
    {
     "data": {
      "text/plain": [
       "[5,\n",
       " 3,\n",
       " 6,\n",
       " 1,\n",
       " 7,\n",
       " 5,\n",
       " 6,\n",
       " 12,\n",
       " 7,\n",
       " 5,\n",
       " 7,\n",
       " 4,\n",
       " 2,\n",
       " 0,\n",
       " 2,\n",
       " 0,\n",
       " 7,\n",
       " 3,\n",
       " 6,\n",
       " 4,\n",
       " 6,\n",
       " 6,\n",
       " 2,\n",
       " 0,\n",
       " 7,\n",
       " 3,\n",
       " 6,\n",
       " 4,\n",
       " 6,\n",
       " 3,\n",
       " 7,\n",
       " 3,\n",
       " 6,\n",
       " 2,\n",
       " 6,\n",
       " 2,\n",
       " 2,\n",
       " 0,\n",
       " 6,\n",
       " 2,\n",
       " 7,\n",
       " 8,\n",
       " 7,\n",
       " 6,\n",
       " 6,\n",
       " 3,\n",
       " 2,\n",
       " 0,\n",
       " 6,\n",
       " 7,\n",
       " 7,\n",
       " 6,\n",
       " 6,\n",
       " 8,\n",
       " 7,\n",
       " 6,\n",
       " 6,\n",
       " 8,\n",
       " 2,\n",
       " 12,\n",
       " 6,\n",
       " 7,\n",
       " 6,\n",
       " 4,\n",
       " 7,\n",
       " 6,\n",
       " 6,\n",
       " 3,\n",
       " 6,\n",
       " 8,\n",
       " 7,\n",
       " 3,\n",
       " 7,\n",
       " 6,\n",
       " 6,\n",
       " 3,\n",
       " 6,\n",
       " 8,\n",
       " 7,\n",
       " 6,\n",
       " 7,\n",
       " 3,\n",
       " 6,\n",
       " 8,\n",
       " 6,\n",
       " 3,\n",
       " 2,\n",
       " 0,\n",
       " 6,\n",
       " 3,\n",
       " 6,\n",
       " 15,\n",
       " 6,\n",
       " 13,\n",
       " 6,\n",
       " 13,\n",
       " 6,\n",
       " 5,\n",
       " 6,\n",
       " 14,\n",
       " 7,\n",
       " 4,\n",
       " 2,\n",
       " 0,\n",
       " 6,\n",
       " 3,\n",
       " 6,\n",
       " 1,\n",
       " 2,\n",
       " 0,\n",
       " 7,\n",
       " 6,\n",
       " 6,\n",
       " 1,\n",
       " 2,\n",
       " 0,\n",
       " 3,\n",
       " 15,\n",
       " 4]"
      ]
     },
     "execution_count": 28,
     "metadata": {},
     "output_type": "execute_result"
    }
   ],
   "source": [
    "numerised_message"
   ]
  },
  {
   "cell_type": "code",
   "execution_count": 29,
   "metadata": {
    "vscode": {
     "languageId": "python"
    }
   },
   "outputs": [],
   "source": [
    "cle = cleRSA(8)\n",
    "e = cle['e']\n",
    "N = cle['N']\n",
    "d = cle['d']"
   ]
  },
  {
   "cell_type": "code",
   "execution_count": 30,
   "metadata": {
    "vscode": {
     "languageId": "python"
    }
   },
   "outputs": [],
   "source": [
    "def chooseSize(l, N):\n",
    "    for size in reversed(range(floor(ln(N)/ln(2) + 1))):\n",
    "        if l * 8 % size == 0:\n",
    "            return size\n",
    "\n",
    "def numerise(message, N):\n",
    "    result = []\n",
    "    binaryMessage = BinaryStrings().encoding(message)\n",
    "    size = chooseSize(len(message), N)\n",
    "    for i in range(0, len(binaryMessage), size):\n",
    "        sum = 0\n",
    "        for j in range(size):\n",
    "            sum += int(str(binaryMessage[i+j])) * pow(2, size - j - 1)\n",
    "        result.append(sum)\n",
    "    result.append(size)\n",
    "    return result\n",
    "\n",
    "def toBin(n, size):\n",
    "    res = bin(n)[2:]\n",
    "    if len(res) < size:\n",
    "        res = (size-len(res))*'0' + res\n",
    "    return res\n",
    "\n",
    "def alphabetise(message, N) :\n",
    "    result = []\n",
    "    size = message.pop(-1)\n",
    "    for digit in message:\n",
    "        result.append(toBin(int(digit), size))\n",
    "    binaryMessage = ''.join(result)\n",
    "    alphabeticMessage = ''\n",
    "    for i in range(0, len(binaryMessage), 8):\n",
    "        alphabeticMessage = alphabeticMessage + chr(int(binaryMessage[i:8+i], 2))\n",
    "    return(alphabeticMessage)\n",
    "\n",
    "def cleRSA (m):\n",
    "    result = {}\n",
    "    result[\"p\"] = chooseP(m)\n",
    "    result[\"q\"] = chooseQ(m, result[\"p\"])\n",
    "    result[\"e\"] = chooseE(result[\"p\"], result[\"q\"])\n",
    "    result[\"N\"] = result[\"p\"]*result[\"q\"]\n",
    "    result[\"d\"] = inv_modulo(result[\"e\"], (result[\"p\"]-1)*(result[\"q\"]-1))\n",
    "    result.pop(\"p\")\n",
    "    result.pop(\"q\")\n",
    "    return result\n",
    "\n",
    "def inv_modulo(x, m):\n",
    "    (p, u, v) = xgcd(x, m)\n",
    "    if p == 1: return u % abs(m)\n",
    "    else: raise Exception(\"%s et %s ne sont pas premiers entre eux\" % (x, m))\n",
    "\n",
    "def chooseP(m):\n",
    "    return randPremier(int((1 / sqrt(2)) * pow(2,m/2)), int(pow(2,m/2)))\n",
    "\n",
    "def chooseQ(m, p):\n",
    "    while True:\n",
    "        q = randPremier(int(1/sqrt(2)*pow(2,m/2)),int(pow(2,m/2)))\n",
    "        if q != p:\n",
    "            return q\n",
    "\n",
    "def chooseE(p, q):\n",
    "    phi = (p-1)*(q-1)\n",
    "    while 1:\n",
    "        e = randint(1, phi)\n",
    "        if gcd(e, phi) == 1 :\n",
    "            return e\n",
    "        \n",
    "def encode_rsa(message, e, N):\n",
    "    return map(lambda x: power_mod(int(x), int(e), int(N)), message)\n",
    "\n",
    "def decode_rsa(cipher, d, N):\n",
    "    return list(map(lambda x: power_mod(x, int(d), int(N)), cipher))\n",
    "\n",
    "def randPremier(start, end):\n",
    "    while 1:\n",
    "        nombre = randint(start, end)\n",
    "        if is_prime(nombre) : \n",
    "            return nombre\n",
    "        \n",
    "def toBin(n, size):\n",
    "    res = bin(n)[2:]\n",
    "    if len(res) < size:\n",
    "        res = (size-len(res))*'0' + res\n",
    "    return res"
   ]
  },
  {
   "cell_type": "code",
   "execution_count": 106,
   "metadata": {
    "vscode": {
     "languageId": "python"
    }
   },
   "outputs": [],
   "source": [
    "crypted_message_map = encode_rsa(numerised_message, e, N)"
   ]
  },
  {
   "cell_type": "code",
   "execution_count": 107,
   "metadata": {
    "vscode": {
     "languageId": "python"
    }
   },
   "outputs": [],
   "source": [
    "crypted_message = list(crypted_message_map)"
   ]
  },
  {
   "cell_type": "code",
   "execution_count": 62,
   "metadata": {
    "vscode": {
     "languageId": "python"
    }
   },
   "outputs": [],
   "source": [
    "def split(message, k):\n",
    "    result = []\n",
    "    while (len(message) % k != 0):\n",
    "        message.append(0)\n",
    "    for i in range(0, len(message), k):\n",
    "        new_element = []\n",
    "        for j in range(k):\n",
    "            new_element.append(message[i + j]+1)\n",
    "        result.append(new_element)\n",
    "    return result"
   ]
  },
  {
   "cell_type": "code",
   "execution_count": 35,
   "metadata": {
    "vscode": {
     "languageId": "python"
    }
   },
   "outputs": [],
   "source": [
    "def gather(list):\n",
    "    result = []\n",
    "    for sublist in list:\n",
    "        for element in sublist:\n",
    "            result.append(element - 1)\n",
    "    while (result[-1] == 0):\n",
    "        result = result[:-1]\n",
    "    return result"
   ]
  },
  {
   "cell_type": "code",
   "execution_count": 108,
   "metadata": {
    "vscode": {
     "languageId": "python"
    }
   },
   "outputs": [],
   "source": [
    "splitted_message = split(crypted_message, 4)"
   ]
  },
  {
   "cell_type": "code",
   "execution_count": 65,
   "metadata": {
    "vscode": {
     "languageId": "python"
    }
   },
   "outputs": [],
   "source": [
    "grs_encoded = [codeGRS(word, v, a) for word in splitted_message]"
   ]
  },
  {
   "cell_type": "code",
   "execution_count": 74,
   "metadata": {
    "vscode": {
     "languageId": "python"
    }
   },
   "outputs": [],
   "source": [
    "def errTrans(y, nb_Err):\n",
    "    y_prime = list(y)\n",
    "    indices = random.sample(range(len(y)), nb_Err)\n",
    "    for i in indices:\n",
    "        e = C[randint(1, len(C)-1)] \n",
    "        y_prime[i] += e\n",
    "    return y_prime"
   ]
  },
  {
   "cell_type": "code",
   "execution_count": 97,
   "metadata": {
    "vscode": {
     "languageId": "python"
    }
   },
   "outputs": [],
   "source": [
    "grs_error = [errTrans(word, randint(0,2))for word in grs_encoded]"
   ]
  },
  {
   "cell_type": "code",
   "execution_count": 98,
   "metadata": {
    "vscode": {
     "languageId": "python"
    }
   },
   "outputs": [
    {
     "name": "stdout",
     "output_type": "stream",
     "text": [
      "(a^7 + a^6 + a^2 + 1)*X^4 + (a^6 + a^2 + a + 1)*X^3 + (a^4 + a^3 + a^2 + a)*X^2 + (a^7 + a^4 + a^3 + 1)*X + a^7 + a^5 + a^2 + 1\n",
      "(a + 1)*X^4 + (a^5 + 1)*X^3 + (a^5 + a^2 + a + 1)*X^2 + (a^6 + a^4 + a^2 + a)*X + a^5 + a^2\n",
      "(a^5 + a^3 + a^2)*X^4 + (a^7 + a^4 + a^3 + 1)*X^3 + (a^7 + a^5 + a^3 + a)*X^2 + (a^7 + a^6 + a^5 + a^4 + a^3 + a + 1)*X + a^7 + a^6 + a^4 + a^3 + a^2 + a\n",
      "(a^7 + a^6 + a^5 + a^4 + a^3)*X^4 + (a^7 + a^6 + a^3 + a^2)*X^3 + (a^5 + 1)*X^2 + (a^7 + a^5 + a^2)*X + a^7 + a^6 + a^5 + a^2 + a\n",
      "0\n",
      "(a^7 + a^5 + a^2 + 1)*X^4 + (a^7 + a^5 + a^4 + a^3)*X^3 + (a^6 + a^3 + a + 1)*X^2 + (a^7 + a^5)*X + a^7 + a^6 + a^5 + 1\n",
      "0\n",
      "0\n",
      "0\n",
      "(a^6 + a)*X^4 + a^6*X^3 + (a^7 + a^2 + 1)*X^2 + (a^6 + a^5 + a^3 + a^2)*X + a^7 + a^6 + a^5 + a^3 + a^2 + 1\n",
      "0\n",
      "(a^4 + a^3)*X^4 + (a^4 + a^3 + 1)*X^3 + (a^7 + a^6 + a^5 + a^4 + a^3)*X^2 + (a^6 + a^2 + 1)*X + a^7 + a^6 + a^5 + a^3 + a + 1\n",
      "(a^5 + a^3 + a^2 + 1)*X^4 + (a^2 + a)*X^3 + (a^6 + a^3 + a^2 + a)*X^2 + (a^7 + a^5 + a^4 + a^2 + 1)*X + a^2 + 1\n",
      "(a^7 + a^5 + a^4 + a^3)*X^4 + (a^5 + a^4 + 1)*X^3 + (a^7 + a^5 + a^3 + a^2 + a + 1)*X^2 + (a^7 + a^4 + a^3 + a^2)*X + a^5 + a^4 + 1\n",
      "(a^5 + a^2 + a + 1)*X^4 + (a^7 + a^4)*X^3 + (a^6 + a^5 + a^3 + a^2 + 1)*X^2 + (a^6 + a^5 + a^4 + a^3 + a^2 + a)*X + a^6 + a^2 + 1\n",
      "0\n",
      "0\n",
      "0\n",
      "(a^6 + a^3 + 1)*X^4 + (a^7 + 1)*X^3 + (a^6 + a^4 + a^3 + a)*X^2 + (a^7 + a^6 + a^3 + a^2 + 1)*X + a^5 + a^3 + 1\n",
      "0\n",
      "0\n",
      "(a^7 + a^5 + 1)*X^4 + (a^7 + a^5 + a^2 + a + 1)*X^3 + (a^5 + a^2)*X^2 + (a^6 + a^4 + a^2 + a)*X + a^7 + a^6 + a^5 + a^4 + a^3 + a^2 + a + 1\n",
      "(a^4 + a^2 + a)*X^4 + (a^6 + a^5 + a^3 + a^2)*X^3 + a^6*X^2 + (a^7 + a^4 + a^3)*X + a^4 + a^3\n",
      "(a^6 + a^3 + a^2 + a + 1)*X^4 + (a^6 + a^5 + a^4 + a^3 + a^2 + a + 1)*X^3 + (a^7 + a^4 + a^2)*X^2 + (a^7 + a^6 + a^5 + a^4 + a^3 + a)*X + a^6 + a^5 + a^2\n",
      "0\n",
      "(a^7 + a^2 + 1)*X^4 + (a^7 + a^5 + a^4 + a)*X^3 + (a^5 + a^4 + a^2 + 1)*X^2 + (a^7 + a^6 + a^5 + a^3 + a^2)*X + a^7 + a^5 + a^2 + a + 1\n",
      "0\n",
      "(a^7 + a^6 + a^2 + 1)*X^4 + (a^7 + a^4 + a^2)*X^3 + (a^6 + a^5 + 1)*X^2 + a^5*X + a^6 + a^4 + a^2\n",
      "0\n",
      "(a^3 + a^2 + 1)*X^4 + (a^7 + a^5 + a^2 + a + 1)*X^3 + (a^3 + a)*X^2 + (a^6 + a^3 + 1)*X + a^6 + a^2 + a + 1\n",
      "(a^7 + a^6 + a^5 + a^4 + a^3 + a)*X^4 + (a^7 + a^6 + a^3 + a^2 + a)*X^3 + (a^7 + a^6 + a^5 + a^4 + a + 1)*X^2 + (a^4 + 1)*X + a^7 + a^3 + a\n",
      "0\n",
      "(a^6 + a^4 + a^2 + a + 1)*X^4 + (a^7 + a^6 + a^4)*X^3 + (a^6 + a^4 + a^3 + a^2 + a + 1)*X^2 + (a^4 + a^3)*X + a^3 + a^2 + a\n",
      "0\n",
      "(a^7 + a^5 + a^4 + 1)*X^4 + (a^6 + a^4 + 1)*X^3 + (a^3 + a^2 + a + 1)*X^2 + (a^7 + a^3 + a^2 + 1)*X + a^6 + a^4 + a^3 + a^2 + a + 1\n",
      "0\n",
      "(a^7 + a^6 + a^5)*X^4 + (a^7 + a^6 + a^5 + a^4 + a^3 + 1)*X^3 + (a^5 + a^2)*X^2 + (a^7 + a^6 + a^3 + a + 1)*X + a^7 + a + 1\n",
      "(a^7 + a^6 + a^4 + a^3 + a^2 + a)*X^4 + (a^6 + a^4 + a^3 + a^2 + 1)*X^3 + (a^5 + a^4 + a^2 + a)*X^2 + a^3*X + a^6 + a^3 + a\n",
      "0\n",
      "(a^7 + a^5 + a^3 + a^2 + 1)*X^4 + (a^7 + a^6 + a^5)*X^3 + (a^5 + a^4 + a^3 + 1)*X^2 + (a^4 + a^3 + a)*X + a^6 + a^4 + a^3 + a^2 + 1\n"
     ]
    }
   ],
   "source": [
    "r = n-k\n",
    "grs_decoded = [decoding_with_potential_errors(word, v, a) for word in grs_error]"
   ]
  },
  {
   "cell_type": "code",
   "execution_count": 40,
   "metadata": {
    "vscode": {
     "languageId": "python"
    }
   },
   "outputs": [],
   "source": [
    "def Syndrome(y_prime, A, V):\n",
    "    S = R.zero()\n",
    "    for i in range(n):\n",
    "        L = Li(i, A)\n",
    "        S += y_prime[i]/(V[i] * L(A[i])) * sum([(A[i] * X)**j for j in range(r)])\n",
    "    return S\n",
    "\n",
    "def Clef(S):\n",
    "    rr = [X**r, S]\n",
    "    u = [R.one(), R.zero()]\n",
    "    v = [R.zero(), R.one()]\n",
    "    q = [R.zero()]\n",
    "    j = 1\n",
    "    while rr[j].degree() >= r/2:\n",
    "        q.append(rr[j-1] // rr[j])\n",
    "        rr.append(rr[j-1] % rr[j])\n",
    "        u.append(u[j-1] - u[j]*q[j])\n",
    "        v.append(v[j-1] - v[j]*q[j])\n",
    "        j += 1\n",
    "    sigma = v[j]\n",
    "    omega = rr[j]\n",
    "\n",
    "    return sigma/sigma(0), omega/sigma(0)\n",
    "\n",
    "def Erreur(sigma, omega, A, V):\n",
    "    e = [0]*n\n",
    "    B = [sigma(1/A[b]) == 0 for b in range(n)]\n",
    "\n",
    "    for b, i in enumerate(B):\n",
    "        if i == True:\n",
    "            L = Li(b, A)\n",
    "            e[b] = -A[b] * omega(1/A[b]) * V[b] * L(A[b]) * 1/sigma.derivative()(1/A[b])\n",
    "    return e"
   ]
  },
  {
   "cell_type": "code",
   "execution_count": 103,
   "metadata": {
    "vscode": {
     "languageId": "python"
    }
   },
   "outputs": [],
   "source": [
    "def decoding_with_potential_errors(y, V, A):\n",
    "    S = Syndrome(y, A, V)\n",
    "    if S == 0 :\n",
    "        return decodeGRS(y, V, A)\n",
    "    else : \n",
    "        sigma, omega = Clef(S)\n",
    "        e = Erreur(sigma, omega, A, V)\n",
    "        yc = [i-j for i, j in zip (y, e)]\n",
    "        return decodeGRS(yc, V, A)"
   ]
  },
  {
   "cell_type": "code",
   "execution_count": 99,
   "metadata": {
    "vscode": {
     "languageId": "python"
    }
   },
   "outputs": [],
   "source": [
    "gathered_message = gather(grs_decoded)"
   ]
  },
  {
   "cell_type": "code",
   "execution_count": 100,
   "metadata": {
    "vscode": {
     "languageId": "python"
    }
   },
   "outputs": [
    {
     "data": {
      "text/plain": [
       "[47,\n",
       " 42,\n",
       " 85,\n",
       " 1,\n",
       " 6,\n",
       " 47,\n",
       " 85,\n",
       " 12,\n",
       " 6,\n",
       " 47,\n",
       " 6,\n",
       " 82,\n",
       " 128,\n",
       " 0,\n",
       " 128,\n",
       " 0,\n",
       " 6,\n",
       " 42,\n",
       " 85,\n",
       " 82,\n",
       " 85,\n",
       " 85,\n",
       " 128,\n",
       " 0,\n",
       " 6,\n",
       " 42,\n",
       " 85,\n",
       " 82,\n",
       " 85,\n",
       " 42,\n",
       " 6,\n",
       " 42,\n",
       " 85,\n",
       " 128,\n",
       " 85,\n",
       " 128,\n",
       " 128,\n",
       " 0,\n",
       " 85,\n",
       " 128,\n",
       " 6,\n",
       " 57,\n",
       " 6,\n",
       " 85,\n",
       " 85,\n",
       " 42,\n",
       " 128,\n",
       " 0,\n",
       " 85,\n",
       " 6,\n",
       " 6,\n",
       " 85,\n",
       " 85,\n",
       " 57,\n",
       " 6,\n",
       " 85,\n",
       " 85,\n",
       " 57,\n",
       " 128,\n",
       " 12,\n",
       " 85,\n",
       " 6,\n",
       " 85,\n",
       " 82,\n",
       " 6,\n",
       " 85,\n",
       " 85,\n",
       " 42,\n",
       " 85,\n",
       " 57,\n",
       " 6,\n",
       " 42,\n",
       " 6,\n",
       " 85,\n",
       " 85,\n",
       " 42,\n",
       " 85,\n",
       " 57,\n",
       " 6,\n",
       " 85,\n",
       " 6,\n",
       " 42,\n",
       " 85,\n",
       " 57,\n",
       " 85,\n",
       " 42,\n",
       " 128,\n",
       " 0,\n",
       " 85,\n",
       " 42,\n",
       " 85,\n",
       " 115,\n",
       " 85,\n",
       " 117,\n",
       " 85,\n",
       " 117,\n",
       " 85,\n",
       " 47,\n",
       " 85,\n",
       " 53,\n",
       " 6,\n",
       " 82,\n",
       " 128,\n",
       " 0,\n",
       " 85,\n",
       " 42,\n",
       " 85,\n",
       " 1,\n",
       " 128,\n",
       " 0,\n",
       " 6,\n",
       " 85,\n",
       " 85,\n",
       " 1,\n",
       " 128,\n",
       " 0,\n",
       " 42,\n",
       " 115,\n",
       " 82]"
      ]
     },
     "execution_count": 100,
     "metadata": {},
     "output_type": "execute_result"
    }
   ],
   "source": [
    "gathered_message"
   ]
  },
  {
   "cell_type": "code",
   "execution_count": 101,
   "metadata": {
    "vscode": {
     "languageId": "python"
    }
   },
   "outputs": [],
   "source": [
    "decoded_message = decode_rsa(gathered_message, d, N)"
   ]
  },
  {
   "cell_type": "code",
   "execution_count": 102,
   "metadata": {
    "vscode": {
     "languageId": "python"
    }
   },
   "outputs": [
    {
     "data": {
      "text/plain": [
       "'Saulut  sdf sdcsbb bxvc gvhvh,gdvchsvchvshc comment ca va ?'"
      ]
     },
     "execution_count": 102,
     "metadata": {},
     "output_type": "execute_result"
    }
   ],
   "source": [
    "alphabetise_safe(decoded_message, N)"
   ]
  },
  {
   "cell_type": "code",
   "execution_count": null,
   "metadata": {
    "vscode": {
     "languageId": "python"
    }
   },
   "outputs": [],
   "source": []
  },
  {
   "cell_type": "code",
   "execution_count": null,
   "metadata": {
    "vscode": {
     "languageId": "python"
    }
   },
   "outputs": [],
   "source": []
  },
  {
   "cell_type": "code",
   "execution_count": null,
   "metadata": {
    "vscode": {
     "languageId": "python"
    }
   },
   "outputs": [],
   "source": []
  }
 ],
 "metadata": {
  "kernelspec": {
   "display_name": "SageMath 9.6",
   "language": "sage",
   "name": "sagemath"
  },
  "language_info": {
   "codemirror_mode": {
    "name": "ipython",
    "version": 3
   },
   "file_extension": ".py",
   "mimetype": "text/x-python",
   "name": "sage",
   "nbconvert_exporter": "python",
   "pygments_lexer": "ipython3",
   "version": "3.8.10"
  },
  "orig_nbformat": 4
 },
 "nbformat": 4,
 "nbformat_minor": 2
}
