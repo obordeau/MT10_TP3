{
 "cells": [
  {
   "cell_type": "code",
   "execution_count": 4,
   "metadata": {},
   "outputs": [],
   "source": [
    "F2 = GF(2)"
   ]
  },
  {
   "cell_type": "code",
   "execution_count": 5,
   "metadata": {},
   "outputs": [],
   "source": [
    "R.<X> = F2['X']"
   ]
  },
  {
   "cell_type": "code",
   "execution_count": 6,
   "metadata": {},
   "outputs": [
    {
     "data": {
      "text/plain": [
       "X * (X + 1) * (X^2 + X + 1) * (X^3 + X + 1) * (X^3 + X^2 + 1) * (X^6 + X + 1) * (X^6 + X^3 + 1) * (X^6 + X^4 + X^2 + X + 1) * (X^6 + X^4 + X^3 + X + 1) * (X^6 + X^5 + 1) * (X^6 + X^5 + X^2 + X + 1) * (X^6 + X^5 + X^3 + X^2 + 1) * (X^6 + X^5 + X^4 + X + 1) * (X^6 + X^5 + X^4 + X^2 + 1)"
      ]
     },
     "execution_count": 6,
     "metadata": {},
     "output_type": "execute_result"
    }
   ],
   "source": [
    "factor(pow(X, 64) - X)"
   ]
  },
  {
   "cell_type": "code",
   "execution_count": 7,
   "metadata": {},
   "outputs": [],
   "source": [
    "P = X**3 + X + 1"
   ]
  },
  {
   "cell_type": "code",
   "execution_count": 8,
   "metadata": {},
   "outputs": [
    {
     "data": {
      "text/plain": [
       "True"
      ]
     },
     "execution_count": 8,
     "metadata": {},
     "output_type": "execute_result"
    }
   ],
   "source": [
    "P.is_irreducible()"
   ]
  },
  {
   "cell_type": "code",
   "execution_count": 10,
   "metadata": {},
   "outputs": [
    {
     "data": {
      "text/plain": [
       "40"
      ]
     },
     "execution_count": 10,
     "metadata": {},
     "output_type": "execute_result"
    }
   ],
   "source": [
    "euler_phi(100)"
   ]
  },
  {
   "cell_type": "code",
   "execution_count": 1,
   "metadata": {},
   "outputs": [
    {
     "data": {
      "text/plain": [
       "40"
      ]
     },
     "execution_count": 1,
     "metadata": {},
     "output_type": "execute_result"
    }
   ],
   "source": [
    "def phiMobius(n):\n",
    "    p = 0\n",
    "    for d in divisors(n):\n",
    "        p += moebius(n /d ) * d\n",
    "    return p\n",
    "\n",
    "phiMobius(100)"
   ]
  },
  {
   "cell_type": "code",
   "execution_count": 2,
   "metadata": {},
   "outputs": [],
   "source": [
    "def irr(p, n):\n",
    "    res = 0\n",
    "    for d in divisors(n):\n",
    "        res += moebius(n/d) * pow(p, d)\n",
    "    return res/n"
   ]
  },
  {
   "cell_type": "code",
   "execution_count": 3,
   "metadata": {},
   "outputs": [],
   "source": [
    "tab = []\n",
    "for i in [2, 3, 5]:\n",
    "    row = []\n",
    "    for j in range(1, 11):\n",
    "        row.append(irr(i, j))\n",
    "    tab.append(row)"
   ]
  },
  {
   "cell_type": "code",
   "execution_count": 4,
   "metadata": {},
   "outputs": [
    {
     "data": {
      "text/plain": [
       "[[2, 1, 2, 3, 6, 9, 18, 30, 56, 99],\n",
       " [3, 3, 8, 18, 48, 116, 312, 810, 2184, 5880],\n",
       " [5, 10, 40, 150, 624, 2580, 11160, 48750, 217000, 976248]]"
      ]
     },
     "execution_count": 4,
     "metadata": {},
     "output_type": "execute_result"
    }
   ],
   "source": [
    "tab"
   ]
  },
  {
   "cell_type": "code",
   "execution_count": 5,
   "metadata": {},
   "outputs": [
    {
     "data": {
      "text/plain": [
       "226"
      ]
     },
     "execution_count": 5,
     "metadata": {},
     "output_type": "execute_result"
    }
   ],
   "source": [
    "sum(tab[0])"
   ]
  },
  {
   "cell_type": "code",
   "execution_count": 2,
   "metadata": {},
   "outputs": [],
   "source": [
    "def codeGRS(X, V, A):\n",
    "    code = []\n",
    "    for a, v in zip(A, V):\n",
    "        code.append(v * f(X, a))\n",
    "    return code\n"
   ]
  },
  {
   "cell_type": "code",
   "execution_count": 3,
   "metadata": {},
   "outputs": [],
   "source": [
    "def f(X, a):\n",
    "    exp = 0\n",
    "    sum = 0\n",
    "    for x in X:\n",
    "        sum += x * pow(a, exp)\n",
    "        exp += 1\n",
    "    return sum"
   ]
  },
  {
   "cell_type": "code",
   "execution_count": 4,
   "metadata": {},
   "outputs": [
    {
     "data": {
      "text/plain": [
       "[1900, 1150, 264110, 56448, 90280]"
      ]
     },
     "execution_count": 4,
     "metadata": {},
     "output_type": "execute_result"
    }
   ],
   "source": [
    "codeGRS([2,4,5,9,8], [2,5,7,9,4], [3,2,8,5,7])"
   ]
  },
  {
   "cell_type": "code",
   "execution_count": 2,
   "metadata": {},
   "outputs": [],
   "source": [
    "q = 2 ** 8\n",
    "n = 8\n",
    "k = 4\n",
    "r = n - k\n",
    "G = GF(q, 'a')\n",
    "c = G.gen()\n",
    "R = PolynomialRing(G, 'X')\n",
    "X = R.gen()\n",
    "\n",
    "a = G.multiplicative_generator()\n",
    "v = [G.one() for i in range(n)]\n",
    "alpha = [a**i for i in range(n)]\n"
   ]
  },
  {
   "cell_type": "code",
   "execution_count": 6,
   "metadata": {},
   "outputs": [
    {
     "data": {
      "text/plain": [
       "X"
      ]
     },
     "execution_count": 6,
     "metadata": {},
     "output_type": "execute_result"
    }
   ],
   "source": [
    "R.gen()"
   ]
  },
  {
   "cell_type": "code",
   "execution_count": 1,
   "metadata": {},
   "outputs": [],
   "source": [
    "p = 2\n",
    "n = 6\n",
    "F2 = GF(p)\n",
    "R = F2.polynomial_ring()\n",
    "prod = R.one() #utilise pour le produit\n",
    "for d in divisors(n):\n",
    "  for poly in R.polynomials(of_degree = d):\n",
    "    if poly.is_irreducible() and poly.is_monic(): # si irreductible et unitaire\n",
    "      prod *= poly"
   ]
  },
  {
   "cell_type": "code",
   "execution_count": 7,
   "metadata": {},
   "outputs": [
    {
     "data": {
      "text/plain": [
       "True"
      ]
     },
     "execution_count": 7,
     "metadata": {},
     "output_type": "execute_result"
    }
   ],
   "source": [
    "prod == R(x ** (p ** n) - x)"
   ]
  },
  {
   "cell_type": "code",
   "execution_count": 1,
   "metadata": {},
   "outputs": [],
   "source": [
    "def encode_rsa(message, e, N):\n",
    "    return map(lambda x: power_mod(int(x), int(e), int(N)), message)\n",
    "\n",
    "def decode_rsa(cipher, d, N):\n",
    "    return list(map(lambda x: power_mod(x, int(d), int(N)), cipher))\n",
    "\n",
    "def randPremier(start, end):\n",
    "    while 1:\n",
    "        nombre = randint(start, end)\n",
    "        if is_prime(nombre) : \n",
    "            return nombre"
   ]
  },
  {
   "cell_type": "code",
   "execution_count": 2,
   "metadata": {},
   "outputs": [],
   "source": [
    "def chooseSize(l, N):\n",
    "    for size in reversed(range(floor(ln(N)/ln(2) + 1))):\n",
    "        if l * 8 % size == 0:\n",
    "            return size\n",
    "\n",
    "def numerise_safe(message, N):\n",
    "    result = []\n",
    "    binaryMessage = BinaryStrings().encoding(message)\n",
    "    size = chooseSize(len(message), N)\n",
    "    for i in range(0, len(binaryMessage), size):\n",
    "        sum = 0\n",
    "        for j in range(size):\n",
    "            sum += int(str(binaryMessage[i+j])) * pow(2, size - j - 1)\n",
    "        result.append(sum)\n",
    "    result.append(size)\n",
    "    return result\n",
    "\n",
    "def toBin(n, size):\n",
    "    res = bin(n)[2:]\n",
    "    if len(res) < size:\n",
    "        res = (size-len(res))*'0' + res\n",
    "    return res\n",
    "\n",
    "def alphabetise_safe(message, N) :\n",
    "    result = []\n",
    "    size = message.pop(-1)\n",
    "    for digit in message:\n",
    "        result.append(toBin(int(digit), size))\n",
    "    binaryMessage = ''.join(result)\n",
    "    alphabeticMessage = ''\n",
    "    for i in range(0, len(binaryMessage), 8):\n",
    "        alphabeticMessage = alphabeticMessage + chr(int(binaryMessage[i:8+i], 2))\n",
    "    return(alphabeticMessage)\n",
    "\n",
    "import random\n",
    "def cleRSA (m):\n",
    "    result = {}\n",
    "    result[\"p\"] = chooseP(m)\n",
    "    result[\"q\"] = chooseQ(m, result[\"p\"])\n",
    "    result[\"e\"] = chooseE(result[\"p\"], result[\"q\"])\n",
    "    result[\"N\"] = result[\"p\"]*result[\"q\"]\n",
    "    result[\"d\"] = inv_modulo(result[\"e\"], (result[\"p\"]-1)*(result[\"q\"]-1))\n",
    "    result.pop(\"p\")\n",
    "    result.pop(\"q\")\n",
    "    return result\n",
    "\n",
    "def inv_modulo(x, m):\n",
    "    (p, u, v) = xgcd(x, m)\n",
    "    if p == 1: return u % abs(m)\n",
    "    else: raise Exception(\"%s et %s ne sont pas premiers entre eux\" % (x, m))\n",
    "\n",
    "def chooseP(m):\n",
    "    return randPremier(int((1 / sqrt(2)) * pow(2,m/2)), int(pow(2,m/2)))\n",
    "\n",
    "def chooseQ(m, p):\n",
    "    while True:\n",
    "        q = randPremier(int(1/sqrt(2)*pow(2,m/2)),int(pow(2,m/2)))\n",
    "        if q != p:\n",
    "            return q\n",
    "\n",
    "def chooseE(p, q):\n",
    "    phi = (p-1)*(q-1)\n",
    "    while 1:\n",
    "        e = randint(1, phi)\n",
    "        if gcd(e, phi) == 1 :\n",
    "            return e"
   ]
  },
  {
   "cell_type": "code",
   "execution_count": 3,
   "metadata": {},
   "outputs": [],
   "source": [
    "def codeGRS(message, V, A):\n",
    "    x = []\n",
    "    for  c in message:\n",
    "        x.append(C[c])\n",
    "    f = R.zero()\n",
    "    for i in range(k):\n",
    "        f += x[i] * X**i\n",
    "    return [v*f(a) for v, a in zip(V, A)]\n",
    "\n",
    "def Li(i, A):\n",
    "    L = R.one()\n",
    "    for j in range(n):\n",
    "        if i != j:\n",
    "            L *= X - A[j]\n",
    "    return L \n",
    "\n",
    "def decodeGRS(Y, V, A):\n",
    "    f_alpha = [y/v for y, v in zip(Y, V)]\n",
    "    f = R.zero()\n",
    "    for i in range(n):\n",
    "        L = Li(i, A)\n",
    "        f += (f_alpha[i]*L)/L(A[i])\n",
    "    message = []\n",
    "    for c in f.coefficients() :\n",
    "        message.append(C.index(c))\n",
    "    return message"
   ]
  },
  {
   "cell_type": "code",
   "execution_count": 4,
   "metadata": {},
   "outputs": [],
   "source": [
    "q = 2**8\n",
    "Fq = GF(q, name='a')\n",
    "R.<X> = Fq['X']\n",
    "C = Fq.list()\n",
    "\n",
    "n, k = 8, 3\n",
    "\n",
    "x = [254, 20, 11]\n",
    "\n",
    "#Generation de v\n",
    "v = []\n",
    "for i in range(n):\n",
    "    v.append(C[randint(1, len(C)-1)])\n",
    "\n",
    "#Generation de a\n",
    "a = []\n",
    "for i in range(n):\n",
    "    c = C[randint(1, len(C)-1)]\n",
    "    while c in a:\n",
    "        c = C[randint(1, len(C)-1)] #generer un element unique\n",
    "    a.append(c)"
   ]
  },
  {
   "cell_type": "code",
   "execution_count": 11,
   "metadata": {},
   "outputs": [],
   "source": [
    "numerised_message = numerise_safe(\"Saulut comment ca va ?\", 3 * 256)"
   ]
  },
  {
   "cell_type": "code",
   "execution_count": 33,
   "metadata": {},
   "outputs": [],
   "source": [
    "cle = cleRSA(32)\n",
    "e = cle['e']\n",
    "N = cle['N']\n",
    "d = cle['d']"
   ]
  },
  {
   "cell_type": "code",
   "execution_count": 34,
   "metadata": {},
   "outputs": [],
   "source": [
    "crypted_message = encode_rsa(numerised_message, e, N)"
   ]
  },
  {
   "cell_type": "code",
   "execution_count": 35,
   "metadata": {},
   "outputs": [
    {
     "name": "stdout",
     "output_type": "stream",
     "text": [
      "[403267995, 2495441767, 1481199443, 821002481, 1481199443, 1105548914, 1729235335, 2018192208, 460062343, 170766826, 170766826, 1072108229, 784943889, 1105548914, 1729235335, 2018192208, 2495441767, 1729235335, 2092947110, 2495441767, 1729235335, 490824629]\n"
     ]
    }
   ],
   "source": [
    "print(list(crypted_message))"
   ]
  },
  {
   "cell_type": "code",
   "execution_count": 81,
   "metadata": {},
   "outputs": [],
   "source": [
    "def split(n):\n",
    "    bin_str = bin(n)[2:]\n",
    "    while len(bin_str) % 8 != 0:\n",
    "        bin_str = '0' + bin_str\n",
    "    print(bin_str)\n",
    "    split_bin = [bin_str[i:8+i] for i in range(len(bin_str) / 8)]\n",
    "    return [int(letter, base = 2) for letter in split_bin]"
   ]
  },
  {
   "cell_type": "code",
   "execution_count": 71,
   "metadata": {},
   "outputs": [
    {
     "data": {
      "text/plain": [
       "[24, 48, 96, 192]"
      ]
     },
     "execution_count": 71,
     "metadata": {},
     "output_type": "execute_result"
    }
   ],
   "source": [
    "split(403267995)"
   ]
  },
  {
   "cell_type": "code",
   "execution_count": 89,
   "metadata": {},
   "outputs": [],
   "source": [
    "def gather(list):\n",
    "    bin_str = ''\n",
    "    for letter in list:\n",
    "        bin_letter = bin(letter)[2:]\n",
    "        while len(bin_letter) < 8:\n",
    "            bin_letter = '0' + bin_letter\n",
    "        bin_str = bin_str + bin_letter\n",
    "    return bin_str"
   ]
  },
  {
   "cell_type": "code",
   "execution_count": 90,
   "metadata": {},
   "outputs": [
    {
     "name": "stdout",
     "output_type": "stream",
     "text": [
      "00011000000010010110000110011011\n"
     ]
    },
    {
     "data": {
      "text/plain": [
       "'00011000001100000110000011000000'"
      ]
     },
     "execution_count": 90,
     "metadata": {},
     "output_type": "execute_result"
    }
   ],
   "source": [
    "gather(split(403267995))"
   ]
  },
  {
   "cell_type": "code",
   "execution_count": 87,
   "metadata": {},
   "outputs": [
    {
     "data": {
      "text/plain": [
       "'0b1100000'"
      ]
     },
     "execution_count": 87,
     "metadata": {},
     "output_type": "execute_result"
    }
   ],
   "source": [
    "bin(96)"
   ]
  },
  {
   "cell_type": "code",
   "execution_count": null,
   "metadata": {},
   "outputs": [],
   "source": []
  }
 ],
 "metadata": {
  "kernelspec": {
   "display_name": "SageMath 9.6",
   "language": "sage",
   "name": "sagemath"
  },
  "language_info": {
   "codemirror_mode": {
    "name": "ipython",
    "version": 3
   },
   "file_extension": ".py",
   "mimetype": "text/x-python",
   "name": "python",
   "nbconvert_exporter": "python",
   "pygments_lexer": "ipython3",
   "version": "3.10.4"
  },
  "orig_nbformat": 4
 },
 "nbformat": 4,
 "nbformat_minor": 2
}
